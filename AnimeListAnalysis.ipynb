{
  "nbformat": 4,
  "nbformat_minor": 0,
  "metadata": {
    "colab": {
      "provenance": [],
      "toc_visible": true,
      "authorship_tag": "ABX9TyPAvWDGykAQOOaaPzD514bY",
      "include_colab_link": true
    },
    "kernelspec": {
      "name": "python3",
      "display_name": "Python 3"
    },
    "language_info": {
      "name": "python"
    }
  },
  "cells": [
    {
      "cell_type": "markdown",
      "metadata": {
        "id": "view-in-github",
        "colab_type": "text"
      },
      "source": [
        "<a href=\"https://colab.research.google.com/github/DanRoBe/AnimeListAnalysis/blob/main/AnimeListAnalysis.ipynb\" target=\"_parent\"><img src=\"https://colab.research.google.com/assets/colab-badge.svg\" alt=\"Open In Colab\"/></a>"
      ]
    },
    {
      "cell_type": "markdown",
      "source": [
        "#**Análisis de listado de animes** 🎎"
      ],
      "metadata": {
        "id": "SrHOO7CVJFny"
      }
    },
    {
      "cell_type": "markdown",
      "source": [
        "Para la realización de este análisis se ha empleado un dataset alojado en el siguiente link: https://www.kaggle.com/datasets/CooperUnion/anime-recommendations-database\n",
        "\n",
        "El número de columnas es de 7\n",
        "\n",
        "##Columnas##\n",
        "\n",
        "*   **Anime_ID:** Cualitativa nominal (Código numérico de cada anime)\n",
        "*   **Name:** Cualitativa nominal (Nombre del anime)\n",
        "*   **Genre:** Cualitativa nominal (Géneros del anime)\n",
        "*   **Type:** Cualitativa nominal (Formato)\n",
        "*   **Episodes:** Cuantitativa discreta (Número de episodios)\n",
        "*   **Rating:** Cuantitativa continua (Valoración promedio)\n",
        "*   **Members:** Cuantitativa discreta (Número de miembros en la comunidad)\n",
        "\n",
        "El número de registros es de 12294"
      ],
      "metadata": {
        "id": "-rdq0Pc5C5Es"
      }
    },
    {
      "cell_type": "markdown",
      "source": [
        "# Primeros pasos\n"
      ],
      "metadata": {
        "id": "UcqjQ460PALL"
      }
    },
    {
      "cell_type": "markdown",
      "source": [
        "Importamos la librería Pandas, que será la que emplearemos para realizar el análisis exploratorio de los datos (EDA)"
      ],
      "metadata": {
        "id": "GmNiy5H2P78b"
      }
    },
    {
      "cell_type": "code",
      "source": [
        "import pandas as pd"
      ],
      "metadata": {
        "id": "Ox07sFHU-DJf"
      },
      "execution_count": null,
      "outputs": []
    },
    {
      "cell_type": "markdown",
      "source": [
        "A continuación tendremos que cargar el dataset. Lo haremos de dos formas diferentes, utilizando Google Drive y también mediante el archivo alojado en GitHub, que será el que se utilizará para el seguimiento del proceso desde esta plataforma. Llamaremos \"anime\" a nuestro dataframe."
      ],
      "metadata": {
        "id": "CcHtfWiPQPQy"
      }
    },
    {
      "cell_type": "code",
      "source": [
        "# from google.colab import drive\n",
        "# drive.mount('/content/drive')"
      ],
      "metadata": {
        "id": "FX58v-bpoc1J"
      },
      "execution_count": null,
      "outputs": []
    },
    {
      "cell_type": "code",
      "source": [
        "# anime = pd.read_csv('/content/drive/MyDrive/CSV/anime.csv')"
      ],
      "metadata": {
        "id": "WVSjqAb1-awh"
      },
      "execution_count": null,
      "outputs": []
    },
    {
      "cell_type": "code",
      "source": [
        "anime = pd.read_csv('https://raw.githubusercontent.com/DanRoBe/AnimeListAnalysis/main/anime.csv')"
      ],
      "metadata": {
        "id": "PHgjC_JfQ8V9"
      },
      "execution_count": null,
      "outputs": []
    },
    {
      "cell_type": "markdown",
      "source": [
        "A continuación, hacemos un print para visualizar el aspecto de nuestra tabla, y también un display para una vista más estructurada."
      ],
      "metadata": {
        "id": "k3FMR2hCihSV"
      }
    },
    {
      "cell_type": "code",
      "source": [
        "print(anime)"
      ],
      "metadata": {
        "colab": {
          "base_uri": "https://localhost:8080/"
        },
        "id": "OBds7iJE_5Oq",
        "outputId": "a28d9c41-0fcc-4e7b-c01f-5ac7759d46f3"
      },
      "execution_count": null,
      "outputs": [
        {
          "output_type": "stream",
          "name": "stdout",
          "text": [
            "       anime_id                                               name  \\\n",
            "0         32281                                     Kimi no Na wa.   \n",
            "1          5114                   Fullmetal Alchemist: Brotherhood   \n",
            "2         28977                                           Gintama°   \n",
            "3          9253                                        Steins;Gate   \n",
            "4          9969                                      Gintama&#039;   \n",
            "...         ...                                                ...   \n",
            "12289      9316       Toushindai My Lover: Minami tai Mecha-Minami   \n",
            "12290      5543                                        Under World   \n",
            "12291      5621                     Violence Gekiga David no Hoshi   \n",
            "12292      6133  Violence Gekiga Shin David no Hoshi: Inma Dens...   \n",
            "12293     26081                   Yasuji no Pornorama: Yacchimae!!   \n",
            "\n",
            "                                                   genre   type episodes  \\\n",
            "0                   Drama, Romance, School, Supernatural  Movie        1   \n",
            "1      Action, Adventure, Drama, Fantasy, Magic, Mili...     TV       64   \n",
            "2      Action, Comedy, Historical, Parody, Samurai, S...     TV       51   \n",
            "3                                       Sci-Fi, Thriller     TV       24   \n",
            "4      Action, Comedy, Historical, Parody, Samurai, S...     TV       51   \n",
            "...                                                  ...    ...      ...   \n",
            "12289                                             Hentai    OVA        1   \n",
            "12290                                             Hentai    OVA        1   \n",
            "12291                                             Hentai    OVA        4   \n",
            "12292                                             Hentai    OVA        1   \n",
            "12293                                             Hentai  Movie        1   \n",
            "\n",
            "       rating  members  \n",
            "0        9.37   200630  \n",
            "1        9.26   793665  \n",
            "2        9.25   114262  \n",
            "3        9.17   673572  \n",
            "4        9.16   151266  \n",
            "...       ...      ...  \n",
            "12289    4.15      211  \n",
            "12290    4.28      183  \n",
            "12291    4.88      219  \n",
            "12292    4.98      175  \n",
            "12293    5.46      142  \n",
            "\n",
            "[12294 rows x 7 columns]\n"
          ]
        }
      ]
    },
    {
      "cell_type": "code",
      "source": [
        "display(anime)"
      ],
      "metadata": {
        "colab": {
          "base_uri": "https://localhost:8080/",
          "height": 423
        },
        "id": "5tcZzUTri0tf",
        "outputId": "fc79f6c4-3afc-4208-edc1-fd8944f8b501"
      },
      "execution_count": null,
      "outputs": [
        {
          "output_type": "display_data",
          "data": {
            "text/plain": [
              "       anime_id                                               name  \\\n",
              "0         32281                                     Kimi no Na wa.   \n",
              "1          5114                   Fullmetal Alchemist: Brotherhood   \n",
              "2         28977                                           Gintama°   \n",
              "3          9253                                        Steins;Gate   \n",
              "4          9969                                      Gintama&#039;   \n",
              "...         ...                                                ...   \n",
              "12289      9316       Toushindai My Lover: Minami tai Mecha-Minami   \n",
              "12290      5543                                        Under World   \n",
              "12291      5621                     Violence Gekiga David no Hoshi   \n",
              "12292      6133  Violence Gekiga Shin David no Hoshi: Inma Dens...   \n",
              "12293     26081                   Yasuji no Pornorama: Yacchimae!!   \n",
              "\n",
              "                                                   genre   type episodes  \\\n",
              "0                   Drama, Romance, School, Supernatural  Movie        1   \n",
              "1      Action, Adventure, Drama, Fantasy, Magic, Mili...     TV       64   \n",
              "2      Action, Comedy, Historical, Parody, Samurai, S...     TV       51   \n",
              "3                                       Sci-Fi, Thriller     TV       24   \n",
              "4      Action, Comedy, Historical, Parody, Samurai, S...     TV       51   \n",
              "...                                                  ...    ...      ...   \n",
              "12289                                             Hentai    OVA        1   \n",
              "12290                                             Hentai    OVA        1   \n",
              "12291                                             Hentai    OVA        4   \n",
              "12292                                             Hentai    OVA        1   \n",
              "12293                                             Hentai  Movie        1   \n",
              "\n",
              "       rating  members  \n",
              "0        9.37   200630  \n",
              "1        9.26   793665  \n",
              "2        9.25   114262  \n",
              "3        9.17   673572  \n",
              "4        9.16   151266  \n",
              "...       ...      ...  \n",
              "12289    4.15      211  \n",
              "12290    4.28      183  \n",
              "12291    4.88      219  \n",
              "12292    4.98      175  \n",
              "12293    5.46      142  \n",
              "\n",
              "[12294 rows x 7 columns]"
            ],
            "text/html": [
              "\n",
              "  <div id=\"df-d78c3475-732b-4c32-8222-566ba7379365\">\n",
              "    <div class=\"colab-df-container\">\n",
              "      <div>\n",
              "<style scoped>\n",
              "    .dataframe tbody tr th:only-of-type {\n",
              "        vertical-align: middle;\n",
              "    }\n",
              "\n",
              "    .dataframe tbody tr th {\n",
              "        vertical-align: top;\n",
              "    }\n",
              "\n",
              "    .dataframe thead th {\n",
              "        text-align: right;\n",
              "    }\n",
              "</style>\n",
              "<table border=\"1\" class=\"dataframe\">\n",
              "  <thead>\n",
              "    <tr style=\"text-align: right;\">\n",
              "      <th></th>\n",
              "      <th>anime_id</th>\n",
              "      <th>name</th>\n",
              "      <th>genre</th>\n",
              "      <th>type</th>\n",
              "      <th>episodes</th>\n",
              "      <th>rating</th>\n",
              "      <th>members</th>\n",
              "    </tr>\n",
              "  </thead>\n",
              "  <tbody>\n",
              "    <tr>\n",
              "      <th>0</th>\n",
              "      <td>32281</td>\n",
              "      <td>Kimi no Na wa.</td>\n",
              "      <td>Drama, Romance, School, Supernatural</td>\n",
              "      <td>Movie</td>\n",
              "      <td>1</td>\n",
              "      <td>9.37</td>\n",
              "      <td>200630</td>\n",
              "    </tr>\n",
              "    <tr>\n",
              "      <th>1</th>\n",
              "      <td>5114</td>\n",
              "      <td>Fullmetal Alchemist: Brotherhood</td>\n",
              "      <td>Action, Adventure, Drama, Fantasy, Magic, Mili...</td>\n",
              "      <td>TV</td>\n",
              "      <td>64</td>\n",
              "      <td>9.26</td>\n",
              "      <td>793665</td>\n",
              "    </tr>\n",
              "    <tr>\n",
              "      <th>2</th>\n",
              "      <td>28977</td>\n",
              "      <td>Gintama°</td>\n",
              "      <td>Action, Comedy, Historical, Parody, Samurai, S...</td>\n",
              "      <td>TV</td>\n",
              "      <td>51</td>\n",
              "      <td>9.25</td>\n",
              "      <td>114262</td>\n",
              "    </tr>\n",
              "    <tr>\n",
              "      <th>3</th>\n",
              "      <td>9253</td>\n",
              "      <td>Steins;Gate</td>\n",
              "      <td>Sci-Fi, Thriller</td>\n",
              "      <td>TV</td>\n",
              "      <td>24</td>\n",
              "      <td>9.17</td>\n",
              "      <td>673572</td>\n",
              "    </tr>\n",
              "    <tr>\n",
              "      <th>4</th>\n",
              "      <td>9969</td>\n",
              "      <td>Gintama&amp;#039;</td>\n",
              "      <td>Action, Comedy, Historical, Parody, Samurai, S...</td>\n",
              "      <td>TV</td>\n",
              "      <td>51</td>\n",
              "      <td>9.16</td>\n",
              "      <td>151266</td>\n",
              "    </tr>\n",
              "    <tr>\n",
              "      <th>...</th>\n",
              "      <td>...</td>\n",
              "      <td>...</td>\n",
              "      <td>...</td>\n",
              "      <td>...</td>\n",
              "      <td>...</td>\n",
              "      <td>...</td>\n",
              "      <td>...</td>\n",
              "    </tr>\n",
              "    <tr>\n",
              "      <th>12289</th>\n",
              "      <td>9316</td>\n",
              "      <td>Toushindai My Lover: Minami tai Mecha-Minami</td>\n",
              "      <td>Hentai</td>\n",
              "      <td>OVA</td>\n",
              "      <td>1</td>\n",
              "      <td>4.15</td>\n",
              "      <td>211</td>\n",
              "    </tr>\n",
              "    <tr>\n",
              "      <th>12290</th>\n",
              "      <td>5543</td>\n",
              "      <td>Under World</td>\n",
              "      <td>Hentai</td>\n",
              "      <td>OVA</td>\n",
              "      <td>1</td>\n",
              "      <td>4.28</td>\n",
              "      <td>183</td>\n",
              "    </tr>\n",
              "    <tr>\n",
              "      <th>12291</th>\n",
              "      <td>5621</td>\n",
              "      <td>Violence Gekiga David no Hoshi</td>\n",
              "      <td>Hentai</td>\n",
              "      <td>OVA</td>\n",
              "      <td>4</td>\n",
              "      <td>4.88</td>\n",
              "      <td>219</td>\n",
              "    </tr>\n",
              "    <tr>\n",
              "      <th>12292</th>\n",
              "      <td>6133</td>\n",
              "      <td>Violence Gekiga Shin David no Hoshi: Inma Dens...</td>\n",
              "      <td>Hentai</td>\n",
              "      <td>OVA</td>\n",
              "      <td>1</td>\n",
              "      <td>4.98</td>\n",
              "      <td>175</td>\n",
              "    </tr>\n",
              "    <tr>\n",
              "      <th>12293</th>\n",
              "      <td>26081</td>\n",
              "      <td>Yasuji no Pornorama: Yacchimae!!</td>\n",
              "      <td>Hentai</td>\n",
              "      <td>Movie</td>\n",
              "      <td>1</td>\n",
              "      <td>5.46</td>\n",
              "      <td>142</td>\n",
              "    </tr>\n",
              "  </tbody>\n",
              "</table>\n",
              "<p>12294 rows × 7 columns</p>\n",
              "</div>\n",
              "      <button class=\"colab-df-convert\" onclick=\"convertToInteractive('df-d78c3475-732b-4c32-8222-566ba7379365')\"\n",
              "              title=\"Convert this dataframe to an interactive table.\"\n",
              "              style=\"display:none;\">\n",
              "        \n",
              "  <svg xmlns=\"http://www.w3.org/2000/svg\" height=\"24px\"viewBox=\"0 0 24 24\"\n",
              "       width=\"24px\">\n",
              "    <path d=\"M0 0h24v24H0V0z\" fill=\"none\"/>\n",
              "    <path d=\"M18.56 5.44l.94 2.06.94-2.06 2.06-.94-2.06-.94-.94-2.06-.94 2.06-2.06.94zm-11 1L8.5 8.5l.94-2.06 2.06-.94-2.06-.94L8.5 2.5l-.94 2.06-2.06.94zm10 10l.94 2.06.94-2.06 2.06-.94-2.06-.94-.94-2.06-.94 2.06-2.06.94z\"/><path d=\"M17.41 7.96l-1.37-1.37c-.4-.4-.92-.59-1.43-.59-.52 0-1.04.2-1.43.59L10.3 9.45l-7.72 7.72c-.78.78-.78 2.05 0 2.83L4 21.41c.39.39.9.59 1.41.59.51 0 1.02-.2 1.41-.59l7.78-7.78 2.81-2.81c.8-.78.8-2.07 0-2.86zM5.41 20L4 18.59l7.72-7.72 1.47 1.35L5.41 20z\"/>\n",
              "  </svg>\n",
              "      </button>\n",
              "      \n",
              "  <style>\n",
              "    .colab-df-container {\n",
              "      display:flex;\n",
              "      flex-wrap:wrap;\n",
              "      gap: 12px;\n",
              "    }\n",
              "\n",
              "    .colab-df-convert {\n",
              "      background-color: #E8F0FE;\n",
              "      border: none;\n",
              "      border-radius: 50%;\n",
              "      cursor: pointer;\n",
              "      display: none;\n",
              "      fill: #1967D2;\n",
              "      height: 32px;\n",
              "      padding: 0 0 0 0;\n",
              "      width: 32px;\n",
              "    }\n",
              "\n",
              "    .colab-df-convert:hover {\n",
              "      background-color: #E2EBFA;\n",
              "      box-shadow: 0px 1px 2px rgba(60, 64, 67, 0.3), 0px 1px 3px 1px rgba(60, 64, 67, 0.15);\n",
              "      fill: #174EA6;\n",
              "    }\n",
              "\n",
              "    [theme=dark] .colab-df-convert {\n",
              "      background-color: #3B4455;\n",
              "      fill: #D2E3FC;\n",
              "    }\n",
              "\n",
              "    [theme=dark] .colab-df-convert:hover {\n",
              "      background-color: #434B5C;\n",
              "      box-shadow: 0px 1px 3px 1px rgba(0, 0, 0, 0.15);\n",
              "      filter: drop-shadow(0px 1px 2px rgba(0, 0, 0, 0.3));\n",
              "      fill: #FFFFFF;\n",
              "    }\n",
              "  </style>\n",
              "\n",
              "      <script>\n",
              "        const buttonEl =\n",
              "          document.querySelector('#df-d78c3475-732b-4c32-8222-566ba7379365 button.colab-df-convert');\n",
              "        buttonEl.style.display =\n",
              "          google.colab.kernel.accessAllowed ? 'block' : 'none';\n",
              "\n",
              "        async function convertToInteractive(key) {\n",
              "          const element = document.querySelector('#df-d78c3475-732b-4c32-8222-566ba7379365');\n",
              "          const dataTable =\n",
              "            await google.colab.kernel.invokeFunction('convertToInteractive',\n",
              "                                                     [key], {});\n",
              "          if (!dataTable) return;\n",
              "\n",
              "          const docLinkHtml = 'Like what you see? Visit the ' +\n",
              "            '<a target=\"_blank\" href=https://colab.research.google.com/notebooks/data_table.ipynb>data table notebook</a>'\n",
              "            + ' to learn more about interactive tables.';\n",
              "          element.innerHTML = '';\n",
              "          dataTable['output_type'] = 'display_data';\n",
              "          await google.colab.output.renderOutput(dataTable, element);\n",
              "          const docLink = document.createElement('div');\n",
              "          docLink.innerHTML = docLinkHtml;\n",
              "          element.appendChild(docLink);\n",
              "        }\n",
              "      </script>\n",
              "    </div>\n",
              "  </div>\n",
              "  "
            ]
          },
          "metadata": {}
        }
      ]
    },
    {
      "cell_type": "markdown",
      "source": [
        "Podemos observar algunos registrios en las siete columnas. Describimos la denominada \"genre\", que puede ser una de las más interesantes de cara a análisis posteriores."
      ],
      "metadata": {
        "id": "207cWsizl9P2"
      }
    },
    {
      "cell_type": "code",
      "source": [
        "anime['genre'].describe()"
      ],
      "metadata": {
        "colab": {
          "base_uri": "https://localhost:8080/"
        },
        "id": "hkPcZnXpR27B",
        "outputId": "0bc43ba2-67c7-4e35-a0e6-f301214ce7ae"
      },
      "execution_count": null,
      "outputs": [
        {
          "output_type": "execute_result",
          "data": {
            "text/plain": [
              "count      12232\n",
              "unique      3264\n",
              "top       Hentai\n",
              "freq         823\n",
              "Name: genre, dtype: object"
            ]
          },
          "metadata": {},
          "execution_count": 7
        }
      ]
    },
    {
      "cell_type": "markdown",
      "source": [
        "Extraemos que hay un total de 3264 géneros diferentes, siendo 'Hentai' el más frecuente, repitiéndose 823 veces."
      ],
      "metadata": {
        "id": "dHpwEbzGnDM0"
      }
    },
    {
      "cell_type": "markdown",
      "source": [
        "# Eliminación de valores nulos"
      ],
      "metadata": {
        "id": "O7cPTvNAnUFs"
      }
    },
    {
      "cell_type": "markdown",
      "source": [
        "A continuación procedemos a tratar los campos en los que tenemos algún elemento nulo o desconocido."
      ],
      "metadata": {
        "id": "5nUyj-Vt6tNP"
      }
    },
    {
      "cell_type": "code",
      "source": [
        "anime.isnull().sum()"
      ],
      "metadata": {
        "colab": {
          "base_uri": "https://localhost:8080/"
        },
        "id": "eqyl8Yq28jiq",
        "outputId": "f312153f-bcaf-4734-d5f3-dc02897c80d2"
      },
      "execution_count": null,
      "outputs": [
        {
          "output_type": "execute_result",
          "data": {
            "text/plain": [
              "anime_id      0\n",
              "name          0\n",
              "genre        62\n",
              "type         25\n",
              "episodes      0\n",
              "rating      230\n",
              "members       0\n",
              "dtype: int64"
            ]
          },
          "metadata": {},
          "execution_count": 8
        }
      ]
    },
    {
      "cell_type": "markdown",
      "source": [
        " Haciendo un estudio de nuestro dataframe, nos damos cuenta de que hay valores que no aparecen como nulos usando el comando anterior, pero que sin embargo no aportan información valiosa puesto que están registrados como 'Unknown'. Esto sucede en la columna 'episodes'. Lo que haremos será convertirlos también a nulos para poder tratarlos con los demás."
      ],
      "metadata": {
        "id": "_RykWIxA8idJ"
      }
    },
    {
      "cell_type": "code",
      "source": [
        "anime['episodes'] = anime['episodes'].replace('Unknown', None)"
      ],
      "metadata": {
        "id": "2ma8nG2Tb6lH"
      },
      "execution_count": null,
      "outputs": []
    },
    {
      "cell_type": "code",
      "source": [
        "anime.isnull().sum()"
      ],
      "metadata": {
        "colab": {
          "base_uri": "https://localhost:8080/"
        },
        "id": "MslA_52mWvXQ",
        "outputId": "51cf2eca-db24-46f2-94c3-0d752f5c850a"
      },
      "execution_count": null,
      "outputs": [
        {
          "output_type": "execute_result",
          "data": {
            "text/plain": [
              "anime_id      0\n",
              "name          0\n",
              "genre        62\n",
              "type         25\n",
              "episodes    340\n",
              "rating      230\n",
              "members       0\n",
              "dtype: int64"
            ]
          },
          "metadata": {},
          "execution_count": 10
        }
      ]
    },
    {
      "cell_type": "code",
      "source": [
        "display(anime['genre'][0])\n",
        "type(anime['genre'][0])\n",
        "#Más adelante habrá que transformar en lista, intentando ordenarlas alfabéticamente"
      ],
      "metadata": {
        "colab": {
          "base_uri": "https://localhost:8080/",
          "height": 53
        },
        "id": "fs1_N0-IsiBs",
        "outputId": "70affcce-e34d-48eb-a147-05b9c34ad57e"
      },
      "execution_count": null,
      "outputs": [
        {
          "output_type": "display_data",
          "data": {
            "text/plain": [
              "'Drama, Romance, School, Supernatural'"
            ],
            "application/vnd.google.colaboratory.intrinsic+json": {
              "type": "string"
            }
          },
          "metadata": {}
        },
        {
          "output_type": "execute_result",
          "data": {
            "text/plain": [
              "str"
            ]
          },
          "metadata": {},
          "execution_count": 8
        }
      ]
    },
    {
      "cell_type": "code",
      "source": [
        "anime.info()"
      ],
      "metadata": {
        "colab": {
          "base_uri": "https://localhost:8080/"
        },
        "id": "q6RDF_ekA1cV",
        "outputId": "00c25597-461f-4b1e-febe-7deb2f6c96a8"
      },
      "execution_count": null,
      "outputs": [
        {
          "output_type": "stream",
          "name": "stdout",
          "text": [
            "<class 'pandas.core.frame.DataFrame'>\n",
            "RangeIndex: 12294 entries, 0 to 12293\n",
            "Data columns (total 7 columns):\n",
            " #   Column    Non-Null Count  Dtype  \n",
            "---  ------    --------------  -----  \n",
            " 0   anime_id  12294 non-null  int64  \n",
            " 1   name      12294 non-null  object \n",
            " 2   genre     12232 non-null  object \n",
            " 3   type      12269 non-null  object \n",
            " 4   episodes  11954 non-null  object \n",
            " 5   rating    12064 non-null  float64\n",
            " 6   members   12294 non-null  int64  \n",
            "dtypes: float64(1), int64(2), object(4)\n",
            "memory usage: 672.5+ KB\n"
          ]
        }
      ]
    },
    {
      "cell_type": "code",
      "source": [
        "anime['name'][4] = anime['name'][4].replace('&#039','')\n",
        "print(anime['name'][4])\n",
        "#Para cambiar el nombre de algo en una columna"
      ],
      "metadata": {
        "colab": {
          "base_uri": "https://localhost:8080/"
        },
        "id": "Snt0b02vzCDY",
        "outputId": "a966e7a7-2050-4640-8964-68ba150654ff"
      },
      "execution_count": null,
      "outputs": [
        {
          "output_type": "stream",
          "name": "stdout",
          "text": [
            "Gintama;\n"
          ]
        },
        {
          "output_type": "stream",
          "name": "stderr",
          "text": [
            "<ipython-input-10-2d03d72c0a3e>:1: SettingWithCopyWarning: \n",
            "A value is trying to be set on a copy of a slice from a DataFrame\n",
            "\n",
            "See the caveats in the documentation: https://pandas.pydata.org/pandas-docs/stable/user_guide/indexing.html#returning-a-view-versus-a-copy\n",
            "  anime['name'][4] = anime['name'][4].replace('&#039','')\n"
          ]
        }
      ]
    },
    {
      "cell_type": "code",
      "source": [
        "anime.isnull().sum()"
      ],
      "metadata": {
        "colab": {
          "base_uri": "https://localhost:8080/"
        },
        "id": "zOMdrdlsWOEe",
        "outputId": "20ad5d1a-b06d-48f0-d0db-4e687679fef6"
      },
      "execution_count": null,
      "outputs": [
        {
          "output_type": "execute_result",
          "data": {
            "text/plain": [
              "anime_id      0\n",
              "name          0\n",
              "genre        62\n",
              "type         25\n",
              "episodes    340\n",
              "rating      230\n",
              "members       0\n",
              "dtype: int64"
            ]
          },
          "metadata": {},
          "execution_count": 11
        }
      ]
    },
    {
      "cell_type": "code",
      "source": [
        "anime['rating'].describe()"
      ],
      "metadata": {
        "colab": {
          "base_uri": "https://localhost:8080/"
        },
        "id": "igpK4urOjIyY",
        "outputId": "65eb5db1-342f-4916-9a15-e73a5c81d6b3"
      },
      "execution_count": null,
      "outputs": [
        {
          "output_type": "execute_result",
          "data": {
            "text/plain": [
              "count    12064.000000\n",
              "mean         6.473902\n",
              "std          1.026746\n",
              "min          1.670000\n",
              "25%          5.880000\n",
              "50%          6.570000\n",
              "75%          7.180000\n",
              "max         10.000000\n",
              "Name: rating, dtype: float64"
            ]
          },
          "metadata": {},
          "execution_count": 12
        }
      ]
    },
    {
      "cell_type": "code",
      "source": [
        "anime.genre = anime.genre.fillna('Unknown')\n",
        "anime.type = anime.type.fillna('Unknown')"
      ],
      "metadata": {
        "id": "oR3nLjXX2CQp"
      },
      "execution_count": null,
      "outputs": []
    },
    {
      "cell_type": "code",
      "source": [
        "anime['episodes'].describe()"
      ],
      "metadata": {
        "colab": {
          "base_uri": "https://localhost:8080/"
        },
        "id": "kUMUJTKrhCfS",
        "outputId": "1ecd172a-ccb4-4c54-d087-5e9e22455a03"
      },
      "execution_count": null,
      "outputs": [
        {
          "output_type": "execute_result",
          "data": {
            "text/plain": [
              "count     11954\n",
              "unique      186\n",
              "top           1\n",
              "freq       5677\n",
              "Name: episodes, dtype: object"
            ]
          },
          "metadata": {},
          "execution_count": 14
        }
      ]
    },
    {
      "cell_type": "code",
      "source": [
        "anime = anime.astype(dtype={'name':'string', 'genre':'string', 'type':'category', 'episodes':'float'})"
      ],
      "metadata": {
        "id": "xI1gAYWXRi22"
      },
      "execution_count": null,
      "outputs": []
    },
    {
      "cell_type": "code",
      "source": [
        "mediaEp = int(anime.episodes.mean())\n",
        "anime.episodes = anime.episodes.fillna(mediaEp).astype('int')\n"
      ],
      "metadata": {
        "id": "fXFyTVOLj6zj"
      },
      "execution_count": null,
      "outputs": []
    },
    {
      "cell_type": "code",
      "source": [
        "anime.episodes.describe()"
      ],
      "metadata": {
        "colab": {
          "base_uri": "https://localhost:8080/"
        },
        "id": "69s9bC-Skif1",
        "outputId": "ba571446-ce4a-40b8-fa0a-1bb6357d75dd"
      },
      "execution_count": null,
      "outputs": [
        {
          "output_type": "execute_result",
          "data": {
            "text/plain": [
              "count    12294.000000\n",
              "mean        12.371970\n",
              "std         46.212749\n",
              "min          1.000000\n",
              "25%          1.000000\n",
              "50%          2.000000\n",
              "75%         12.000000\n",
              "max       1818.000000\n",
              "Name: episodes, dtype: float64"
            ]
          },
          "metadata": {},
          "execution_count": 17
        }
      ]
    },
    {
      "cell_type": "code",
      "source": [
        "#Podríamos usar esto pero no queremos sobrestimar esos valores: anime.rating = anime.rating.fillna(anime.rating.mean())"
      ],
      "metadata": {
        "id": "rmq1drTh3omP"
      },
      "execution_count": null,
      "outputs": []
    },
    {
      "cell_type": "code",
      "source": [
        "anime.isnull().sum()"
      ],
      "metadata": {
        "colab": {
          "base_uri": "https://localhost:8080/"
        },
        "id": "oZUU-r8jj2aF",
        "outputId": "dc6fc808-6456-4fb1-cf7d-718de15b73c0"
      },
      "execution_count": null,
      "outputs": [
        {
          "output_type": "execute_result",
          "data": {
            "text/plain": [
              "anime_id      0\n",
              "name          0\n",
              "genre         0\n",
              "type          0\n",
              "episodes      0\n",
              "rating      230\n",
              "members       0\n",
              "dtype: int64"
            ]
          },
          "metadata": {},
          "execution_count": 19
        }
      ]
    },
    {
      "cell_type": "code",
      "source": [
        "anime.rating = anime.rating.fillna(-1)\n",
        "#Utilizaremos esto para filtrar esos valores. También se podría hacer con None"
      ],
      "metadata": {
        "id": "3ULIBD7WJbF4"
      },
      "execution_count": null,
      "outputs": []
    },
    {
      "cell_type": "code",
      "source": [
        "anime.isnull().sum()"
      ],
      "metadata": {
        "colab": {
          "base_uri": "https://localhost:8080/"
        },
        "id": "MqfGSJZPKUkk",
        "outputId": "d3c7a31b-7fe4-4788-9633-c03416342079"
      },
      "execution_count": null,
      "outputs": [
        {
          "output_type": "execute_result",
          "data": {
            "text/plain": [
              "anime_id    0\n",
              "name        0\n",
              "genre       0\n",
              "type        0\n",
              "episodes    0\n",
              "rating      0\n",
              "members     0\n",
              "dtype: int64"
            ]
          },
          "metadata": {},
          "execution_count": 21
        }
      ]
    },
    {
      "cell_type": "code",
      "source": [
        "display(anime)"
      ],
      "metadata": {
        "colab": {
          "base_uri": "https://localhost:8080/",
          "height": 423
        },
        "id": "qO0F-0HYArWt",
        "outputId": "7de08a5a-69ee-45bf-c887-8eb9de598ac5"
      },
      "execution_count": null,
      "outputs": [
        {
          "output_type": "display_data",
          "data": {
            "text/plain": [
              "       anime_id                                               name  \\\n",
              "0         32281                                     Kimi no Na wa.   \n",
              "1          5114                   Fullmetal Alchemist: Brotherhood   \n",
              "2         28977                                           Gintama°   \n",
              "3          9253                                        Steins;Gate   \n",
              "4          9969                                           Gintama;   \n",
              "...         ...                                                ...   \n",
              "12289      9316       Toushindai My Lover: Minami tai Mecha-Minami   \n",
              "12290      5543                                        Under World   \n",
              "12291      5621                     Violence Gekiga David no Hoshi   \n",
              "12292      6133  Violence Gekiga Shin David no Hoshi: Inma Dens...   \n",
              "12293     26081                   Yasuji no Pornorama: Yacchimae!!   \n",
              "\n",
              "                                                   genre   type  episodes  \\\n",
              "0                   Drama, Romance, School, Supernatural  Movie         1   \n",
              "1      Action, Adventure, Drama, Fantasy, Magic, Mili...     TV        64   \n",
              "2      Action, Comedy, Historical, Parody, Samurai, S...     TV        51   \n",
              "3                                       Sci-Fi, Thriller     TV        24   \n",
              "4      Action, Comedy, Historical, Parody, Samurai, S...     TV        51   \n",
              "...                                                  ...    ...       ...   \n",
              "12289                                             Hentai    OVA         1   \n",
              "12290                                             Hentai    OVA         1   \n",
              "12291                                             Hentai    OVA         4   \n",
              "12292                                             Hentai    OVA         1   \n",
              "12293                                             Hentai  Movie         1   \n",
              "\n",
              "       rating  members  \n",
              "0        9.37   200630  \n",
              "1        9.26   793665  \n",
              "2        9.25   114262  \n",
              "3        9.17   673572  \n",
              "4        9.16   151266  \n",
              "...       ...      ...  \n",
              "12289    4.15      211  \n",
              "12290    4.28      183  \n",
              "12291    4.88      219  \n",
              "12292    4.98      175  \n",
              "12293    5.46      142  \n",
              "\n",
              "[12294 rows x 7 columns]"
            ],
            "text/html": [
              "\n",
              "  <div id=\"df-afd79803-17e1-4d78-960a-64fd1e45ff7c\">\n",
              "    <div class=\"colab-df-container\">\n",
              "      <div>\n",
              "<style scoped>\n",
              "    .dataframe tbody tr th:only-of-type {\n",
              "        vertical-align: middle;\n",
              "    }\n",
              "\n",
              "    .dataframe tbody tr th {\n",
              "        vertical-align: top;\n",
              "    }\n",
              "\n",
              "    .dataframe thead th {\n",
              "        text-align: right;\n",
              "    }\n",
              "</style>\n",
              "<table border=\"1\" class=\"dataframe\">\n",
              "  <thead>\n",
              "    <tr style=\"text-align: right;\">\n",
              "      <th></th>\n",
              "      <th>anime_id</th>\n",
              "      <th>name</th>\n",
              "      <th>genre</th>\n",
              "      <th>type</th>\n",
              "      <th>episodes</th>\n",
              "      <th>rating</th>\n",
              "      <th>members</th>\n",
              "    </tr>\n",
              "  </thead>\n",
              "  <tbody>\n",
              "    <tr>\n",
              "      <th>0</th>\n",
              "      <td>32281</td>\n",
              "      <td>Kimi no Na wa.</td>\n",
              "      <td>Drama, Romance, School, Supernatural</td>\n",
              "      <td>Movie</td>\n",
              "      <td>1</td>\n",
              "      <td>9.37</td>\n",
              "      <td>200630</td>\n",
              "    </tr>\n",
              "    <tr>\n",
              "      <th>1</th>\n",
              "      <td>5114</td>\n",
              "      <td>Fullmetal Alchemist: Brotherhood</td>\n",
              "      <td>Action, Adventure, Drama, Fantasy, Magic, Mili...</td>\n",
              "      <td>TV</td>\n",
              "      <td>64</td>\n",
              "      <td>9.26</td>\n",
              "      <td>793665</td>\n",
              "    </tr>\n",
              "    <tr>\n",
              "      <th>2</th>\n",
              "      <td>28977</td>\n",
              "      <td>Gintama°</td>\n",
              "      <td>Action, Comedy, Historical, Parody, Samurai, S...</td>\n",
              "      <td>TV</td>\n",
              "      <td>51</td>\n",
              "      <td>9.25</td>\n",
              "      <td>114262</td>\n",
              "    </tr>\n",
              "    <tr>\n",
              "      <th>3</th>\n",
              "      <td>9253</td>\n",
              "      <td>Steins;Gate</td>\n",
              "      <td>Sci-Fi, Thriller</td>\n",
              "      <td>TV</td>\n",
              "      <td>24</td>\n",
              "      <td>9.17</td>\n",
              "      <td>673572</td>\n",
              "    </tr>\n",
              "    <tr>\n",
              "      <th>4</th>\n",
              "      <td>9969</td>\n",
              "      <td>Gintama;</td>\n",
              "      <td>Action, Comedy, Historical, Parody, Samurai, S...</td>\n",
              "      <td>TV</td>\n",
              "      <td>51</td>\n",
              "      <td>9.16</td>\n",
              "      <td>151266</td>\n",
              "    </tr>\n",
              "    <tr>\n",
              "      <th>...</th>\n",
              "      <td>...</td>\n",
              "      <td>...</td>\n",
              "      <td>...</td>\n",
              "      <td>...</td>\n",
              "      <td>...</td>\n",
              "      <td>...</td>\n",
              "      <td>...</td>\n",
              "    </tr>\n",
              "    <tr>\n",
              "      <th>12289</th>\n",
              "      <td>9316</td>\n",
              "      <td>Toushindai My Lover: Minami tai Mecha-Minami</td>\n",
              "      <td>Hentai</td>\n",
              "      <td>OVA</td>\n",
              "      <td>1</td>\n",
              "      <td>4.15</td>\n",
              "      <td>211</td>\n",
              "    </tr>\n",
              "    <tr>\n",
              "      <th>12290</th>\n",
              "      <td>5543</td>\n",
              "      <td>Under World</td>\n",
              "      <td>Hentai</td>\n",
              "      <td>OVA</td>\n",
              "      <td>1</td>\n",
              "      <td>4.28</td>\n",
              "      <td>183</td>\n",
              "    </tr>\n",
              "    <tr>\n",
              "      <th>12291</th>\n",
              "      <td>5621</td>\n",
              "      <td>Violence Gekiga David no Hoshi</td>\n",
              "      <td>Hentai</td>\n",
              "      <td>OVA</td>\n",
              "      <td>4</td>\n",
              "      <td>4.88</td>\n",
              "      <td>219</td>\n",
              "    </tr>\n",
              "    <tr>\n",
              "      <th>12292</th>\n",
              "      <td>6133</td>\n",
              "      <td>Violence Gekiga Shin David no Hoshi: Inma Dens...</td>\n",
              "      <td>Hentai</td>\n",
              "      <td>OVA</td>\n",
              "      <td>1</td>\n",
              "      <td>4.98</td>\n",
              "      <td>175</td>\n",
              "    </tr>\n",
              "    <tr>\n",
              "      <th>12293</th>\n",
              "      <td>26081</td>\n",
              "      <td>Yasuji no Pornorama: Yacchimae!!</td>\n",
              "      <td>Hentai</td>\n",
              "      <td>Movie</td>\n",
              "      <td>1</td>\n",
              "      <td>5.46</td>\n",
              "      <td>142</td>\n",
              "    </tr>\n",
              "  </tbody>\n",
              "</table>\n",
              "<p>12294 rows × 7 columns</p>\n",
              "</div>\n",
              "      <button class=\"colab-df-convert\" onclick=\"convertToInteractive('df-afd79803-17e1-4d78-960a-64fd1e45ff7c')\"\n",
              "              title=\"Convert this dataframe to an interactive table.\"\n",
              "              style=\"display:none;\">\n",
              "        \n",
              "  <svg xmlns=\"http://www.w3.org/2000/svg\" height=\"24px\"viewBox=\"0 0 24 24\"\n",
              "       width=\"24px\">\n",
              "    <path d=\"M0 0h24v24H0V0z\" fill=\"none\"/>\n",
              "    <path d=\"M18.56 5.44l.94 2.06.94-2.06 2.06-.94-2.06-.94-.94-2.06-.94 2.06-2.06.94zm-11 1L8.5 8.5l.94-2.06 2.06-.94-2.06-.94L8.5 2.5l-.94 2.06-2.06.94zm10 10l.94 2.06.94-2.06 2.06-.94-2.06-.94-.94-2.06-.94 2.06-2.06.94z\"/><path d=\"M17.41 7.96l-1.37-1.37c-.4-.4-.92-.59-1.43-.59-.52 0-1.04.2-1.43.59L10.3 9.45l-7.72 7.72c-.78.78-.78 2.05 0 2.83L4 21.41c.39.39.9.59 1.41.59.51 0 1.02-.2 1.41-.59l7.78-7.78 2.81-2.81c.8-.78.8-2.07 0-2.86zM5.41 20L4 18.59l7.72-7.72 1.47 1.35L5.41 20z\"/>\n",
              "  </svg>\n",
              "      </button>\n",
              "      \n",
              "  <style>\n",
              "    .colab-df-container {\n",
              "      display:flex;\n",
              "      flex-wrap:wrap;\n",
              "      gap: 12px;\n",
              "    }\n",
              "\n",
              "    .colab-df-convert {\n",
              "      background-color: #E8F0FE;\n",
              "      border: none;\n",
              "      border-radius: 50%;\n",
              "      cursor: pointer;\n",
              "      display: none;\n",
              "      fill: #1967D2;\n",
              "      height: 32px;\n",
              "      padding: 0 0 0 0;\n",
              "      width: 32px;\n",
              "    }\n",
              "\n",
              "    .colab-df-convert:hover {\n",
              "      background-color: #E2EBFA;\n",
              "      box-shadow: 0px 1px 2px rgba(60, 64, 67, 0.3), 0px 1px 3px 1px rgba(60, 64, 67, 0.15);\n",
              "      fill: #174EA6;\n",
              "    }\n",
              "\n",
              "    [theme=dark] .colab-df-convert {\n",
              "      background-color: #3B4455;\n",
              "      fill: #D2E3FC;\n",
              "    }\n",
              "\n",
              "    [theme=dark] .colab-df-convert:hover {\n",
              "      background-color: #434B5C;\n",
              "      box-shadow: 0px 1px 3px 1px rgba(0, 0, 0, 0.15);\n",
              "      filter: drop-shadow(0px 1px 2px rgba(0, 0, 0, 0.3));\n",
              "      fill: #FFFFFF;\n",
              "    }\n",
              "  </style>\n",
              "\n",
              "      <script>\n",
              "        const buttonEl =\n",
              "          document.querySelector('#df-afd79803-17e1-4d78-960a-64fd1e45ff7c button.colab-df-convert');\n",
              "        buttonEl.style.display =\n",
              "          google.colab.kernel.accessAllowed ? 'block' : 'none';\n",
              "\n",
              "        async function convertToInteractive(key) {\n",
              "          const element = document.querySelector('#df-afd79803-17e1-4d78-960a-64fd1e45ff7c');\n",
              "          const dataTable =\n",
              "            await google.colab.kernel.invokeFunction('convertToInteractive',\n",
              "                                                     [key], {});\n",
              "          if (!dataTable) return;\n",
              "\n",
              "          const docLinkHtml = 'Like what you see? Visit the ' +\n",
              "            '<a target=\"_blank\" href=https://colab.research.google.com/notebooks/data_table.ipynb>data table notebook</a>'\n",
              "            + ' to learn more about interactive tables.';\n",
              "          element.innerHTML = '';\n",
              "          dataTable['output_type'] = 'display_data';\n",
              "          await google.colab.output.renderOutput(dataTable, element);\n",
              "          const docLink = document.createElement('div');\n",
              "          docLink.innerHTML = docLinkHtml;\n",
              "          element.appendChild(docLink);\n",
              "        }\n",
              "      </script>\n",
              "    </div>\n",
              "  </div>\n",
              "  "
            ]
          },
          "metadata": {}
        }
      ]
    },
    {
      "cell_type": "code",
      "source": [
        "serieepisodes = anime.episodes.describe()\n",
        "print(serieepisodes)\n",
        "type(serieepisodes)"
      ],
      "metadata": {
        "colab": {
          "base_uri": "https://localhost:8080/"
        },
        "id": "x3xOLSACGG1A",
        "outputId": "aa60177e-f043-49ae-8f97-ad2a7e74f3bc"
      },
      "execution_count": null,
      "outputs": [
        {
          "output_type": "stream",
          "name": "stdout",
          "text": [
            "count    12294.000000\n",
            "mean        12.371970\n",
            "std         46.212749\n",
            "min          1.000000\n",
            "25%          1.000000\n",
            "50%          2.000000\n",
            "75%         12.000000\n",
            "max       1818.000000\n",
            "Name: episodes, dtype: float64\n"
          ]
        },
        {
          "output_type": "execute_result",
          "data": {
            "text/plain": [
              "pandas.core.series.Series"
            ]
          },
          "metadata": {},
          "execution_count": 23
        }
      ]
    },
    {
      "cell_type": "code",
      "source": [
        "q1 = serieepisodes['25%']\n",
        "q3 = serieepisodes['75%']\n",
        "iqr = q3-q1\n",
        "print(q1)\n",
        "print(q3)\n",
        "print(iqr)"
      ],
      "metadata": {
        "colab": {
          "base_uri": "https://localhost:8080/"
        },
        "id": "eewgV81CHWyK",
        "outputId": "ea775a07-4dfd-4e4d-dd29-8acfc3993521"
      },
      "execution_count": null,
      "outputs": [
        {
          "output_type": "stream",
          "name": "stdout",
          "text": [
            "1.0\n",
            "12.0\n",
            "11.0\n"
          ]
        }
      ]
    },
    {
      "cell_type": "code",
      "source": [
        "maximoepisodios = q3 + 1.5*iqr\n",
        "minimoepisodios = q1 - 1.5*iqr\n",
        "\n",
        "print('Valor \"máximo\" de episodios= ', maximoepisodios)\n",
        "print('Valor \"mínimo\" de episodios= ', minimoepisodios, 'que sería 0')"
      ],
      "metadata": {
        "colab": {
          "base_uri": "https://localhost:8080/"
        },
        "id": "wympRp4DHy3F",
        "outputId": "59acdcc8-d73e-4574-bb2e-27eb0a2cb604"
      },
      "execution_count": null,
      "outputs": [
        {
          "output_type": "stream",
          "name": "stdout",
          "text": [
            "Valor \"máximo\" de episodios=  28.5\n",
            "Valor \"mínimo\" de episodios=  -15.5 que sería 0\n"
          ]
        }
      ]
    },
    {
      "cell_type": "code",
      "source": [
        "Filtro = anime['rating'] != -1\n",
        "anime[Filtro]['rating'].mean()\n",
        "\n"
      ],
      "metadata": {
        "colab": {
          "base_uri": "https://localhost:8080/"
        },
        "id": "VfmgUqVdJUb7",
        "outputId": "635e1c9c-055f-4f28-f2f9-1372c48f14d0"
      },
      "execution_count": null,
      "outputs": [
        {
          "output_type": "execute_result",
          "data": {
            "text/plain": [
              "6.473901690981432"
            ]
          },
          "metadata": {},
          "execution_count": 26
        }
      ]
    },
    {
      "cell_type": "code",
      "source": [
        "Filtro"
      ],
      "metadata": {
        "colab": {
          "base_uri": "https://localhost:8080/"
        },
        "id": "I1LK3uOKVuiV",
        "outputId": "abccebe5-3986-4d98-82c7-ad4a4316ca1e"
      },
      "execution_count": null,
      "outputs": [
        {
          "output_type": "execute_result",
          "data": {
            "text/plain": [
              "0        True\n",
              "1        True\n",
              "2        True\n",
              "3        True\n",
              "4        True\n",
              "         ... \n",
              "12289    True\n",
              "12290    True\n",
              "12291    True\n",
              "12292    True\n",
              "12293    True\n",
              "Name: rating, Length: 12294, dtype: bool"
            ]
          },
          "metadata": {},
          "execution_count": 27
        }
      ]
    },
    {
      "cell_type": "code",
      "source": [
        "serieratingfiltrada = anime[Filtro]['rating'].describe()\n",
        "print(serieratingfiltrada)\n"
      ],
      "metadata": {
        "colab": {
          "base_uri": "https://localhost:8080/"
        },
        "id": "L26EPv6tQOke",
        "outputId": "c079c5d3-4074-45f2-dcc7-136f3f760b96"
      },
      "execution_count": null,
      "outputs": [
        {
          "output_type": "stream",
          "name": "stdout",
          "text": [
            "count    12064.000000\n",
            "mean         6.473902\n",
            "std          1.026746\n",
            "min          1.670000\n",
            "25%          5.880000\n",
            "50%          6.570000\n",
            "75%          7.180000\n",
            "max         10.000000\n",
            "Name: rating, dtype: float64\n"
          ]
        }
      ]
    },
    {
      "cell_type": "code",
      "source": [
        "q1rating = serieratingfiltrada['25%']\n",
        "q3rating = serieratingfiltrada['75%']\n",
        "iqrrating = q3rating-q1rating\n",
        "print(q1rating)\n",
        "print(q3rating)\n",
        "print(iqrrating)"
      ],
      "metadata": {
        "colab": {
          "base_uri": "https://localhost:8080/"
        },
        "id": "FiKsyoaMW7pG",
        "outputId": "83e43ed7-b290-4fef-bf57-12865a0f0dcb"
      },
      "execution_count": null,
      "outputs": [
        {
          "output_type": "stream",
          "name": "stdout",
          "text": [
            "5.88\n",
            "7.18\n",
            "1.2999999999999998\n"
          ]
        }
      ]
    },
    {
      "cell_type": "code",
      "source": [
        "maximorating = q3rating + 1.5*iqrrating\n",
        "minimorating = q1rating - 1.5*iqrrating\n",
        "\n",
        "print('Valor \"máximo\" de ratings= ', maximorating)\n",
        "print('Valor \"mínimo\" de ratings= ', minimorating)"
      ],
      "metadata": {
        "colab": {
          "base_uri": "https://localhost:8080/"
        },
        "id": "vUGNvIunWghM",
        "outputId": "75f3b023-6a87-42a1-fb11-288e3bc87261"
      },
      "execution_count": null,
      "outputs": [
        {
          "output_type": "stream",
          "name": "stdout",
          "text": [
            "Valor \"máximo\" de ratings=  9.129999999999999\n",
            "Valor \"mínimo\" de ratings=  3.93\n"
          ]
        }
      ]
    },
    {
      "cell_type": "code",
      "source": [
        "filtrorating = anime[Filtro]['rating']\n",
        "filtrorating.plot(kind='box')\n"
      ],
      "metadata": {
        "colab": {
          "base_uri": "https://localhost:8080/",
          "height": 447
        },
        "id": "c6vx0gKmYvov",
        "outputId": "7abfcc1f-5e64-43eb-e604-256a94bfe819"
      },
      "execution_count": null,
      "outputs": [
        {
          "output_type": "execute_result",
          "data": {
            "text/plain": [
              "<Axes: >"
            ]
          },
          "metadata": {},
          "execution_count": 31
        },
        {
          "output_type": "display_data",
          "data": {
            "text/plain": [
              "<Figure size 640x480 with 1 Axes>"
            ],
            "image/png": "[encoded data removed]"
          },
          "metadata": {}
        }
      ]
    },
    {
      "cell_type": "code",
      "source": [
        "animeGood = anime[Filtro].copy()"
      ],
      "metadata": {
        "id": "Zl5TSDFFcHNK"
      },
      "execution_count": null,
      "outputs": []
    },
    {
      "cell_type": "code",
      "source": [
        "animeGood"
      ],
      "metadata": {
        "colab": {
          "base_uri": "https://localhost:8080/",
          "height": 423
        },
        "id": "wH0or36qvdoa",
        "outputId": "302e682d-c52e-40fc-c3cd-14d11e9c9d55"
      },
      "execution_count": null,
      "outputs": [
        {
          "output_type": "execute_result",
          "data": {
            "text/plain": [
              "       anime_id                                               name  \\\n",
              "0         32281                                     Kimi no Na wa.   \n",
              "1          5114                   Fullmetal Alchemist: Brotherhood   \n",
              "2         28977                                           Gintama°   \n",
              "3          9253                                        Steins;Gate   \n",
              "4          9969                                           Gintama;   \n",
              "...         ...                                                ...   \n",
              "12289      9316       Toushindai My Lover: Minami tai Mecha-Minami   \n",
              "12290      5543                                        Under World   \n",
              "12291      5621                     Violence Gekiga David no Hoshi   \n",
              "12292      6133  Violence Gekiga Shin David no Hoshi: Inma Dens...   \n",
              "12293     26081                   Yasuji no Pornorama: Yacchimae!!   \n",
              "\n",
              "                                                   genre   type  episodes  \\\n",
              "0                   Drama, Romance, School, Supernatural  Movie         1   \n",
              "1      Action, Adventure, Drama, Fantasy, Magic, Mili...     TV        64   \n",
              "2      Action, Comedy, Historical, Parody, Samurai, S...     TV        51   \n",
              "3                                       Sci-Fi, Thriller     TV        24   \n",
              "4      Action, Comedy, Historical, Parody, Samurai, S...     TV        51   \n",
              "...                                                  ...    ...       ...   \n",
              "12289                                             Hentai    OVA         1   \n",
              "12290                                             Hentai    OVA         1   \n",
              "12291                                             Hentai    OVA         4   \n",
              "12292                                             Hentai    OVA         1   \n",
              "12293                                             Hentai  Movie         1   \n",
              "\n",
              "       rating  members  \n",
              "0        9.37   200630  \n",
              "1        9.26   793665  \n",
              "2        9.25   114262  \n",
              "3        9.17   673572  \n",
              "4        9.16   151266  \n",
              "...       ...      ...  \n",
              "12289    4.15      211  \n",
              "12290    4.28      183  \n",
              "12291    4.88      219  \n",
              "12292    4.98      175  \n",
              "12293    5.46      142  \n",
              "\n",
              "[12064 rows x 7 columns]"
            ],
            "text/html": [
              "\n",
              "  <div id=\"df-185df48c-77dc-47f1-a159-97facd3fcfc4\">\n",
              "    <div class=\"colab-df-container\">\n",
              "      <div>\n",
              "<style scoped>\n",
              "    .dataframe tbody tr th:only-of-type {\n",
              "        vertical-align: middle;\n",
              "    }\n",
              "\n",
              "    .dataframe tbody tr th {\n",
              "        vertical-align: top;\n",
              "    }\n",
              "\n",
              "    .dataframe thead th {\n",
              "        text-align: right;\n",
              "    }\n",
              "</style>\n",
              "<table border=\"1\" class=\"dataframe\">\n",
              "  <thead>\n",
              "    <tr style=\"text-align: right;\">\n",
              "      <th></th>\n",
              "      <th>anime_id</th>\n",
              "      <th>name</th>\n",
              "      <th>genre</th>\n",
              "      <th>type</th>\n",
              "      <th>episodes</th>\n",
              "      <th>rating</th>\n",
              "      <th>members</th>\n",
              "    </tr>\n",
              "  </thead>\n",
              "  <tbody>\n",
              "    <tr>\n",
              "      <th>0</th>\n",
              "      <td>32281</td>\n",
              "      <td>Kimi no Na wa.</td>\n",
              "      <td>Drama, Romance, School, Supernatural</td>\n",
              "      <td>Movie</td>\n",
              "      <td>1</td>\n",
              "      <td>9.37</td>\n",
              "      <td>200630</td>\n",
              "    </tr>\n",
              "    <tr>\n",
              "      <th>1</th>\n",
              "      <td>5114</td>\n",
              "      <td>Fullmetal Alchemist: Brotherhood</td>\n",
              "      <td>Action, Adventure, Drama, Fantasy, Magic, Mili...</td>\n",
              "      <td>TV</td>\n",
              "      <td>64</td>\n",
              "      <td>9.26</td>\n",
              "      <td>793665</td>\n",
              "    </tr>\n",
              "    <tr>\n",
              "      <th>2</th>\n",
              "      <td>28977</td>\n",
              "      <td>Gintama°</td>\n",
              "      <td>Action, Comedy, Historical, Parody, Samurai, S...</td>\n",
              "      <td>TV</td>\n",
              "      <td>51</td>\n",
              "      <td>9.25</td>\n",
              "      <td>114262</td>\n",
              "    </tr>\n",
              "    <tr>\n",
              "      <th>3</th>\n",
              "      <td>9253</td>\n",
              "      <td>Steins;Gate</td>\n",
              "      <td>Sci-Fi, Thriller</td>\n",
              "      <td>TV</td>\n",
              "      <td>24</td>\n",
              "      <td>9.17</td>\n",
              "      <td>673572</td>\n",
              "    </tr>\n",
              "    <tr>\n",
              "      <th>4</th>\n",
              "      <td>9969</td>\n",
              "      <td>Gintama;</td>\n",
              "      <td>Action, Comedy, Historical, Parody, Samurai, S...</td>\n",
              "      <td>TV</td>\n",
              "      <td>51</td>\n",
              "      <td>9.16</td>\n",
              "      <td>151266</td>\n",
              "    </tr>\n",
              "    <tr>\n",
              "      <th>...</th>\n",
              "      <td>...</td>\n",
              "      <td>...</td>\n",
              "      <td>...</td>\n",
              "      <td>...</td>\n",
              "      <td>...</td>\n",
              "      <td>...</td>\n",
              "      <td>...</td>\n",
              "    </tr>\n",
              "    <tr>\n",
              "      <th>12289</th>\n",
              "      <td>9316</td>\n",
              "      <td>Toushindai My Lover: Minami tai Mecha-Minami</td>\n",
              "      <td>Hentai</td>\n",
              "      <td>OVA</td>\n",
              "      <td>1</td>\n",
              "      <td>4.15</td>\n",
              "      <td>211</td>\n",
              "    </tr>\n",
              "    <tr>\n",
              "      <th>12290</th>\n",
              "      <td>5543</td>\n",
              "      <td>Under World</td>\n",
              "      <td>Hentai</td>\n",
              "      <td>OVA</td>\n",
              "      <td>1</td>\n",
              "      <td>4.28</td>\n",
              "      <td>183</td>\n",
              "    </tr>\n",
              "    <tr>\n",
              "      <th>12291</th>\n",
              "      <td>5621</td>\n",
              "      <td>Violence Gekiga David no Hoshi</td>\n",
              "      <td>Hentai</td>\n",
              "      <td>OVA</td>\n",
              "      <td>4</td>\n",
              "      <td>4.88</td>\n",
              "      <td>219</td>\n",
              "    </tr>\n",
              "    <tr>\n",
              "      <th>12292</th>\n",
              "      <td>6133</td>\n",
              "      <td>Violence Gekiga Shin David no Hoshi: Inma Dens...</td>\n",
              "      <td>Hentai</td>\n",
              "      <td>OVA</td>\n",
              "      <td>1</td>\n",
              "      <td>4.98</td>\n",
              "      <td>175</td>\n",
              "    </tr>\n",
              "    <tr>\n",
              "      <th>12293</th>\n",
              "      <td>26081</td>\n",
              "      <td>Yasuji no Pornorama: Yacchimae!!</td>\n",
              "      <td>Hentai</td>\n",
              "      <td>Movie</td>\n",
              "      <td>1</td>\n",
              "      <td>5.46</td>\n",
              "      <td>142</td>\n",
              "    </tr>\n",
              "  </tbody>\n",
              "</table>\n",
              "<p>12064 rows × 7 columns</p>\n",
              "</div>\n",
              "      <button class=\"colab-df-convert\" onclick=\"convertToInteractive('df-185df48c-77dc-47f1-a159-97facd3fcfc4')\"\n",
              "              title=\"Convert this dataframe to an interactive table.\"\n",
              "              style=\"display:none;\">\n",
              "        \n",
              "  <svg xmlns=\"http://www.w3.org/2000/svg\" height=\"24px\"viewBox=\"0 0 24 24\"\n",
              "       width=\"24px\">\n",
              "    <path d=\"M0 0h24v24H0V0z\" fill=\"none\"/>\n",
              "    <path d=\"M18.56 5.44l.94 2.06.94-2.06 2.06-.94-2.06-.94-.94-2.06-.94 2.06-2.06.94zm-11 1L8.5 8.5l.94-2.06 2.06-.94-2.06-.94L8.5 2.5l-.94 2.06-2.06.94zm10 10l.94 2.06.94-2.06 2.06-.94-2.06-.94-.94-2.06-.94 2.06-2.06.94z\"/><path d=\"M17.41 7.96l-1.37-1.37c-.4-.4-.92-.59-1.43-.59-.52 0-1.04.2-1.43.59L10.3 9.45l-7.72 7.72c-.78.78-.78 2.05 0 2.83L4 21.41c.39.39.9.59 1.41.59.51 0 1.02-.2 1.41-.59l7.78-7.78 2.81-2.81c.8-.78.8-2.07 0-2.86zM5.41 20L4 18.59l7.72-7.72 1.47 1.35L5.41 20z\"/>\n",
              "  </svg>\n",
              "      </button>\n",
              "      \n",
              "  <style>\n",
              "    .colab-df-container {\n",
              "      display:flex;\n",
              "      flex-wrap:wrap;\n",
              "      gap: 12px;\n",
              "    }\n",
              "\n",
              "    .colab-df-convert {\n",
              "      background-color: #E8F0FE;\n",
              "      border: none;\n",
              "      border-radius: 50%;\n",
              "      cursor: pointer;\n",
              "      display: none;\n",
              "      fill: #1967D2;\n",
              "      height: 32px;\n",
              "      padding: 0 0 0 0;\n",
              "      width: 32px;\n",
              "    }\n",
              "\n",
              "    .colab-df-convert:hover {\n",
              "      background-color: #E2EBFA;\n",
              "      box-shadow: 0px 1px 2px rgba(60, 64, 67, 0.3), 0px 1px 3px 1px rgba(60, 64, 67, 0.15);\n",
              "      fill: #174EA6;\n",
              "    }\n",
              "\n",
              "    [theme=dark] .colab-df-convert {\n",
              "      background-color: #3B4455;\n",
              "      fill: #D2E3FC;\n",
              "    }\n",
              "\n",
              "    [theme=dark] .colab-df-convert:hover {\n",
              "      background-color: #434B5C;\n",
              "      box-shadow: 0px 1px 3px 1px rgba(0, 0, 0, 0.15);\n",
              "      filter: drop-shadow(0px 1px 2px rgba(0, 0, 0, 0.3));\n",
              "      fill: #FFFFFF;\n",
              "    }\n",
              "  </style>\n",
              "\n",
              "      <script>\n",
              "        const buttonEl =\n",
              "          document.querySelector('#df-185df48c-77dc-47f1-a159-97facd3fcfc4 button.colab-df-convert');\n",
              "        buttonEl.style.display =\n",
              "          google.colab.kernel.accessAllowed ? 'block' : 'none';\n",
              "\n",
              "        async function convertToInteractive(key) {\n",
              "          const element = document.querySelector('#df-185df48c-77dc-47f1-a159-97facd3fcfc4');\n",
              "          const dataTable =\n",
              "            await google.colab.kernel.invokeFunction('convertToInteractive',\n",
              "                                                     [key], {});\n",
              "          if (!dataTable) return;\n",
              "\n",
              "          const docLinkHtml = 'Like what you see? Visit the ' +\n",
              "            '<a target=\"_blank\" href=https://colab.research.google.com/notebooks/data_table.ipynb>data table notebook</a>'\n",
              "            + ' to learn more about interactive tables.';\n",
              "          element.innerHTML = '';\n",
              "          dataTable['output_type'] = 'display_data';\n",
              "          await google.colab.output.renderOutput(dataTable, element);\n",
              "          const docLink = document.createElement('div');\n",
              "          docLink.innerHTML = docLinkHtml;\n",
              "          element.appendChild(docLink);\n",
              "        }\n",
              "      </script>\n",
              "    </div>\n",
              "  </div>\n",
              "  "
            ]
          },
          "metadata": {},
          "execution_count": 33
        }
      ]
    },
    {
      "cell_type": "code",
      "source": [
        "filtroMin = animeGood['rating'] < minimorating\n",
        "# filtroMax = anime[Filtro]['rating'] > maximorating\n",
        "filtroMin"
      ],
      "metadata": {
        "colab": {
          "base_uri": "https://localhost:8080/"
        },
        "id": "DK4B3Q35aqSI",
        "outputId": "209bcf20-40f5-4f9b-d2ac-29a3894dc9ca"
      },
      "execution_count": null,
      "outputs": [
        {
          "output_type": "execute_result",
          "data": {
            "text/plain": [
              "0        False\n",
              "1        False\n",
              "2        False\n",
              "3        False\n",
              "4        False\n",
              "         ...  \n",
              "12289    False\n",
              "12290    False\n",
              "12291    False\n",
              "12292    False\n",
              "12293    False\n",
              "Name: rating, Length: 12064, dtype: bool"
            ]
          },
          "metadata": {},
          "execution_count": 34
        }
      ]
    },
    {
      "cell_type": "code",
      "source": [
        "animeGood[filtroMin]\n"
      ],
      "metadata": {
        "colab": {
          "base_uri": "https://localhost:8080/",
          "height": 423
        },
        "id": "fG6Y5DEOcyvn",
        "outputId": "853eb859-dd48-4335-cfb8-01e6ad1730a1"
      },
      "execution_count": null,
      "outputs": [
        {
          "output_type": "execute_result",
          "data": {
            "text/plain": [
              "       anime_id                                               name  \\\n",
              "8014      33394                          Mahou Shoujo? Naria☆Girls   \n",
              "8015      28657                                 Red Colored Bridge   \n",
              "8016      22377                                        Wonder Momo   \n",
              "8017      29979                                      Petting a Dog   \n",
              "8018      22173                                       Yume 10 Yoru   \n",
              "...         ...                                                ...   \n",
              "12263     17825                Ikenai Boy: Ikasu Maruhi Hand Power   \n",
              "12268     23677                               Manga Edo Erobanashi   \n",
              "12270     29994                          Misato-chan no Yume Nikki   \n",
              "12275     29111  Onna Spy Goumon: Teki no Ajito wa Jotai Goumonsho   \n",
              "12278     17833                                    Pink no Curtain   \n",
              "\n",
              "                                    genre   type  episodes  rating  members  \n",
              "8014                                Magic     TV        12    3.91     3414  \n",
              "8015                        Psychological  Movie         1    3.90      450  \n",
              "8016   Action, Game, Martial Arts, School    ONA         5    3.90     3218  \n",
              "8017                        Slice of Life    ONA         1    3.88      375  \n",
              "8018                             Dementia  Movie         1    3.88      317  \n",
              "...                                   ...    ...       ...     ...      ...  \n",
              "12263                      Comedy, Hentai    OVA         1    3.11      112  \n",
              "12268          Comedy, Hentai, Historical    OVA         5    2.86      111  \n",
              "12270                              Hentai    OVA         1    3.00      147  \n",
              "12275                              Hentai    OVA         1    3.14      108  \n",
              "12278               Hentai, Slice of Life    OVA         1    3.61      138  \n",
              "\n",
              "[217 rows x 7 columns]"
            ],
            "text/html": [
              "\n",
              "  <div id=\"df-0a4370c1-1236-43dd-a89e-0c48fe9014e7\">\n",
              "    <div class=\"colab-df-container\">\n",
              "      <div>\n",
              "<style scoped>\n",
              "    .dataframe tbody tr th:only-of-type {\n",
              "        vertical-align: middle;\n",
              "    }\n",
              "\n",
              "    .dataframe tbody tr th {\n",
              "        vertical-align: top;\n",
              "    }\n",
              "\n",
              "    .dataframe thead th {\n",
              "        text-align: right;\n",
              "    }\n",
              "</style>\n",
              "<table border=\"1\" class=\"dataframe\">\n",
              "  <thead>\n",
              "    <tr style=\"text-align: right;\">\n",
              "      <th></th>\n",
              "      <th>anime_id</th>\n",
              "      <th>name</th>\n",
              "      <th>genre</th>\n",
              "      <th>type</th>\n",
              "      <th>episodes</th>\n",
              "      <th>rating</th>\n",
              "      <th>members</th>\n",
              "    </tr>\n",
              "  </thead>\n",
              "  <tbody>\n",
              "    <tr>\n",
              "      <th>8014</th>\n",
              "      <td>33394</td>\n",
              "      <td>Mahou Shoujo? Naria☆Girls</td>\n",
              "      <td>Magic</td>\n",
              "      <td>TV</td>\n",
              "      <td>12</td>\n",
              "      <td>3.91</td>\n",
              "      <td>3414</td>\n",
              "    </tr>\n",
              "    <tr>\n",
              "      <th>8015</th>\n",
              "      <td>28657</td>\n",
              "      <td>Red Colored Bridge</td>\n",
              "      <td>Psychological</td>\n",
              "      <td>Movie</td>\n",
              "      <td>1</td>\n",
              "      <td>3.90</td>\n",
              "      <td>450</td>\n",
              "    </tr>\n",
              "    <tr>\n",
              "      <th>8016</th>\n",
              "      <td>22377</td>\n",
              "      <td>Wonder Momo</td>\n",
              "      <td>Action, Game, Martial Arts, School</td>\n",
              "      <td>ONA</td>\n",
              "      <td>5</td>\n",
              "      <td>3.90</td>\n",
              "      <td>3218</td>\n",
              "    </tr>\n",
              "    <tr>\n",
              "      <th>8017</th>\n",
              "      <td>29979</td>\n",
              "      <td>Petting a Dog</td>\n",
              "      <td>Slice of Life</td>\n",
              "      <td>ONA</td>\n",
              "      <td>1</td>\n",
              "      <td>3.88</td>\n",
              "      <td>375</td>\n",
              "    </tr>\n",
              "    <tr>\n",
              "      <th>8018</th>\n",
              "      <td>22173</td>\n",
              "      <td>Yume 10 Yoru</td>\n",
              "      <td>Dementia</td>\n",
              "      <td>Movie</td>\n",
              "      <td>1</td>\n",
              "      <td>3.88</td>\n",
              "      <td>317</td>\n",
              "    </tr>\n",
              "    <tr>\n",
              "      <th>...</th>\n",
              "      <td>...</td>\n",
              "      <td>...</td>\n",
              "      <td>...</td>\n",
              "      <td>...</td>\n",
              "      <td>...</td>\n",
              "      <td>...</td>\n",
              "      <td>...</td>\n",
              "    </tr>\n",
              "    <tr>\n",
              "      <th>12263</th>\n",
              "      <td>17825</td>\n",
              "      <td>Ikenai Boy: Ikasu Maruhi Hand Power</td>\n",
              "      <td>Comedy, Hentai</td>\n",
              "      <td>OVA</td>\n",
              "      <td>1</td>\n",
              "      <td>3.11</td>\n",
              "      <td>112</td>\n",
              "    </tr>\n",
              "    <tr>\n",
              "      <th>12268</th>\n",
              "      <td>23677</td>\n",
              "      <td>Manga Edo Erobanashi</td>\n",
              "      <td>Comedy, Hentai, Historical</td>\n",
              "      <td>OVA</td>\n",
              "      <td>5</td>\n",
              "      <td>2.86</td>\n",
              "      <td>111</td>\n",
              "    </tr>\n",
              "    <tr>\n",
              "      <th>12270</th>\n",
              "      <td>29994</td>\n",
              "      <td>Misato-chan no Yume Nikki</td>\n",
              "      <td>Hentai</td>\n",
              "      <td>OVA</td>\n",
              "      <td>1</td>\n",
              "      <td>3.00</td>\n",
              "      <td>147</td>\n",
              "    </tr>\n",
              "    <tr>\n",
              "      <th>12275</th>\n",
              "      <td>29111</td>\n",
              "      <td>Onna Spy Goumon: Teki no Ajito wa Jotai Goumonsho</td>\n",
              "      <td>Hentai</td>\n",
              "      <td>OVA</td>\n",
              "      <td>1</td>\n",
              "      <td>3.14</td>\n",
              "      <td>108</td>\n",
              "    </tr>\n",
              "    <tr>\n",
              "      <th>12278</th>\n",
              "      <td>17833</td>\n",
              "      <td>Pink no Curtain</td>\n",
              "      <td>Hentai, Slice of Life</td>\n",
              "      <td>OVA</td>\n",
              "      <td>1</td>\n",
              "      <td>3.61</td>\n",
              "      <td>138</td>\n",
              "    </tr>\n",
              "  </tbody>\n",
              "</table>\n",
              "<p>217 rows × 7 columns</p>\n",
              "</div>\n",
              "      <button class=\"colab-df-convert\" onclick=\"convertToInteractive('df-0a4370c1-1236-43dd-a89e-0c48fe9014e7')\"\n",
              "              title=\"Convert this dataframe to an interactive table.\"\n",
              "              style=\"display:none;\">\n",
              "        \n",
              "  <svg xmlns=\"http://www.w3.org/2000/svg\" height=\"24px\"viewBox=\"0 0 24 24\"\n",
              "       width=\"24px\">\n",
              "    <path d=\"M0 0h24v24H0V0z\" fill=\"none\"/>\n",
              "    <path d=\"M18.56 5.44l.94 2.06.94-2.06 2.06-.94-2.06-.94-.94-2.06-.94 2.06-2.06.94zm-11 1L8.5 8.5l.94-2.06 2.06-.94-2.06-.94L8.5 2.5l-.94 2.06-2.06.94zm10 10l.94 2.06.94-2.06 2.06-.94-2.06-.94-.94-2.06-.94 2.06-2.06.94z\"/><path d=\"M17.41 7.96l-1.37-1.37c-.4-.4-.92-.59-1.43-.59-.52 0-1.04.2-1.43.59L10.3 9.45l-7.72 7.72c-.78.78-.78 2.05 0 2.83L4 21.41c.39.39.9.59 1.41.59.51 0 1.02-.2 1.41-.59l7.78-7.78 2.81-2.81c.8-.78.8-2.07 0-2.86zM5.41 20L4 18.59l7.72-7.72 1.47 1.35L5.41 20z\"/>\n",
              "  </svg>\n",
              "      </button>\n",
              "      \n",
              "  <style>\n",
              "    .colab-df-container {\n",
              "      display:flex;\n",
              "      flex-wrap:wrap;\n",
              "      gap: 12px;\n",
              "    }\n",
              "\n",
              "    .colab-df-convert {\n",
              "      background-color: #E8F0FE;\n",
              "      border: none;\n",
              "      border-radius: 50%;\n",
              "      cursor: pointer;\n",
              "      display: none;\n",
              "      fill: #1967D2;\n",
              "      height: 32px;\n",
              "      padding: 0 0 0 0;\n",
              "      width: 32px;\n",
              "    }\n",
              "\n",
              "    .colab-df-convert:hover {\n",
              "      background-color: #E2EBFA;\n",
              "      box-shadow: 0px 1px 2px rgba(60, 64, 67, 0.3), 0px 1px 3px 1px rgba(60, 64, 67, 0.15);\n",
              "      fill: #174EA6;\n",
              "    }\n",
              "\n",
              "    [theme=dark] .colab-df-convert {\n",
              "      background-color: #3B4455;\n",
              "      fill: #D2E3FC;\n",
              "    }\n",
              "\n",
              "    [theme=dark] .colab-df-convert:hover {\n",
              "      background-color: #434B5C;\n",
              "      box-shadow: 0px 1px 3px 1px rgba(0, 0, 0, 0.15);\n",
              "      filter: drop-shadow(0px 1px 2px rgba(0, 0, 0, 0.3));\n",
              "      fill: #FFFFFF;\n",
              "    }\n",
              "  </style>\n",
              "\n",
              "      <script>\n",
              "        const buttonEl =\n",
              "          document.querySelector('#df-0a4370c1-1236-43dd-a89e-0c48fe9014e7 button.colab-df-convert');\n",
              "        buttonEl.style.display =\n",
              "          google.colab.kernel.accessAllowed ? 'block' : 'none';\n",
              "\n",
              "        async function convertToInteractive(key) {\n",
              "          const element = document.querySelector('#df-0a4370c1-1236-43dd-a89e-0c48fe9014e7');\n",
              "          const dataTable =\n",
              "            await google.colab.kernel.invokeFunction('convertToInteractive',\n",
              "                                                     [key], {});\n",
              "          if (!dataTable) return;\n",
              "\n",
              "          const docLinkHtml = 'Like what you see? Visit the ' +\n",
              "            '<a target=\"_blank\" href=https://colab.research.google.com/notebooks/data_table.ipynb>data table notebook</a>'\n",
              "            + ' to learn more about interactive tables.';\n",
              "          element.innerHTML = '';\n",
              "          dataTable['output_type'] = 'display_data';\n",
              "          await google.colab.output.renderOutput(dataTable, element);\n",
              "          const docLink = document.createElement('div');\n",
              "          docLink.innerHTML = docLinkHtml;\n",
              "          element.appendChild(docLink);\n",
              "        }\n",
              "      </script>\n",
              "    </div>\n",
              "  </div>\n",
              "  "
            ]
          },
          "metadata": {},
          "execution_count": 35
        }
      ]
    },
    {
      "cell_type": "code",
      "source": [
        "filtroMax = anime[Filtro]['rating'] > maximorating\n",
        "filtroMax"
      ],
      "metadata": {
        "colab": {
          "base_uri": "https://localhost:8080/"
        },
        "id": "tFy_ENs1wGuD",
        "outputId": "4857ad41-d5ec-40c8-f925-615080ab83df"
      },
      "execution_count": null,
      "outputs": [
        {
          "output_type": "execute_result",
          "data": {
            "text/plain": [
              "0         True\n",
              "1         True\n",
              "2         True\n",
              "3         True\n",
              "4         True\n",
              "         ...  \n",
              "12289    False\n",
              "12290    False\n",
              "12291    False\n",
              "12292    False\n",
              "12293    False\n",
              "Name: rating, Length: 12064, dtype: bool"
            ]
          },
          "metadata": {},
          "execution_count": 36
        }
      ]
    },
    {
      "cell_type": "code",
      "source": [
        "animeGood[filtroMax]"
      ],
      "metadata": {
        "colab": {
          "base_uri": "https://localhost:8080/",
          "height": 425
        },
        "id": "3VAutxmcwM8w",
        "outputId": "a4dd9729-be68-40c7-9dab-aef4c05729c0"
      },
      "execution_count": null,
      "outputs": [
        {
          "output_type": "execute_result",
          "data": {
            "text/plain": [
              "       anime_id                                               name  \\\n",
              "0         32281                                     Kimi no Na wa.   \n",
              "1          5114                   Fullmetal Alchemist: Brotherhood   \n",
              "2         28977                                           Gintama°   \n",
              "3          9253                                        Steins;Gate   \n",
              "4          9969                                           Gintama;   \n",
              "5         32935  Haikyuu!!: Karasuno Koukou VS Shiratorizawa Ga...   \n",
              "6         11061                             Hunter x Hunter (2011)   \n",
              "9078      33607                                       Kahei no Umi   \n",
              "9595      23005                                   Mogura no Motoro   \n",
              "10400     30120                        Spoon-hime no Swing Kitchen   \n",
              "10464     33662            Taka no Tsume 8: Yoshida-kun no X-Files   \n",
              "10786     26313                    Yakusoku: Africa Mizu to Midori   \n",
              "\n",
              "                                                   genre   type  episodes  \\\n",
              "0                   Drama, Romance, School, Supernatural  Movie         1   \n",
              "1      Action, Adventure, Drama, Fantasy, Magic, Mili...     TV        64   \n",
              "2      Action, Comedy, Historical, Parody, Samurai, S...     TV        51   \n",
              "3                                       Sci-Fi, Thriller     TV        24   \n",
              "4      Action, Comedy, Historical, Parody, Samurai, S...     TV        51   \n",
              "5                 Comedy, Drama, School, Shounen, Sports     TV        10   \n",
              "6                Action, Adventure, Shounen, Super Power     TV       148   \n",
              "9078                                          Historical  Movie         1   \n",
              "9595                                       Slice of Life  Movie         1   \n",
              "10400                                    Adventure, Kids     TV        12   \n",
              "10464                                     Comedy, Parody  Movie         1   \n",
              "10786                                        Drama, Kids    OVA         1   \n",
              "\n",
              "       rating  members  \n",
              "0        9.37   200630  \n",
              "1        9.26   793665  \n",
              "2        9.25   114262  \n",
              "3        9.17   673572  \n",
              "4        9.16   151266  \n",
              "5        9.15    93351  \n",
              "6        9.13   425855  \n",
              "9078     9.33       44  \n",
              "9595     9.50       62  \n",
              "10400    9.60       47  \n",
              "10464   10.00       13  \n",
              "10786    9.25       53  "
            ],
            "text/html": [
              "\n",
              "  <div id=\"df-8122a017-1b24-435f-be64-74dae2701957\">\n",
              "    <div class=\"colab-df-container\">\n",
              "      <div>\n",
              "<style scoped>\n",
              "    .dataframe tbody tr th:only-of-type {\n",
              "        vertical-align: middle;\n",
              "    }\n",
              "\n",
              "    .dataframe tbody tr th {\n",
              "        vertical-align: top;\n",
              "    }\n",
              "\n",
              "    .dataframe thead th {\n",
              "        text-align: right;\n",
              "    }\n",
              "</style>\n",
              "<table border=\"1\" class=\"dataframe\">\n",
              "  <thead>\n",
              "    <tr style=\"text-align: right;\">\n",
              "      <th></th>\n",
              "      <th>anime_id</th>\n",
              "      <th>name</th>\n",
              "      <th>genre</th>\n",
              "      <th>type</th>\n",
              "      <th>episodes</th>\n",
              "      <th>rating</th>\n",
              "      <th>members</th>\n",
              "    </tr>\n",
              "  </thead>\n",
              "  <tbody>\n",
              "    <tr>\n",
              "      <th>0</th>\n",
              "      <td>32281</td>\n",
              "      <td>Kimi no Na wa.</td>\n",
              "      <td>Drama, Romance, School, Supernatural</td>\n",
              "      <td>Movie</td>\n",
              "      <td>1</td>\n",
              "      <td>9.37</td>\n",
              "      <td>200630</td>\n",
              "    </tr>\n",
              "    <tr>\n",
              "      <th>1</th>\n",
              "      <td>5114</td>\n",
              "      <td>Fullmetal Alchemist: Brotherhood</td>\n",
              "      <td>Action, Adventure, Drama, Fantasy, Magic, Mili...</td>\n",
              "      <td>TV</td>\n",
              "      <td>64</td>\n",
              "      <td>9.26</td>\n",
              "      <td>793665</td>\n",
              "    </tr>\n",
              "    <tr>\n",
              "      <th>2</th>\n",
              "      <td>28977</td>\n",
              "      <td>Gintama°</td>\n",
              "      <td>Action, Comedy, Historical, Parody, Samurai, S...</td>\n",
              "      <td>TV</td>\n",
              "      <td>51</td>\n",
              "      <td>9.25</td>\n",
              "      <td>114262</td>\n",
              "    </tr>\n",
              "    <tr>\n",
              "      <th>3</th>\n",
              "      <td>9253</td>\n",
              "      <td>Steins;Gate</td>\n",
              "      <td>Sci-Fi, Thriller</td>\n",
              "      <td>TV</td>\n",
              "      <td>24</td>\n",
              "      <td>9.17</td>\n",
              "      <td>673572</td>\n",
              "    </tr>\n",
              "    <tr>\n",
              "      <th>4</th>\n",
              "      <td>9969</td>\n",
              "      <td>Gintama;</td>\n",
              "      <td>Action, Comedy, Historical, Parody, Samurai, S...</td>\n",
              "      <td>TV</td>\n",
              "      <td>51</td>\n",
              "      <td>9.16</td>\n",
              "      <td>151266</td>\n",
              "    </tr>\n",
              "    <tr>\n",
              "      <th>5</th>\n",
              "      <td>32935</td>\n",
              "      <td>Haikyuu!!: Karasuno Koukou VS Shiratorizawa Ga...</td>\n",
              "      <td>Comedy, Drama, School, Shounen, Sports</td>\n",
              "      <td>TV</td>\n",
              "      <td>10</td>\n",
              "      <td>9.15</td>\n",
              "      <td>93351</td>\n",
              "    </tr>\n",
              "    <tr>\n",
              "      <th>6</th>\n",
              "      <td>11061</td>\n",
              "      <td>Hunter x Hunter (2011)</td>\n",
              "      <td>Action, Adventure, Shounen, Super Power</td>\n",
              "      <td>TV</td>\n",
              "      <td>148</td>\n",
              "      <td>9.13</td>\n",
              "      <td>425855</td>\n",
              "    </tr>\n",
              "    <tr>\n",
              "      <th>9078</th>\n",
              "      <td>33607</td>\n",
              "      <td>Kahei no Umi</td>\n",
              "      <td>Historical</td>\n",
              "      <td>Movie</td>\n",
              "      <td>1</td>\n",
              "      <td>9.33</td>\n",
              "      <td>44</td>\n",
              "    </tr>\n",
              "    <tr>\n",
              "      <th>9595</th>\n",
              "      <td>23005</td>\n",
              "      <td>Mogura no Motoro</td>\n",
              "      <td>Slice of Life</td>\n",
              "      <td>Movie</td>\n",
              "      <td>1</td>\n",
              "      <td>9.50</td>\n",
              "      <td>62</td>\n",
              "    </tr>\n",
              "    <tr>\n",
              "      <th>10400</th>\n",
              "      <td>30120</td>\n",
              "      <td>Spoon-hime no Swing Kitchen</td>\n",
              "      <td>Adventure, Kids</td>\n",
              "      <td>TV</td>\n",
              "      <td>12</td>\n",
              "      <td>9.60</td>\n",
              "      <td>47</td>\n",
              "    </tr>\n",
              "    <tr>\n",
              "      <th>10464</th>\n",
              "      <td>33662</td>\n",
              "      <td>Taka no Tsume 8: Yoshida-kun no X-Files</td>\n",
              "      <td>Comedy, Parody</td>\n",
              "      <td>Movie</td>\n",
              "      <td>1</td>\n",
              "      <td>10.00</td>\n",
              "      <td>13</td>\n",
              "    </tr>\n",
              "    <tr>\n",
              "      <th>10786</th>\n",
              "      <td>26313</td>\n",
              "      <td>Yakusoku: Africa Mizu to Midori</td>\n",
              "      <td>Drama, Kids</td>\n",
              "      <td>OVA</td>\n",
              "      <td>1</td>\n",
              "      <td>9.25</td>\n",
              "      <td>53</td>\n",
              "    </tr>\n",
              "  </tbody>\n",
              "</table>\n",
              "</div>\n",
              "      <button class=\"colab-df-convert\" onclick=\"convertToInteractive('df-8122a017-1b24-435f-be64-74dae2701957')\"\n",
              "              title=\"Convert this dataframe to an interactive table.\"\n",
              "              style=\"display:none;\">\n",
              "        \n",
              "  <svg xmlns=\"http://www.w3.org/2000/svg\" height=\"24px\"viewBox=\"0 0 24 24\"\n",
              "       width=\"24px\">\n",
              "    <path d=\"M0 0h24v24H0V0z\" fill=\"none\"/>\n",
              "    <path d=\"M18.56 5.44l.94 2.06.94-2.06 2.06-.94-2.06-.94-.94-2.06-.94 2.06-2.06.94zm-11 1L8.5 8.5l.94-2.06 2.06-.94-2.06-.94L8.5 2.5l-.94 2.06-2.06.94zm10 10l.94 2.06.94-2.06 2.06-.94-2.06-.94-.94-2.06-.94 2.06-2.06.94z\"/><path d=\"M17.41 7.96l-1.37-1.37c-.4-.4-.92-.59-1.43-.59-.52 0-1.04.2-1.43.59L10.3 9.45l-7.72 7.72c-.78.78-.78 2.05 0 2.83L4 21.41c.39.39.9.59 1.41.59.51 0 1.02-.2 1.41-.59l7.78-7.78 2.81-2.81c.8-.78.8-2.07 0-2.86zM5.41 20L4 18.59l7.72-7.72 1.47 1.35L5.41 20z\"/>\n",
              "  </svg>\n",
              "      </button>\n",
              "      \n",
              "  <style>\n",
              "    .colab-df-container {\n",
              "      display:flex;\n",
              "      flex-wrap:wrap;\n",
              "      gap: 12px;\n",
              "    }\n",
              "\n",
              "    .colab-df-convert {\n",
              "      background-color: #E8F0FE;\n",
              "      border: none;\n",
              "      border-radius: 50%;\n",
              "      cursor: pointer;\n",
              "      display: none;\n",
              "      fill: #1967D2;\n",
              "      height: 32px;\n",
              "      padding: 0 0 0 0;\n",
              "      width: 32px;\n",
              "    }\n",
              "\n",
              "    .colab-df-convert:hover {\n",
              "      background-color: #E2EBFA;\n",
              "      box-shadow: 0px 1px 2px rgba(60, 64, 67, 0.3), 0px 1px 3px 1px rgba(60, 64, 67, 0.15);\n",
              "      fill: #174EA6;\n",
              "    }\n",
              "\n",
              "    [theme=dark] .colab-df-convert {\n",
              "      background-color: #3B4455;\n",
              "      fill: #D2E3FC;\n",
              "    }\n",
              "\n",
              "    [theme=dark] .colab-df-convert:hover {\n",
              "      background-color: #434B5C;\n",
              "      box-shadow: 0px 1px 3px 1px rgba(0, 0, 0, 0.15);\n",
              "      filter: drop-shadow(0px 1px 2px rgba(0, 0, 0, 0.3));\n",
              "      fill: #FFFFFF;\n",
              "    }\n",
              "  </style>\n",
              "\n",
              "      <script>\n",
              "        const buttonEl =\n",
              "          document.querySelector('#df-8122a017-1b24-435f-be64-74dae2701957 button.colab-df-convert');\n",
              "        buttonEl.style.display =\n",
              "          google.colab.kernel.accessAllowed ? 'block' : 'none';\n",
              "\n",
              "        async function convertToInteractive(key) {\n",
              "          const element = document.querySelector('#df-8122a017-1b24-435f-be64-74dae2701957');\n",
              "          const dataTable =\n",
              "            await google.colab.kernel.invokeFunction('convertToInteractive',\n",
              "                                                     [key], {});\n",
              "          if (!dataTable) return;\n",
              "\n",
              "          const docLinkHtml = 'Like what you see? Visit the ' +\n",
              "            '<a target=\"_blank\" href=https://colab.research.google.com/notebooks/data_table.ipynb>data table notebook</a>'\n",
              "            + ' to learn more about interactive tables.';\n",
              "          element.innerHTML = '';\n",
              "          dataTable['output_type'] = 'display_data';\n",
              "          await google.colab.output.renderOutput(dataTable, element);\n",
              "          const docLink = document.createElement('div');\n",
              "          docLink.innerHTML = docLinkHtml;\n",
              "          element.appendChild(docLink);\n",
              "        }\n",
              "      </script>\n",
              "    </div>\n",
              "  </div>\n",
              "  "
            ]
          },
          "metadata": {},
          "execution_count": 37
        }
      ]
    },
    {
      "cell_type": "code",
      "source": [
        "anime"
      ],
      "metadata": {
        "colab": {
          "base_uri": "https://localhost:8080/",
          "height": 423
        },
        "id": "_559fbJbVS1F",
        "outputId": "a044046a-06a6-4799-c6b1-9375d1df0dc9"
      },
      "execution_count": null,
      "outputs": [
        {
          "output_type": "execute_result",
          "data": {
            "text/plain": [
              "       anime_id                                               name  \\\n",
              "0         32281                                     Kimi no Na wa.   \n",
              "1          5114                   Fullmetal Alchemist: Brotherhood   \n",
              "2         28977                                           Gintama°   \n",
              "3          9253                                        Steins;Gate   \n",
              "4          9969                                           Gintama;   \n",
              "...         ...                                                ...   \n",
              "12289      9316       Toushindai My Lover: Minami tai Mecha-Minami   \n",
              "12290      5543                                        Under World   \n",
              "12291      5621                     Violence Gekiga David no Hoshi   \n",
              "12292      6133  Violence Gekiga Shin David no Hoshi: Inma Dens...   \n",
              "12293     26081                   Yasuji no Pornorama: Yacchimae!!   \n",
              "\n",
              "                                                   genre   type  episodes  \\\n",
              "0                   Drama, Romance, School, Supernatural  Movie         1   \n",
              "1      Action, Adventure, Drama, Fantasy, Magic, Mili...     TV        64   \n",
              "2      Action, Comedy, Historical, Parody, Samurai, S...     TV        51   \n",
              "3                                       Sci-Fi, Thriller     TV        24   \n",
              "4      Action, Comedy, Historical, Parody, Samurai, S...     TV        51   \n",
              "...                                                  ...    ...       ...   \n",
              "12289                                             Hentai    OVA         1   \n",
              "12290                                             Hentai    OVA         1   \n",
              "12291                                             Hentai    OVA         4   \n",
              "12292                                             Hentai    OVA         1   \n",
              "12293                                             Hentai  Movie         1   \n",
              "\n",
              "       rating  members  \n",
              "0        9.37   200630  \n",
              "1        9.26   793665  \n",
              "2        9.25   114262  \n",
              "3        9.17   673572  \n",
              "4        9.16   151266  \n",
              "...       ...      ...  \n",
              "12289    4.15      211  \n",
              "12290    4.28      183  \n",
              "12291    4.88      219  \n",
              "12292    4.98      175  \n",
              "12293    5.46      142  \n",
              "\n",
              "[12294 rows x 7 columns]"
            ],
            "text/html": [
              "\n",
              "  <div id=\"df-6c3edb57-91f9-4e68-a15b-a442e27eb4d9\">\n",
              "    <div class=\"colab-df-container\">\n",
              "      <div>\n",
              "<style scoped>\n",
              "    .dataframe tbody tr th:only-of-type {\n",
              "        vertical-align: middle;\n",
              "    }\n",
              "\n",
              "    .dataframe tbody tr th {\n",
              "        vertical-align: top;\n",
              "    }\n",
              "\n",
              "    .dataframe thead th {\n",
              "        text-align: right;\n",
              "    }\n",
              "</style>\n",
              "<table border=\"1\" class=\"dataframe\">\n",
              "  <thead>\n",
              "    <tr style=\"text-align: right;\">\n",
              "      <th></th>\n",
              "      <th>anime_id</th>\n",
              "      <th>name</th>\n",
              "      <th>genre</th>\n",
              "      <th>type</th>\n",
              "      <th>episodes</th>\n",
              "      <th>rating</th>\n",
              "      <th>members</th>\n",
              "    </tr>\n",
              "  </thead>\n",
              "  <tbody>\n",
              "    <tr>\n",
              "      <th>0</th>\n",
              "      <td>32281</td>\n",
              "      <td>Kimi no Na wa.</td>\n",
              "      <td>Drama, Romance, School, Supernatural</td>\n",
              "      <td>Movie</td>\n",
              "      <td>1</td>\n",
              "      <td>9.37</td>\n",
              "      <td>200630</td>\n",
              "    </tr>\n",
              "    <tr>\n",
              "      <th>1</th>\n",
              "      <td>5114</td>\n",
              "      <td>Fullmetal Alchemist: Brotherhood</td>\n",
              "      <td>Action, Adventure, Drama, Fantasy, Magic, Mili...</td>\n",
              "      <td>TV</td>\n",
              "      <td>64</td>\n",
              "      <td>9.26</td>\n",
              "      <td>793665</td>\n",
              "    </tr>\n",
              "    <tr>\n",
              "      <th>2</th>\n",
              "      <td>28977</td>\n",
              "      <td>Gintama°</td>\n",
              "      <td>Action, Comedy, Historical, Parody, Samurai, S...</td>\n",
              "      <td>TV</td>\n",
              "      <td>51</td>\n",
              "      <td>9.25</td>\n",
              "      <td>114262</td>\n",
              "    </tr>\n",
              "    <tr>\n",
              "      <th>3</th>\n",
              "      <td>9253</td>\n",
              "      <td>Steins;Gate</td>\n",
              "      <td>Sci-Fi, Thriller</td>\n",
              "      <td>TV</td>\n",
              "      <td>24</td>\n",
              "      <td>9.17</td>\n",
              "      <td>673572</td>\n",
              "    </tr>\n",
              "    <tr>\n",
              "      <th>4</th>\n",
              "      <td>9969</td>\n",
              "      <td>Gintama;</td>\n",
              "      <td>Action, Comedy, Historical, Parody, Samurai, S...</td>\n",
              "      <td>TV</td>\n",
              "      <td>51</td>\n",
              "      <td>9.16</td>\n",
              "      <td>151266</td>\n",
              "    </tr>\n",
              "    <tr>\n",
              "      <th>...</th>\n",
              "      <td>...</td>\n",
              "      <td>...</td>\n",
              "      <td>...</td>\n",
              "      <td>...</td>\n",
              "      <td>...</td>\n",
              "      <td>...</td>\n",
              "      <td>...</td>\n",
              "    </tr>\n",
              "    <tr>\n",
              "      <th>12289</th>\n",
              "      <td>9316</td>\n",
              "      <td>Toushindai My Lover: Minami tai Mecha-Minami</td>\n",
              "      <td>Hentai</td>\n",
              "      <td>OVA</td>\n",
              "      <td>1</td>\n",
              "      <td>4.15</td>\n",
              "      <td>211</td>\n",
              "    </tr>\n",
              "    <tr>\n",
              "      <th>12290</th>\n",
              "      <td>5543</td>\n",
              "      <td>Under World</td>\n",
              "      <td>Hentai</td>\n",
              "      <td>OVA</td>\n",
              "      <td>1</td>\n",
              "      <td>4.28</td>\n",
              "      <td>183</td>\n",
              "    </tr>\n",
              "    <tr>\n",
              "      <th>12291</th>\n",
              "      <td>5621</td>\n",
              "      <td>Violence Gekiga David no Hoshi</td>\n",
              "      <td>Hentai</td>\n",
              "      <td>OVA</td>\n",
              "      <td>4</td>\n",
              "      <td>4.88</td>\n",
              "      <td>219</td>\n",
              "    </tr>\n",
              "    <tr>\n",
              "      <th>12292</th>\n",
              "      <td>6133</td>\n",
              "      <td>Violence Gekiga Shin David no Hoshi: Inma Dens...</td>\n",
              "      <td>Hentai</td>\n",
              "      <td>OVA</td>\n",
              "      <td>1</td>\n",
              "      <td>4.98</td>\n",
              "      <td>175</td>\n",
              "    </tr>\n",
              "    <tr>\n",
              "      <th>12293</th>\n",
              "      <td>26081</td>\n",
              "      <td>Yasuji no Pornorama: Yacchimae!!</td>\n",
              "      <td>Hentai</td>\n",
              "      <td>Movie</td>\n",
              "      <td>1</td>\n",
              "      <td>5.46</td>\n",
              "      <td>142</td>\n",
              "    </tr>\n",
              "  </tbody>\n",
              "</table>\n",
              "<p>12294 rows × 7 columns</p>\n",
              "</div>\n",
              "      <button class=\"colab-df-convert\" onclick=\"convertToInteractive('df-6c3edb57-91f9-4e68-a15b-a442e27eb4d9')\"\n",
              "              title=\"Convert this dataframe to an interactive table.\"\n",
              "              style=\"display:none;\">\n",
              "        \n",
              "  <svg xmlns=\"http://www.w3.org/2000/svg\" height=\"24px\"viewBox=\"0 0 24 24\"\n",
              "       width=\"24px\">\n",
              "    <path d=\"M0 0h24v24H0V0z\" fill=\"none\"/>\n",
              "    <path d=\"M18.56 5.44l.94 2.06.94-2.06 2.06-.94-2.06-.94-.94-2.06-.94 2.06-2.06.94zm-11 1L8.5 8.5l.94-2.06 2.06-.94-2.06-.94L8.5 2.5l-.94 2.06-2.06.94zm10 10l.94 2.06.94-2.06 2.06-.94-2.06-.94-.94-2.06-.94 2.06-2.06.94z\"/><path d=\"M17.41 7.96l-1.37-1.37c-.4-.4-.92-.59-1.43-.59-.52 0-1.04.2-1.43.59L10.3 9.45l-7.72 7.72c-.78.78-.78 2.05 0 2.83L4 21.41c.39.39.9.59 1.41.59.51 0 1.02-.2 1.41-.59l7.78-7.78 2.81-2.81c.8-.78.8-2.07 0-2.86zM5.41 20L4 18.59l7.72-7.72 1.47 1.35L5.41 20z\"/>\n",
              "  </svg>\n",
              "      </button>\n",
              "      \n",
              "  <style>\n",
              "    .colab-df-container {\n",
              "      display:flex;\n",
              "      flex-wrap:wrap;\n",
              "      gap: 12px;\n",
              "    }\n",
              "\n",
              "    .colab-df-convert {\n",
              "      background-color: #E8F0FE;\n",
              "      border: none;\n",
              "      border-radius: 50%;\n",
              "      cursor: pointer;\n",
              "      display: none;\n",
              "      fill: #1967D2;\n",
              "      height: 32px;\n",
              "      padding: 0 0 0 0;\n",
              "      width: 32px;\n",
              "    }\n",
              "\n",
              "    .colab-df-convert:hover {\n",
              "      background-color: #E2EBFA;\n",
              "      box-shadow: 0px 1px 2px rgba(60, 64, 67, 0.3), 0px 1px 3px 1px rgba(60, 64, 67, 0.15);\n",
              "      fill: #174EA6;\n",
              "    }\n",
              "\n",
              "    [theme=dark] .colab-df-convert {\n",
              "      background-color: #3B4455;\n",
              "      fill: #D2E3FC;\n",
              "    }\n",
              "\n",
              "    [theme=dark] .colab-df-convert:hover {\n",
              "      background-color: #434B5C;\n",
              "      box-shadow: 0px 1px 3px 1px rgba(0, 0, 0, 0.15);\n",
              "      filter: drop-shadow(0px 1px 2px rgba(0, 0, 0, 0.3));\n",
              "      fill: #FFFFFF;\n",
              "    }\n",
              "  </style>\n",
              "\n",
              "      <script>\n",
              "        const buttonEl =\n",
              "          document.querySelector('#df-6c3edb57-91f9-4e68-a15b-a442e27eb4d9 button.colab-df-convert');\n",
              "        buttonEl.style.display =\n",
              "          google.colab.kernel.accessAllowed ? 'block' : 'none';\n",
              "\n",
              "        async function convertToInteractive(key) {\n",
              "          const element = document.querySelector('#df-6c3edb57-91f9-4e68-a15b-a442e27eb4d9');\n",
              "          const dataTable =\n",
              "            await google.colab.kernel.invokeFunction('convertToInteractive',\n",
              "                                                     [key], {});\n",
              "          if (!dataTable) return;\n",
              "\n",
              "          const docLinkHtml = 'Like what you see? Visit the ' +\n",
              "            '<a target=\"_blank\" href=https://colab.research.google.com/notebooks/data_table.ipynb>data table notebook</a>'\n",
              "            + ' to learn more about interactive tables.';\n",
              "          element.innerHTML = '';\n",
              "          dataTable['output_type'] = 'display_data';\n",
              "          await google.colab.output.renderOutput(dataTable, element);\n",
              "          const docLink = document.createElement('div');\n",
              "          docLink.innerHTML = docLinkHtml;\n",
              "          element.appendChild(docLink);\n",
              "        }\n",
              "      </script>\n",
              "    </div>\n",
              "  </div>\n",
              "  "
            ]
          },
          "metadata": {},
          "execution_count": 38
        }
      ]
    },
    {
      "cell_type": "code",
      "source": [
        "TablaGeneros = anime[['genre','name']].groupby(by=['genre']).count().sort_values(by=['name'],ascending=False).head(20)\n",
        "display(TablaGeneros)"
      ],
      "metadata": {
        "colab": {
          "base_uri": "https://localhost:8080/",
          "height": 708
        },
        "id": "s2DzGlJyCA8e",
        "outputId": "74e75918-5f0c-431c-a4fd-79e823a1bfef"
      },
      "execution_count": null,
      "outputs": [
        {
          "output_type": "display_data",
          "data": {
            "text/plain": [
              "                       name\n",
              "genre                      \n",
              "Hentai                  823\n",
              "Comedy                  523\n",
              "Music                   301\n",
              "Kids                    199\n",
              "Comedy, Slice of Life   179\n",
              "Dementia                137\n",
              "Fantasy, Kids           128\n",
              "Fantasy                 114\n",
              "Comedy, Kids            112\n",
              "Drama                   107\n",
              "Drama, Kids             105\n",
              "Slice of Life            99\n",
              "Kids, Music              95\n",
              "Comedy, Fantasy, Kids    81\n",
              "Adventure, Kids          80\n",
              "Adventure                79\n",
              "Adventure, Fantasy       78\n",
              "Action, Mecha, Sci-Fi    77\n",
              "Comedy, Parody           74\n",
              "Historical               68"
            ],
            "text/html": [
              "\n",
              "  <div id=\"df-4cd4104e-ccc3-4cd2-aa41-e9bc8f51d61d\">\n",
              "    <div class=\"colab-df-container\">\n",
              "      <div>\n",
              "<style scoped>\n",
              "    .dataframe tbody tr th:only-of-type {\n",
              "        vertical-align: middle;\n",
              "    }\n",
              "\n",
              "    .dataframe tbody tr th {\n",
              "        vertical-align: top;\n",
              "    }\n",
              "\n",
              "    .dataframe thead th {\n",
              "        text-align: right;\n",
              "    }\n",
              "</style>\n",
              "<table border=\"1\" class=\"dataframe\">\n",
              "  <thead>\n",
              "    <tr style=\"text-align: right;\">\n",
              "      <th></th>\n",
              "      <th>name</th>\n",
              "    </tr>\n",
              "    <tr>\n",
              "      <th>genre</th>\n",
              "      <th></th>\n",
              "    </tr>\n",
              "  </thead>\n",
              "  <tbody>\n",
              "    <tr>\n",
              "      <th>Hentai</th>\n",
              "      <td>823</td>\n",
              "    </tr>\n",
              "    <tr>\n",
              "      <th>Comedy</th>\n",
              "      <td>523</td>\n",
              "    </tr>\n",
              "    <tr>\n",
              "      <th>Music</th>\n",
              "      <td>301</td>\n",
              "    </tr>\n",
              "    <tr>\n",
              "      <th>Kids</th>\n",
              "      <td>199</td>\n",
              "    </tr>\n",
              "    <tr>\n",
              "      <th>Comedy, Slice of Life</th>\n",
              "      <td>179</td>\n",
              "    </tr>\n",
              "    <tr>\n",
              "      <th>Dementia</th>\n",
              "      <td>137</td>\n",
              "    </tr>\n",
              "    <tr>\n",
              "      <th>Fantasy, Kids</th>\n",
              "      <td>128</td>\n",
              "    </tr>\n",
              "    <tr>\n",
              "      <th>Fantasy</th>\n",
              "      <td>114</td>\n",
              "    </tr>\n",
              "    <tr>\n",
              "      <th>Comedy, Kids</th>\n",
              "      <td>112</td>\n",
              "    </tr>\n",
              "    <tr>\n",
              "      <th>Drama</th>\n",
              "      <td>107</td>\n",
              "    </tr>\n",
              "    <tr>\n",
              "      <th>Drama, Kids</th>\n",
              "      <td>105</td>\n",
              "    </tr>\n",
              "    <tr>\n",
              "      <th>Slice of Life</th>\n",
              "      <td>99</td>\n",
              "    </tr>\n",
              "    <tr>\n",
              "      <th>Kids, Music</th>\n",
              "      <td>95</td>\n",
              "    </tr>\n",
              "    <tr>\n",
              "      <th>Comedy, Fantasy, Kids</th>\n",
              "      <td>81</td>\n",
              "    </tr>\n",
              "    <tr>\n",
              "      <th>Adventure, Kids</th>\n",
              "      <td>80</td>\n",
              "    </tr>\n",
              "    <tr>\n",
              "      <th>Adventure</th>\n",
              "      <td>79</td>\n",
              "    </tr>\n",
              "    <tr>\n",
              "      <th>Adventure, Fantasy</th>\n",
              "      <td>78</td>\n",
              "    </tr>\n",
              "    <tr>\n",
              "      <th>Action, Mecha, Sci-Fi</th>\n",
              "      <td>77</td>\n",
              "    </tr>\n",
              "    <tr>\n",
              "      <th>Comedy, Parody</th>\n",
              "      <td>74</td>\n",
              "    </tr>\n",
              "    <tr>\n",
              "      <th>Historical</th>\n",
              "      <td>68</td>\n",
              "    </tr>\n",
              "  </tbody>\n",
              "</table>\n",
              "</div>\n",
              "      <button class=\"colab-df-convert\" onclick=\"convertToInteractive('df-4cd4104e-ccc3-4cd2-aa41-e9bc8f51d61d')\"\n",
              "              title=\"Convert this dataframe to an interactive table.\"\n",
              "              style=\"display:none;\">\n",
              "        \n",
              "  <svg xmlns=\"http://www.w3.org/2000/svg\" height=\"24px\"viewBox=\"0 0 24 24\"\n",
              "       width=\"24px\">\n",
              "    <path d=\"M0 0h24v24H0V0z\" fill=\"none\"/>\n",
              "    <path d=\"M18.56 5.44l.94 2.06.94-2.06 2.06-.94-2.06-.94-.94-2.06-.94 2.06-2.06.94zm-11 1L8.5 8.5l.94-2.06 2.06-.94-2.06-.94L8.5 2.5l-.94 2.06-2.06.94zm10 10l.94 2.06.94-2.06 2.06-.94-2.06-.94-.94-2.06-.94 2.06-2.06.94z\"/><path d=\"M17.41 7.96l-1.37-1.37c-.4-.4-.92-.59-1.43-.59-.52 0-1.04.2-1.43.59L10.3 9.45l-7.72 7.72c-.78.78-.78 2.05 0 2.83L4 21.41c.39.39.9.59 1.41.59.51 0 1.02-.2 1.41-.59l7.78-7.78 2.81-2.81c.8-.78.8-2.07 0-2.86zM5.41 20L4 18.59l7.72-7.72 1.47 1.35L5.41 20z\"/>\n",
              "  </svg>\n",
              "      </button>\n",
              "      \n",
              "  <style>\n",
              "    .colab-df-container {\n",
              "      display:flex;\n",
              "      flex-wrap:wrap;\n",
              "      gap: 12px;\n",
              "    }\n",
              "\n",
              "    .colab-df-convert {\n",
              "      background-color: #E8F0FE;\n",
              "      border: none;\n",
              "      border-radius: 50%;\n",
              "      cursor: pointer;\n",
              "      display: none;\n",
              "      fill: #1967D2;\n",
              "      height: 32px;\n",
              "      padding: 0 0 0 0;\n",
              "      width: 32px;\n",
              "    }\n",
              "\n",
              "    .colab-df-convert:hover {\n",
              "      background-color: #E2EBFA;\n",
              "      box-shadow: 0px 1px 2px rgba(60, 64, 67, 0.3), 0px 1px 3px 1px rgba(60, 64, 67, 0.15);\n",
              "      fill: #174EA6;\n",
              "    }\n",
              "\n",
              "    [theme=dark] .colab-df-convert {\n",
              "      background-color: #3B4455;\n",
              "      fill: #D2E3FC;\n",
              "    }\n",
              "\n",
              "    [theme=dark] .colab-df-convert:hover {\n",
              "      background-color: #434B5C;\n",
              "      box-shadow: 0px 1px 3px 1px rgba(0, 0, 0, 0.15);\n",
              "      filter: drop-shadow(0px 1px 2px rgba(0, 0, 0, 0.3));\n",
              "      fill: #FFFFFF;\n",
              "    }\n",
              "  </style>\n",
              "\n",
              "      <script>\n",
              "        const buttonEl =\n",
              "          document.querySelector('#df-4cd4104e-ccc3-4cd2-aa41-e9bc8f51d61d button.colab-df-convert');\n",
              "        buttonEl.style.display =\n",
              "          google.colab.kernel.accessAllowed ? 'block' : 'none';\n",
              "\n",
              "        async function convertToInteractive(key) {\n",
              "          const element = document.querySelector('#df-4cd4104e-ccc3-4cd2-aa41-e9bc8f51d61d');\n",
              "          const dataTable =\n",
              "            await google.colab.kernel.invokeFunction('convertToInteractive',\n",
              "                                                     [key], {});\n",
              "          if (!dataTable) return;\n",
              "\n",
              "          const docLinkHtml = 'Like what you see? Visit the ' +\n",
              "            '<a target=\"_blank\" href=https://colab.research.google.com/notebooks/data_table.ipynb>data table notebook</a>'\n",
              "            + ' to learn more about interactive tables.';\n",
              "          element.innerHTML = '';\n",
              "          dataTable['output_type'] = 'display_data';\n",
              "          await google.colab.output.renderOutput(dataTable, element);\n",
              "          const docLink = document.createElement('div');\n",
              "          docLink.innerHTML = docLinkHtml;\n",
              "          element.appendChild(docLink);\n",
              "        }\n",
              "      </script>\n",
              "    </div>\n",
              "  </div>\n",
              "  "
            ]
          },
          "metadata": {}
        }
      ]
    },
    {
      "cell_type": "code",
      "source": [
        "import plotly.express as px"
      ],
      "metadata": {
        "id": "dkM1sWSEVmUq"
      },
      "execution_count": null,
      "outputs": []
    },
    {
      "cell_type": "code",
      "source": [
        "px.line(TablaGeneros)"
      ],
      "metadata": {
        "colab": {
          "base_uri": "https://localhost:8080/",
          "height": 542
        },
        "id": "Lx3F7Zh-Vvvs",
        "outputId": "dfbf84a9-f9ce-4503-9076-3b4b228f81d8"
      },
      "execution_count": null,
      "outputs": [
        {
          "output_type": "display_data",
          "data": {
            "text/html": [
              "<html>\n",
              "<head><meta charset=\"utf-8\" /></head>\n",
              "<body>\n",
              "    <div>            <script src=\"https://cdnjs.cloudflare.com/ajax/libs/mathjax/2.7.5/MathJax.js?config=TeX-AMS-MML_SVG\"></script><script type=\"text/javascript\">if (window.MathJax && window.MathJax.Hub && window.MathJax.Hub.Config) {window.MathJax.Hub.Config({SVG: {font: \"STIX-Web\"}});}</script>                <script type=\"text/javascript\">window.PlotlyConfig = {MathJaxConfig: 'local'};</script>\n",
              "        <script src=\"https://cdn.plot.ly/plotly-2.18.2.min.js\"></script>                <div id=\"21689f6c-d649-4ccb-ab4d-319c91be0c44\" class=\"plotly-graph-div\" style=\"height:525px; width:100%;\"></div>            <script type=\"text/javascript\">                                    window.PLOTLYENV=window.PLOTLYENV || {};                                    if (document.getElementById(\"21689f6c-d649-4ccb-ab4d-319c91be0c44\")) {                    Plotly.newPlot(                        \"21689f6c-d649-4ccb-ab4d-319c91be0c44\",                        [{\"hovertemplate\":\"variable=name<br>genre=%{x}<br>value=%{y}<extra></extra>\",\"legendgroup\":\"name\",\"line\":{\"color\":\"#636efa\",\"dash\":\"solid\"},\"marker\":{\"symbol\":\"circle\"},\"mode\":\"lines\",\"name\":\"name\",\"orientation\":\"v\",\"showlegend\":true,\"x\":[\"Hentai\",\"Comedy\",\"Music\",\"Kids\",\"Comedy, Slice of Life\",\"Dementia\",\"Fantasy, Kids\",\"Fantasy\",\"Comedy, Kids\",\"Drama\",\"Drama, Kids\",\"Slice of Life\",\"Kids, Music\",\"Comedy, Fantasy, Kids\",\"Adventure, Kids\",\"Adventure\",\"Adventure, Fantasy\",\"Action, Mecha, Sci-Fi\",\"Comedy, Parody\",\"Historical\"],\"xaxis\":\"x\",\"y\":[823,523,301,199,179,137,128,114,112,107,105,99,95,81,80,79,78,77,74,68],\"yaxis\":\"y\",\"type\":\"scatter\"}],                        {\"template\":{\"data\":{\"histogram2dcontour\":[{\"type\":\"histogram2dcontour\",\"colorbar\":{\"outlinewidth\":0,\"ticks\":\"\"},\"colorscale\":[[0.0,\"#0d0887\"],[0.1111111111111111,\"#46039f\"],[0.2222222222222222,\"#7201a8\"],[0.3333333333333333,\"#9c179e\"],[0.4444444444444444,\"#bd3786\"],[0.5555555555555556,\"#d8576b\"],[0.6666666666666666,\"#ed7953\"],[0.7777777777777778,\"#fb9f3a\"],[0.8888888888888888,\"#fdca26\"],[1.0,\"#f0f921\"]]}],\"choropleth\":[{\"type\":\"choropleth\",\"colorbar\":{\"outlinewidth\":0,\"ticks\":\"\"}}],\"histogram2d\":[{\"type\":\"histogram2d\",\"colorbar\":{\"outlinewidth\":0,\"ticks\":\"\"},\"colorscale\":[[0.0,\"#0d0887\"],[0.1111111111111111,\"#46039f\"],[0.2222222222222222,\"#7201a8\"],[0.3333333333333333,\"#9c179e\"],[0.4444444444444444,\"#bd3786\"],[0.5555555555555556,\"#d8576b\"],[0.6666666666666666,\"#ed7953\"],[0.7777777777777778,\"#fb9f3a\"],[0.8888888888888888,\"#fdca26\"],[1.0,\"#f0f921\"]]}],\"heatmap\":[{\"type\":\"heatmap\",\"colorbar\":{\"outlinewidth\":0,\"ticks\":\"\"},\"colorscale\":[[0.0,\"#0d0887\"],[0.1111111111111111,\"#46039f\"],[0.2222222222222222,\"#7201a8\"],[0.3333333333333333,\"#9c179e\"],[0.4444444444444444,\"#bd3786\"],[0.5555555555555556,\"#d8576b\"],[0.6666666666666666,\"#ed7953\"],[0.7777777777777778,\"#fb9f3a\"],[0.8888888888888888,\"#fdca26\"],[1.0,\"#f0f921\"]]}],\"heatmapgl\":[{\"type\":\"heatmapgl\",\"colorbar\":{\"outlinewidth\":0,\"ticks\":\"\"},\"colorscale\":[[0.0,\"#0d0887\"],[0.1111111111111111,\"#46039f\"],[0.2222222222222222,\"#7201a8\"],[0.3333333333333333,\"#9c179e\"],[0.4444444444444444,\"#bd3786\"],[0.5555555555555556,\"#d8576b\"],[0.6666666666666666,\"#ed7953\"],[0.7777777777777778,\"#fb9f3a\"],[0.8888888888888888,\"#fdca26\"],[1.0,\"#f0f921\"]]}],\"contourcarpet\":[{\"type\":\"contourcarpet\",\"colorbar\":{\"outlinewidth\":0,\"ticks\":\"\"}}],\"contour\":[{\"type\":\"contour\",\"colorbar\":{\"outlinewidth\":0,\"ticks\":\"\"},\"colorscale\":[[0.0,\"#0d0887\"],[0.1111111111111111,\"#46039f\"],[0.2222222222222222,\"#7201a8\"],[0.3333333333333333,\"#9c179e\"],[0.4444444444444444,\"#bd3786\"],[0.5555555555555556,\"#d8576b\"],[0.6666666666666666,\"#ed7953\"],[0.7777777777777778,\"#fb9f3a\"],[0.8888888888888888,\"#fdca26\"],[1.0,\"#f0f921\"]]}],\"surface\":[{\"type\":\"surface\",\"colorbar\":{\"outlinewidth\":0,\"ticks\":\"\"},\"colorscale\":[[0.0,\"#0d0887\"],[0.1111111111111111,\"#46039f\"],[0.2222222222222222,\"#7201a8\"],[0.3333333333333333,\"#9c179e\"],[0.4444444444444444,\"#bd3786\"],[0.5555555555555556,\"#d8576b\"],[0.6666666666666666,\"#ed7953\"],[0.7777777777777778,\"#fb9f3a\"],[0.8888888888888888,\"#fdca26\"],[1.0,\"#f0f921\"]]}],\"mesh3d\":[{\"type\":\"mesh3d\",\"colorbar\":{\"outlinewidth\":0,\"ticks\":\"\"}}],\"scatter\":[{\"fillpattern\":{\"fillmode\":\"overlay\",\"size\":10,\"solidity\":0.2},\"type\":\"scatter\"}],\"parcoords\":[{\"type\":\"parcoords\",\"line\":{\"colorbar\":{\"outlinewidth\":0,\"ticks\":\"\"}}}],\"scatterpolargl\":[{\"type\":\"scatterpolargl\",\"marker\":{\"colorbar\":{\"outlinewidth\":0,\"ticks\":\"\"}}}],\"bar\":[{\"error_x\":{\"color\":\"#2a3f5f\"},\"error_y\":{\"color\":\"#2a3f5f\"},\"marker\":{\"line\":{\"color\":\"#E5ECF6\",\"width\":0.5},\"pattern\":{\"fillmode\":\"overlay\",\"size\":10,\"solidity\":0.2}},\"type\":\"bar\"}],\"scattergeo\":[{\"type\":\"scattergeo\",\"marker\":{\"colorbar\":{\"outlinewidth\":0,\"ticks\":\"\"}}}],\"scatterpolar\":[{\"type\":\"scatterpolar\",\"marker\":{\"colorbar\":{\"outlinewidth\":0,\"ticks\":\"\"}}}],\"histogram\":[{\"marker\":{\"pattern\":{\"fillmode\":\"overlay\",\"size\":10,\"solidity\":0.2}},\"type\":\"histogram\"}],\"scattergl\":[{\"type\":\"scattergl\",\"marker\":{\"colorbar\":{\"outlinewidth\":0,\"ticks\":\"\"}}}],\"scatter3d\":[{\"type\":\"scatter3d\",\"line\":{\"colorbar\":{\"outlinewidth\":0,\"ticks\":\"\"}},\"marker\":{\"colorbar\":{\"outlinewidth\":0,\"ticks\":\"\"}}}],\"scattermapbox\":[{\"type\":\"scattermapbox\",\"marker\":{\"colorbar\":{\"outlinewidth\":0,\"ticks\":\"\"}}}],\"scatterternary\":[{\"type\":\"scatterternary\",\"marker\":{\"colorbar\":{\"outlinewidth\":0,\"ticks\":\"\"}}}],\"scattercarpet\":[{\"type\":\"scattercarpet\",\"marker\":{\"colorbar\":{\"outlinewidth\":0,\"ticks\":\"\"}}}],\"carpet\":[{\"aaxis\":{\"endlinecolor\":\"#2a3f5f\",\"gridcolor\":\"white\",\"linecolor\":\"white\",\"minorgridcolor\":\"white\",\"startlinecolor\":\"#2a3f5f\"},\"baxis\":{\"endlinecolor\":\"#2a3f5f\",\"gridcolor\":\"white\",\"linecolor\":\"white\",\"minorgridcolor\":\"white\",\"startlinecolor\":\"#2a3f5f\"},\"type\":\"carpet\"}],\"table\":[{\"cells\":{\"fill\":{\"color\":\"#EBF0F8\"},\"line\":{\"color\":\"white\"}},\"header\":{\"fill\":{\"color\":\"#C8D4E3\"},\"line\":{\"color\":\"white\"}},\"type\":\"table\"}],\"barpolar\":[{\"marker\":{\"line\":{\"color\":\"#E5ECF6\",\"width\":0.5},\"pattern\":{\"fillmode\":\"overlay\",\"size\":10,\"solidity\":0.2}},\"type\":\"barpolar\"}],\"pie\":[{\"automargin\":true,\"type\":\"pie\"}]},\"layout\":{\"autotypenumbers\":\"strict\",\"colorway\":[\"#636efa\",\"#EF553B\",\"#00cc96\",\"#ab63fa\",\"#FFA15A\",\"#19d3f3\",\"#FF6692\",\"#B6E880\",\"#FF97FF\",\"#FECB52\"],\"font\":{\"color\":\"#2a3f5f\"},\"hovermode\":\"closest\",\"hoverlabel\":{\"align\":\"left\"},\"paper_bgcolor\":\"white\",\"plot_bgcolor\":\"#E5ECF6\",\"polar\":{\"bgcolor\":\"#E5ECF6\",\"angularaxis\":{\"gridcolor\":\"white\",\"linecolor\":\"white\",\"ticks\":\"\"},\"radialaxis\":{\"gridcolor\":\"white\",\"linecolor\":\"white\",\"ticks\":\"\"}},\"ternary\":{\"bgcolor\":\"#E5ECF6\",\"aaxis\":{\"gridcolor\":\"white\",\"linecolor\":\"white\",\"ticks\":\"\"},\"baxis\":{\"gridcolor\":\"white\",\"linecolor\":\"white\",\"ticks\":\"\"},\"caxis\":{\"gridcolor\":\"white\",\"linecolor\":\"white\",\"ticks\":\"\"}},\"coloraxis\":{\"colorbar\":{\"outlinewidth\":0,\"ticks\":\"\"}},\"colorscale\":{\"sequential\":[[0.0,\"#0d0887\"],[0.1111111111111111,\"#46039f\"],[0.2222222222222222,\"#7201a8\"],[0.3333333333333333,\"#9c179e\"],[0.4444444444444444,\"#bd3786\"],[0.5555555555555556,\"#d8576b\"],[0.6666666666666666,\"#ed7953\"],[0.7777777777777778,\"#fb9f3a\"],[0.8888888888888888,\"#fdca26\"],[1.0,\"#f0f921\"]],\"sequentialminus\":[[0.0,\"#0d0887\"],[0.1111111111111111,\"#46039f\"],[0.2222222222222222,\"#7201a8\"],[0.3333333333333333,\"#9c179e\"],[0.4444444444444444,\"#bd3786\"],[0.5555555555555556,\"#d8576b\"],[0.6666666666666666,\"#ed7953\"],[0.7777777777777778,\"#fb9f3a\"],[0.8888888888888888,\"#fdca26\"],[1.0,\"#f0f921\"]],\"diverging\":[[0,\"#8e0152\"],[0.1,\"#c51b7d\"],[0.2,\"#de77ae\"],[0.3,\"#f1b6da\"],[0.4,\"#fde0ef\"],[0.5,\"#f7f7f7\"],[0.6,\"#e6f5d0\"],[0.7,\"#b8e186\"],[0.8,\"#7fbc41\"],[0.9,\"#4d9221\"],[1,\"#276419\"]]},\"xaxis\":{\"gridcolor\":\"white\",\"linecolor\":\"white\",\"ticks\":\"\",\"title\":{\"standoff\":15},\"zerolinecolor\":\"white\",\"automargin\":true,\"zerolinewidth\":2},\"yaxis\":{\"gridcolor\":\"white\",\"linecolor\":\"white\",\"ticks\":\"\",\"title\":{\"standoff\":15},\"zerolinecolor\":\"white\",\"automargin\":true,\"zerolinewidth\":2},\"scene\":{\"xaxis\":{\"backgroundcolor\":\"#E5ECF6\",\"gridcolor\":\"white\",\"linecolor\":\"white\",\"showbackground\":true,\"ticks\":\"\",\"zerolinecolor\":\"white\",\"gridwidth\":2},\"yaxis\":{\"backgroundcolor\":\"#E5ECF6\",\"gridcolor\":\"white\",\"linecolor\":\"white\",\"showbackground\":true,\"ticks\":\"\",\"zerolinecolor\":\"white\",\"gridwidth\":2},\"zaxis\":{\"backgroundcolor\":\"#E5ECF6\",\"gridcolor\":\"white\",\"linecolor\":\"white\",\"showbackground\":true,\"ticks\":\"\",\"zerolinecolor\":\"white\",\"gridwidth\":2}},\"shapedefaults\":{\"line\":{\"color\":\"#2a3f5f\"}},\"annotationdefaults\":{\"arrowcolor\":\"#2a3f5f\",\"arrowhead\":0,\"arrowwidth\":1},\"geo\":{\"bgcolor\":\"white\",\"landcolor\":\"#E5ECF6\",\"subunitcolor\":\"white\",\"showland\":true,\"showlakes\":true,\"lakecolor\":\"white\"},\"title\":{\"x\":0.05},\"mapbox\":{\"style\":\"light\"}}},\"xaxis\":{\"anchor\":\"y\",\"domain\":[0.0,1.0],\"title\":{\"text\":\"genre\"}},\"yaxis\":{\"anchor\":\"x\",\"domain\":[0.0,1.0],\"title\":{\"text\":\"value\"}},\"legend\":{\"title\":{\"text\":\"variable\"},\"tracegroupgap\":0},\"margin\":{\"t\":60}},                        {\"responsive\": true}                    ).then(function(){\n",
              "                            \n",
              "var gd = document.getElementById('21689f6c-d649-4ccb-ab4d-319c91be0c44');\n",
              "var x = new MutationObserver(function (mutations, observer) {{\n",
              "        var display = window.getComputedStyle(gd).display;\n",
              "        if (!display || display === 'none') {{\n",
              "            console.log([gd, 'removed!']);\n",
              "            Plotly.purge(gd);\n",
              "            observer.disconnect();\n",
              "        }}\n",
              "}});\n",
              "\n",
              "// Listen for the removal of the full notebook cells\n",
              "var notebookContainer = gd.closest('#notebook-container');\n",
              "if (notebookContainer) {{\n",
              "    x.observe(notebookContainer, {childList: true});\n",
              "}}\n",
              "\n",
              "// Listen for the clearing of the current output cell\n",
              "var outputEl = gd.closest('.output');\n",
              "if (outputEl) {{\n",
              "    x.observe(outputEl, {childList: true});\n",
              "}}\n",
              "\n",
              "                        })                };                            </script>        </div>\n",
              "</body>\n",
              "</html>"
            ]
          },
          "metadata": {}
        }
      ]
    },
    {
      "cell_type": "code",
      "source": [
        "TablaRating = anime[Filtro][['genre','rating']].groupby(by=['genre']).mean().sort_values(by=['rating'],ascending=False)\n",
        "display(TablaRating)"
      ],
      "metadata": {
        "colab": {
          "base_uri": "https://localhost:8080/",
          "height": 455
        },
        "id": "LSGq88FrW8Y2",
        "outputId": "e7070771-97e5-406f-a993-1dfb57726136"
      },
      "execution_count": null,
      "outputs": [
        {
          "output_type": "display_data",
          "data": {
            "text/plain": [
              "                                                   rating\n",
              "genre                                                    \n",
              "Action, Adventure, Drama, Fantasy, Magic, Mili...    9.26\n",
              "Drama, Fantasy, Romance, Slice of Life, Supern...    9.06\n",
              "Drama, School, Shounen                               9.05\n",
              "Action, Drama, Mecha, Military, Sci-Fi, Super ...    8.98\n",
              "Adventure, Drama, Supernatural                       8.93\n",
              "...                                                   ...\n",
              "Action, Demons, Seinen, Super Power                  3.32\n",
              "Kids, Mecha                                          3.26\n",
              "Action, Adventure, Sci-Fi, Space, Super Power        3.25\n",
              "Dementia, Kids                                       3.21\n",
              "Comedy, Dementia, Fantasy, Horror, Music, Parody     2.55\n",
              "\n",
              "[3230 rows x 1 columns]"
            ],
            "text/html": [
              "\n",
              "  <div id=\"df-d4e09c63-9f57-4884-905c-40a53222344e\">\n",
              "    <div class=\"colab-df-container\">\n",
              "      <div>\n",
              "<style scoped>\n",
              "    .dataframe tbody tr th:only-of-type {\n",
              "        vertical-align: middle;\n",
              "    }\n",
              "\n",
              "    .dataframe tbody tr th {\n",
              "        vertical-align: top;\n",
              "    }\n",
              "\n",
              "    .dataframe thead th {\n",
              "        text-align: right;\n",
              "    }\n",
              "</style>\n",
              "<table border=\"1\" class=\"dataframe\">\n",
              "  <thead>\n",
              "    <tr style=\"text-align: right;\">\n",
              "      <th></th>\n",
              "      <th>rating</th>\n",
              "    </tr>\n",
              "    <tr>\n",
              "      <th>genre</th>\n",
              "      <th></th>\n",
              "    </tr>\n",
              "  </thead>\n",
              "  <tbody>\n",
              "    <tr>\n",
              "      <th>Action, Adventure, Drama, Fantasy, Magic, Mili...</th>\n",
              "      <td>9.26</td>\n",
              "    </tr>\n",
              "    <tr>\n",
              "      <th>Drama, Fantasy, Romance, Slice of Life, Supern...</th>\n",
              "      <td>9.06</td>\n",
              "    </tr>\n",
              "    <tr>\n",
              "      <th>Drama, School, Shounen</th>\n",
              "      <td>9.05</td>\n",
              "    </tr>\n",
              "    <tr>\n",
              "      <th>Action, Drama, Mecha, Military, Sci-Fi, Super ...</th>\n",
              "      <td>8.98</td>\n",
              "    </tr>\n",
              "    <tr>\n",
              "      <th>Adventure, Drama, Supernatural</th>\n",
              "      <td>8.93</td>\n",
              "    </tr>\n",
              "    <tr>\n",
              "      <th>...</th>\n",
              "      <td>...</td>\n",
              "    </tr>\n",
              "    <tr>\n",
              "      <th>Action, Demons, Seinen, Super Power</th>\n",
              "      <td>3.32</td>\n",
              "    </tr>\n",
              "    <tr>\n",
              "      <th>Kids, Mecha</th>\n",
              "      <td>3.26</td>\n",
              "    </tr>\n",
              "    <tr>\n",
              "      <th>Action, Adventure, Sci-Fi, Space, Super Power</th>\n",
              "      <td>3.25</td>\n",
              "    </tr>\n",
              "    <tr>\n",
              "      <th>Dementia, Kids</th>\n",
              "      <td>3.21</td>\n",
              "    </tr>\n",
              "    <tr>\n",
              "      <th>Comedy, Dementia, Fantasy, Horror, Music, Parody</th>\n",
              "      <td>2.55</td>\n",
              "    </tr>\n",
              "  </tbody>\n",
              "</table>\n",
              "<p>3230 rows × 1 columns</p>\n",
              "</div>\n",
              "      <button class=\"colab-df-convert\" onclick=\"convertToInteractive('df-d4e09c63-9f57-4884-905c-40a53222344e')\"\n",
              "              title=\"Convert this dataframe to an interactive table.\"\n",
              "              style=\"display:none;\">\n",
              "        \n",
              "  <svg xmlns=\"http://www.w3.org/2000/svg\" height=\"24px\"viewBox=\"0 0 24 24\"\n",
              "       width=\"24px\">\n",
              "    <path d=\"M0 0h24v24H0V0z\" fill=\"none\"/>\n",
              "    <path d=\"M18.56 5.44l.94 2.06.94-2.06 2.06-.94-2.06-.94-.94-2.06-.94 2.06-2.06.94zm-11 1L8.5 8.5l.94-2.06 2.06-.94-2.06-.94L8.5 2.5l-.94 2.06-2.06.94zm10 10l.94 2.06.94-2.06 2.06-.94-2.06-.94-.94-2.06-.94 2.06-2.06.94z\"/><path d=\"M17.41 7.96l-1.37-1.37c-.4-.4-.92-.59-1.43-.59-.52 0-1.04.2-1.43.59L10.3 9.45l-7.72 7.72c-.78.78-.78 2.05 0 2.83L4 21.41c.39.39.9.59 1.41.59.51 0 1.02-.2 1.41-.59l7.78-7.78 2.81-2.81c.8-.78.8-2.07 0-2.86zM5.41 20L4 18.59l7.72-7.72 1.47 1.35L5.41 20z\"/>\n",
              "  </svg>\n",
              "      </button>\n",
              "      \n",
              "  <style>\n",
              "    .colab-df-container {\n",
              "      display:flex;\n",
              "      flex-wrap:wrap;\n",
              "      gap: 12px;\n",
              "    }\n",
              "\n",
              "    .colab-df-convert {\n",
              "      background-color: #E8F0FE;\n",
              "      border: none;\n",
              "      border-radius: 50%;\n",
              "      cursor: pointer;\n",
              "      display: none;\n",
              "      fill: #1967D2;\n",
              "      height: 32px;\n",
              "      padding: 0 0 0 0;\n",
              "      width: 32px;\n",
              "    }\n",
              "\n",
              "    .colab-df-convert:hover {\n",
              "      background-color: #E2EBFA;\n",
              "      box-shadow: 0px 1px 2px rgba(60, 64, 67, 0.3), 0px 1px 3px 1px rgba(60, 64, 67, 0.15);\n",
              "      fill: #174EA6;\n",
              "    }\n",
              "\n",
              "    [theme=dark] .colab-df-convert {\n",
              "      background-color: #3B4455;\n",
              "      fill: #D2E3FC;\n",
              "    }\n",
              "\n",
              "    [theme=dark] .colab-df-convert:hover {\n",
              "      background-color: #434B5C;\n",
              "      box-shadow: 0px 1px 3px 1px rgba(0, 0, 0, 0.15);\n",
              "      filter: drop-shadow(0px 1px 2px rgba(0, 0, 0, 0.3));\n",
              "      fill: #FFFFFF;\n",
              "    }\n",
              "  </style>\n",
              "\n",
              "      <script>\n",
              "        const buttonEl =\n",
              "          document.querySelector('#df-d4e09c63-9f57-4884-905c-40a53222344e button.colab-df-convert');\n",
              "        buttonEl.style.display =\n",
              "          google.colab.kernel.accessAllowed ? 'block' : 'none';\n",
              "\n",
              "        async function convertToInteractive(key) {\n",
              "          const element = document.querySelector('#df-d4e09c63-9f57-4884-905c-40a53222344e');\n",
              "          const dataTable =\n",
              "            await google.colab.kernel.invokeFunction('convertToInteractive',\n",
              "                                                     [key], {});\n",
              "          if (!dataTable) return;\n",
              "\n",
              "          const docLinkHtml = 'Like what you see? Visit the ' +\n",
              "            '<a target=\"_blank\" href=https://colab.research.google.com/notebooks/data_table.ipynb>data table notebook</a>'\n",
              "            + ' to learn more about interactive tables.';\n",
              "          element.innerHTML = '';\n",
              "          dataTable['output_type'] = 'display_data';\n",
              "          await google.colab.output.renderOutput(dataTable, element);\n",
              "          const docLink = document.createElement('div');\n",
              "          docLink.innerHTML = docLinkHtml;\n",
              "          element.appendChild(docLink);\n",
              "        }\n",
              "      </script>\n",
              "    </div>\n",
              "  </div>\n",
              "  "
            ]
          },
          "metadata": {}
        }
      ]
    },
    {
      "cell_type": "code",
      "source": [
        "Grafico = px.histogram(TablaRating, y = 'rating', x = TablaRating.index)\n",
        "Grafico.update_layout(yaxis_range=[8,9.5])"
      ],
      "metadata": {
        "colab": {
          "base_uri": "https://localhost:8080/",
          "height": 542
        },
        "id": "ysmfrhtnXXOs",
        "outputId": "171cc458-d7db-47d8-929c-6240cd24a75c"
      },
      "execution_count": null,
      "outputs": [
        {
          "output_type": "display_data",
          "data": {
            "text/html": [
              "<html>\n",
              "<head><meta charset=\"utf-8\" /></head>\n",
              "<body>\n",
              "    <div>            <script src=\"https://cdnjs.cloudflare.com/ajax/libs/mathjax/2.7.5/MathJax.js?config=TeX-AMS-MML_SVG\"></script><script type=\"text/javascript\">if (window.MathJax && window.MathJax.Hub && window.MathJax.Hub.Config) {window.MathJax.Hub.Config({SVG: {font: \"STIX-Web\"}});}</script>                <script type=\"text/javascript\">window.PlotlyConfig = {MathJaxConfig: 'local'};</script>\n",
              "        <script src=\"https://cdn.plot.ly/plotly-2.18.2.min.js\"></script>                <div id=\"18581414-d4e9-428e-baca-9057d78f03b3\" class=\"plotly-graph-div\" style=\"height:525px; width:100%;\"></div>            <script type=\"text/javascript\">                                    window.PLOTLYENV=window.PLOTLYENV || {};                                    if (document.getElementById(\"18581414-d4e9-428e-baca-9057d78f03b3\")) {                    Plotly.newPlot(                        \"18581414-d4e9-428e-baca-9057d78f03b3\",                        [{\"alignmentgroup\":\"True\",\"bingroup\":\"x\",\"histfunc\":\"sum\",\"hovertemplate\":\"genre=%{x}<br>sum of rating=%{y}<extra></extra>\",\"legendgroup\":\"\",\"marker\":{\"color\":\"#636efa\",\"pattern\":{\"shape\":\"\"}},\"name\":\"\",\"offsetgroup\":\"\",\"orientation\":\"v\",\"showlegend\":false,\"x\":[\"Action, Adventure, Drama, Fantasy, Magic, Military, Shounen\",\"Drama, Fantasy, Romance, Slice of Life, Supernatural\",\"Drama, School, Shounen\",\"Action, Drama, Mecha, Military, Sci-Fi, Super Power\",\"Adventure, Drama, Supernatural\",\"Drama, Music, Romance, School, Shounen\",\"Action, Mecha, Military, School, Sci-Fi, Super Power\",\"Action, Drama, Historical, Martial Arts, Romance, Samurai\",\"Action, Comedy, Historical, Parody, Samurai, Sci-Fi, Shounen\",\"Comedy, Mystery, Romance, School, Sci-Fi, Supernatural\",\"Comedy, Mystery, Romance, Supernatural, Vampire\",\"Comedy, Drama, School, Shounen, Slice of Life\",\"Adventure, Fantasy, Historical, Mystery, Seinen, Slice of Life, Supernatural\",\"Action, Mystery, Supernatural, Vampire\",\"Drama, Horror, Mystery, Police, Psychological, Seinen, Thriller\",\"Action, Drama, Mystery, Romance, Supernatural, Thriller\",\"Drama, Fantasy, Historical, Kids, School\",\"Mystery, Psychological, Romance\",\"Mystery, Psychological, Seinen, Supernatural\",\"Sci-Fi, Thriller\",\"Drama, Historical, Seinen, Thriller\",\"Action, Mecha, Sci-Fi, Space, Super Power\",\"Drama, Romance, Shoujo, Supernatural\",\"Action, Comedy, Fantasy, Magic, Shounen\",\"Action, Drama, Horror, Psychological, Sci-Fi, Seinen\",\"Action, Horror, Military, Seinen, Supernatural, Vampire\",\"Comedy, Drama, Romance, Sports\",\"Action, Mecha, Military, Mystery, Police, Sci-Fi, Seinen\",\"Action, Comedy, Slice of Life, Supernatural\",\"Psychological, Seinen, Sports\",\"Comedy, Drama, Romance, School, Sports\",\"Romance, School, Shounen Ai, Slice of Life\",\"Drama, Horror, Mystery, Sci-Fi, Supernatural\",\"Action, Adventure, Shounen, Supernatural, Vampire\",\"Demons, Drama, Fantasy, Historical, Kids, Magic, Romance, Samurai, Supernatural\",\"Action, Adventure, Comedy, Historical, Samurai, Shounen\",\"Action, Adventure, Historical, Martial Arts, Romance\",\"Demons, Fantasy, Historical, Horror, Mystery, Seinen, Supernatural\",\"Drama, Josei, Music, Romance, School\",\"Drama, Fantasy, Shoujo, Slice of Life, Supernatural\",\"Adventure, Comedy, Ecchi, Fantasy, Game, Supernatural\",\"Action, Comedy, Demons, Fantasy, Martial Arts, School, Shounen\",\"Action, Mecha, Military, Police, Sci-Fi, Seinen\",\"Action, Adventure, Slice of Life\",\"Comedy, Drama, Josei, Music, Romance, Slice of Life\",\"Mystery, Supernatural, Vampire\",\"Dementia, Drama, Mecha, Psychological, Sci-Fi\",\"Action, Adventure, Drama, Fantasy, Romance, Shounen\",\"Adventure, Drama, Romance, Sci-Fi\",\"Action, Adventure, Historical, Samurai\",\"Drama, Game, Josei, Slice of Life, Sports\",\"Action, Comedy, Historical, Mystery, Seinen, Supernatural\",\"Comedy, Demons, Fantasy, Historical, Mystery, Shounen, Supernatural\",\"Mystery, Psychological, Supernatural, Thriller\",\"Action, Historical, Military, Seinen\",\"Comedy, Drama, Music, Shounen, Slice of Life\",\"Comedy, Drama, Psychological, Romance\",\"Action, Drama, Mystery, Sci-Fi, Space\",\"Action, Comedy, Drama, School, Supernatural\",\"Mystery, Seinen, Supernatural\",\"Mystery, Romance, Supernatural, Vampire\",\"Drama, Romance, Sci-Fi, Seinen, Space\",\"Adventure, Fantasy, Romance, Sci-Fi\",\"Action, Comedy, Historical, Parody, Sci-Fi\",\"Action, Comedy, Shounen, Super Power\",\"Comedy, Demons, Fantasy, Historical, Shounen, Supernatural\",\"Drama, Mystery, Psychological\",\"Action, Adventure, Drama, Fantasy, Historical, Romance\",\"Action, Cars, Sci-Fi, Sports\",\"Comedy, Demons, Fantasy, Shoujo, Supernatural\",\"Adventure, Drama, Fantasy, Romance, Slice of Life\",\"Action, Dementia, Drama, Mecha, Psychological, Sci-Fi\",\"Josei, Slice of Life\",\"Action, Adventure, Martial Arts, Shounen, Super Power, Supernatural\",\"Action, Mystery, Romance, Supernatural, Thriller\",\"Adventure, Mystery, Romance, Sci-Fi\",\"Drama, Slice of Life, Supernatural\",\"Comedy, Drama, Fantasy, Magic, Romance, Shoujo\",\"Mystery, Police, Psychological, Supernatural, Thriller\",\"Drama, Mystery, Sci-Fi, Supernatural, Thriller\",\"Adventure, Comedy, Drama, Fantasy, Magic, Romance\",\"Psychological, Thriller\",\"Ecchi, School, Shounen\",\"Romance, School, Slice of Life\",\"Action, Adventure, Comedy, Fantasy, Romance, Shoujo\",\"Action, Mecha, Police, Psychological, Sci-Fi, Seinen\",\"Action, Adventure, Drama, Fantasy, Magic, Mystery, Romance, Shounen, Supernatural\",\"Dementia, Drama, Horror, Psychological\",\"Drama, Historical, Mystery, Romance\",\"Action, Adventure, Comedy, Drama, Fantasy, Shounen, Super Power\",\"Drama, Fantasy, Psychological, Shoujo\",\"Game, Psychological, Seinen, Thriller\",\"Action, Adventure, Demons, Drama, Fantasy, Horror, Military, Seinen, Supernatural\",\"Action, Drama, Mystery, Supernatural, Thriller\",\"Comedy, Demons, Fantasy, Romance, Shoujo, Supernatural\",\"Action, Adventure, Comedy, Drama, Shounen, Supernatural\",\"Action, Comedy, Parody, Samurai\",\"Action, Mecha, Mystery, Police, Psychological, Sci-Fi, Seinen\",\"Action, Mystery, Police, Shounen\",\"Drama, Game, Mystery, Psychological, Thriller\",\"Drama, Mystery, Romance, Supernatural\",\"Comedy, Drama, Josei, Romance\",\"Adventure, Comedy, Drama, Fantasy, Magic, Romance, School, Shoujo\",\"Action, Comedy, Parody, Sci-Fi, Seinen, Super Power, Supernatural\",\"Action, Adventure, Comedy, Drama, Sci-Fi, Space\",\"Adventure, Drama, Music, Sci-Fi\",\"Mystery, School, Slice of Life\",\"Horror, Mystery, Psychological, Supernatural, Thriller\",\"Action, Drama, Fantasy, Magic, Mystery, Psychological, Shounen\",\"Comedy, Drama, Mystery, Psychological, Supernatural\",\"Drama, Magic, Psychological, Thriller\",\"Action, Drama, Seinen, Thriller\",\"Comedy, Drama, Romance, School, Slice of Life, Supernatural\",\"Adventure, Comedy, Fantasy, Martial Arts, Shounen, Super Power\",\"Drama, Romance, School, Shounen, Slice of Life, Sports\",\"Action, Fantasy, Magic, Shounen, Supernatural\",\"Comedy, Josei, Music, Romance\",\"Action, Adventure, Horror, Military, Sci-Fi, Supernatural\",\"Action, Comedy, Historical, Parody, Samurai, Shounen\",\"School, Slice of Life, Sports\",\"Fantasy, Horror, Mystery, Psychological, Sci-Fi, Thriller\",\"Comedy, Mystery, Supernatural\",\"Action, Adventure, Drama, Shounen\",\"Cars, Horror, Kids\",\"Adventure, Drama, Mecha, Military, Romance, Sci-Fi\",\"Action, Comedy, Historical, Mecha, Parody, Samurai, Sci-Fi, Shounen\",\"Comedy, Demons, Shounen, Supernatural\",\"Adventure, Drama, Psychological, Sci-Fi, Supernatural\",\"Action, Adventure, Comedy, Demons, Fantasy, Magic, Romance, Shounen, Supernatural\",\"Adventure, Romance, Sci-Fi, Shounen, Space\",\"Comedy, Drama, Romance, Shounen\",\"Adventure, Drama, Fantasy, Magic, Military, Shounen\",\"Drama, Historical, Romance, Samurai, Shounen\",\"Drama, Historical, Romance, Sci-Fi, Shounen Ai\",\"Action, Historical, Military, Sci-Fi, Space\",\"Action, Comedy, Ecchi, Fantasy, Harem, Mecha, School\",\"Comedy, Drama, Psychological, Seinen\",\"Comedy, Drama, Shounen, Sports\",\"Comedy, Drama, Mystery, Psychological\",\"Drama, Harem, Psychological, Romance\",\"Comedy, Drama, Music, Romance, Shoujo, Supernatural\",\"Action, Adventure, Comedy, Fantasy, Shounen, Supernatural\",\"Romance, School, Shounen, Sports\",\"Action, Drama, Mecha, Sci-Fi, Space\",\"Drama, Fantasy, Mystery, Psychological, Slice of Life\",\"Action, Mystery, Psychological, Shounen, Supernatural, Thriller\",\"Mecha, Military, Mystery, Police, Sci-Fi, Seinen\",\"Action, Comedy, Demons, Fantasy, Historical, Shounen, Supernatural\",\"Action, Comedy, Dementia, Mecha, Parody, Sci-Fi\",\"Comedy, Mystery, Parody, School, Sci-Fi, Slice of Life\",\"Drama, Fantasy, Psychological, Thriller\",\"Comedy, Harem, Romance, Shounen, Supernatural\",\"Adventure, Comedy, Ecchi\",\"Action, Police, Psychological, Sci-Fi\",\"Comedy, Drama, Fantasy, Shoujo\",\"Romance, School, Shoujo, Slice of Life\",\"Adventure, Drama, Historical, Romance, Shoujo\",\"Adventure, Drama, Historical, Mystery\",\"Action, Adventure, Drama, Fantasy, Shoujo\",\"Action, Adventure, Fantasy, Game, Magic, Supernatural\",\"Adventure, Comedy, Romance, Shounen\",\"Adventure, Mystery, Police, Shounen\",\"Action, Adventure, Comedy, Drama, Historical, Military, Romance\",\"Comedy, Demons, Fantasy, Romance, Shounen\",\"Action, Comedy, Drama, Mystery, Romance, Sci-Fi, Thriller\",\"Historical, Romance, School, Shoujo\",\"Action, Adventure, Comedy, Drama, Fantasy, Shounen\",\"Action, Comedy, School, Super Power\",\"Action, Mystery, Supernatural\",\"Action, Adventure, Drama, Shounen, Supernatural\",\"Historical, Samurai, Seinen\",\"Comedy, Harem, Romance, School, Shoujo\",\"Comedy, Parody, Supernatural\",\"Action, Demons, Shounen, Super Power\",\"Adventure, Comedy, Demons, Fantasy, Magic\",\"Fantasy, Slice of Life, Supernatural\",\"Adventure, Drama, Historical, Martial Arts, Romance\",\"Drama, School, Shoujo Ai, Slice of Life\",\"Historical, Kids, Mystery\",\"Comedy, Martial Arts, Sci-Fi, Space\",\"Adventure, Horror, Psychological, Seinen, Supernatural\",\"Adventure, Kids, Mecha\",\"Kids, Psychological, Sci-Fi\",\"Action, Adventure, Comedy, Fantasy, Historical, Samurai, Seinen\",\"Cars, Seinen, Sports\",\"Dementia, Drama, Mystery, Psychological, Sci-Fi, Supernatural\",\"Mystery, Supernatural, Thriller, Vampire\",\"Action, Drama, Martial Arts, Sci-Fi, Shounen\",\"Comedy, Drama, Romance, Shounen Ai\",\"Action, Mystery, Sci-Fi, Super Power\",\"Comedy, Drama, School, Shounen, Sports\",\"Fantasy, Sci-Fi, Shounen, Slice of Life\",\"Action, Adventure, Comedy, Sci-Fi, Space\",\"Action, Comedy, Drama, Mecha, Military, Sci-Fi, Shounen, Space\",\"Action, Drama, Sci-Fi, Seinen, Super Power\",\"School, Shoujo, Shoujo Ai, Slice of Life\",\"Comedy, Horror, Mystery, Shoujo, Supernatural\",\"Action, Adventure, Demons, Fantasy, Sci-Fi, Shounen, Super Power\",\"Adventure, Comedy, Fantasy, Romance, Shoujo\",\"Action, Adventure, Ecchi, Fantasy, Shounen, Supernatural\",\"Comedy, Military, Parody, Sci-Fi, Space\",\"Fantasy, Historical, Romance\",\"Action, Adventure, Fantasy, Military\",\"Adventure, Comedy, Fantasy, Magic, School\",\"Comedy, Drama, Fantasy, Slice of Life\",\"Action, Mecha, Military, Super Power\",\"Action, Mecha, Shounen, Super Power\",\"Action, Fantasy, Supernatural, Thriller\",\"Action, Military, Police, Sci-Fi\",\"Action, Drama, Fantasy, Horror, Romance, Sci-Fi, Vampire\",\"Action, Comedy, Drama, Magic, Super Power\",\"Drama, Fantasy, Romance, Shoujo\",\"Action, Fantasy, Shoujo, Supernatural\",\"Action, Adventure, Comedy, Historical, Romance, Samurai\",\"Comedy, Music, School, Slice of Life\",\"Drama, Psychological, Romance, Slice of Life\",\"Action, Adventure, Drama, Fantasy, Mystery, Sci-Fi\",\"Adventure, Comedy, Demons, Fantasy, Magic, Shounen\",\"Mecha, Military, Police, Psychological, Sci-Fi\",\"Horror, Mystery, Supernatural, Vampire\",\"Drama, Game, Seinen, Slice of Life\",\"Action, Mystery, Supernatural, Thriller\",\"Action, Adventure, Comedy, Fantasy, Magic, Shounen\",\"Adventure, Fantasy, Mystery, Shounen, Supernatural\",\"Comedy, Josei, Music, Romance, Slice of Life\",\"Action, Adventure, Demons, Fantasy, Shounen, Super Power, Supernatural\",\"Action, Comedy, Fantasy, Shoujo\",\"Action, Mecha, Military, Music, Romance, Sci-Fi, Space\",\"Action, Adventure, Comedy, Drama, Fantasy, Magic, Military, Shounen\",\"Comedy, Harem, Mystery, Romance, School, Shounen, Supernatural\",\"Action, Adventure, Demons, Fantasy, Military, Seinen, Supernatural\",\"Drama, School, Super Power\",\"Action, Adventure, Comedy, Drama, Seinen\",\"Comedy, Sci-Fi, Seinen, Slice of Life, Space\",\"Adventure, Drama, Historical, Kids, Slice of Life\",\"Action, Adventure, Fantasy, Game, Magic, Shounen\",\"Adventure, Comedy, Drama, Fantasy\",\"Drama, Historical, Psychological, Seinen, Thriller\",\"Comedy, Parody, School, Slice of Life\",\"Comedy, Shoujo Ai, Slice of Life\",\"Comedy, School, Shoujo Ai, Slice of Life\",\"Adventure, Comedy, Drama, Fantasy, Historical, Romance\",\"Action, Mecha, Military, Shounen\",\"Drama, Military, Romance, Sci-Fi\",\"Comedy, Drama, Josei, Romance, Slice of Life\",\"Adventure, Comedy, Demons, Fantasy, Magic, Romance, Shounen, Supernatural\",\"Adventure, Comedy, Demons, Drama, Fantasy, Historical, Romance, Shounen, Supernatural\",\"Horror, Mystery, School, Supernatural, Thriller\",\"Action, Adventure, Drama, Fantasy, Historical, Shounen\",\"Adventure, Psychological, Space\",\"Drama, School, Shoujo, Shoujo Ai\",\"Adventure, Comedy, Dementia, Psychological, Romance\",\"Adventure, Comedy, Demons, Fantasy, Shoujo\",\"Comedy, Parody, Shounen, Supernatural\",\"Action, Martial Arts, Romance, Shounen, Super Power\",\"Action, Cars, Drama, Seinen, Sports\",\"Adventure, Mystery\",\"Comedy, Fantasy, Martial Arts, Slice of Life\",\"Comedy, Drama, Mystery, Police, Shounen\",\"Comedy, Drama, Sports\",\"Comedy, Drama, Ecchi, Harem, Romance, Sci-Fi, Shounen, Supernatural\",\"Adventure, Comedy, Drama, Music, School, Seinen\",\"Comedy, Martial Arts, Romance, Shounen\",\"Comedy, Historical, Romance, School, Shoujo, Slice of Life\",\"Drama, Military, Police, Psychological, Romance\",\"Mystery, Supernatural\",\"Adventure, Comedy, Mystery, Police, Shounen, Sports\",\"Action, Mecha, Military, Music, Sci-Fi, Space\",\"Action, Horror, Military, Seinen, Super Power, Supernatural, Vampire\",\"Comedy, Ecchi, Harem, Romance, School, Sci-Fi, Shounen\",\"Action, Horror, Mystery, Psychological\",\"Drama, Romance, School, Shoujo, Shoujo Ai\",\"Drama, Josei, Romance\",\"Action, Adventure, Ecchi, Magic, Shounen, Supernatural\",\"Drama, Fantasy, Historical, Romance\",\"Action, Drama, Horror, Psychological, Romance, Seinen, Supernatural\",\"Action, Adventure, Fantasy, Shounen, Supernatural\",\"Drama, Mystery, Seinen, Supernatural\",\"Action, Demons, Drama, Fantasy, Historical, Josei\",\"Action, Adventure, Horror, Mecha, Psychological, Sci-Fi, Shounen\",\"Drama, Horror, Psychological, Sci-Fi\",\"Action, Comedy, School, Shounen, Super Power\",\"Drama, Mystery, Romance\",\"Drama, Mecha, Mystery, Police, Sci-Fi\",\"Comedy, Romance, Seinen\",\"Comedy, Drama, Music, Romance, Shoujo, Slice of Life\",\"Comedy, Police, Slice of Life\",\"Action, Fantasy, Shounen, Super Power\",\"Action, Adventure, Mecha, Military, Romance, Sci-Fi, Space\",\"Action, Drama, Mystery, Supernatural\",\"Adventure, Comedy, Kids, Mystery, Police, Shounen\",\"Action, Comedy, School, Shounen, Sports\",\"Action, Comedy, Fantasy, Magic, School, Shoujo, Slice of Life\",\"Action, Adventure, Comedy, Ecchi, Samurai, Seinen\",\"Music, Shounen\",\"Adventure, Drama, Fantasy, Military, Sci-Fi\",\"Action, Comedy, Mecha, Military, Sci-Fi\",\"Comedy, Sci-Fi, Shoujo\",\"Comedy, Drama, Romance, Shoujo\",\"Comedy, School, Slice of Life, Sports\",\"Action, Fantasy, Mecha, Military, Shounen\",\"Adventure, Fantasy, Romance, Shoujo\",\"Comedy, School, Shounen, Slice of Life\",\"Action, Drama, Horror, Military, Mystery, Supernatural, Vampire\",\"Adventure, Fantasy, Mecha, Romance, Shoujo\",\"Comedy, School, Super Power\",\"Action, Demons, Historical, Romance, Supernatural\",\"Comedy, School, Shounen, Super Power, Supernatural\",\"Comedy, Drama, Fantasy, Romance, Shoujo, Slice of Life\",\"Adventure, Comedy, Drama, Shounen, Supernatural\",\"Action, Drama, Horror, Mystery, Psychological, Seinen, Supernatural\",\"Historical, Romance, Shounen\",\"Comedy, Mystery, Romance\",\"Adventure, Military, Romance\",\"Adventure, Comedy, Martial Arts, Romance, Shounen, Supernatural\",\"Mystery, School, Thriller\",\"Adventure, Comedy, Demons, Fantasy, Magic, Martial Arts, Shounen\",\"Action, Comedy, School, Supernatural\",\"Action, Adventure, Fantasy, Magic, Military\",\"Action, Comedy, Ecchi, Parody, Supernatural\",\"Action, Comedy, Shounen, Super Power, Supernatural\",\"Action, Drama, Historical, Josei, Samurai, Supernatural\",\"Action, Drama, Psychological, Sci-Fi\",\"Action, Comedy, Drama, Mystery, Romance, Thriller\",\"Action, Super Power, Supernatural, Thriller\",\"Action, Adventure, Historical, Magic, Mystery, Sci-Fi\",\"Action, Ecchi, Fantasy, Romance, School\",\"Action, Comedy, Military, Romance\",\"Adventure, Comedy, Mystery, Police, Shounen\",\"Comedy, Drama, Romance, School, Shoujo, Slice of Life\",\"Drama, Magic, Romance, Shoujo\",\"Adventure, Ecchi, Fantasy, Magic, Romance\",\"Comedy, Ecchi, Harem, Romance, Sci-Fi, Shounen, Supernatural\",\"Action, Adventure, Horror, Shounen, Vampire\",\"Adventure, Comedy, Drama, Fantasy, Historical, Magic, Martial Arts, Romance, Shoujo\",\"Comedy, Police, Shounen, Slice of Life\",\"Action, Drama, Fantasy, Shounen, Super Power\",\"Action, Military, Romance\",\"Adventure, Drama, Fantasy, Sci-Fi, Space\",\"Action, Comedy, Mystery, Seinen, Supernatural\",\"Comedy, Demons, Mystery, Shounen, Supernatural\",\"Magic, Romance, School, Sci-Fi, Supernatural\",\"Comedy, Drama, Slice of Life, Supernatural\",\"Horror, Mystery, Romance, School, Shounen, Supernatural\",\"Fantasy, Shounen Ai\",\"Adventure, Fantasy, Psychological\",\"Action, Comedy, Drama, Fantasy\",\"Action, School, Sci-Fi, Shounen, Supernatural\",\"Psychological, Romance, Slice of Life\",\"Adventure, Demons, Drama, Fantasy, Historical, Romance, Shounen, Supernatural\",\"Action, Mystery, Romance, Super Power, Thriller\",\"Drama, Historical, Kids, Space\",\"Comedy, Game, School, Seinen\",\"Action, Comedy, Demons, Ecchi, Harem, Romance, School\",\"Action, Ecchi, Fantasy, School, Shounen, Supernatural, Vampire\",\"Comedy, Game, Shounen, Supernatural\",\"Drama, Historical, Romance, Samurai, Yaoi\",\"Comedy, Drama, Fantasy, Historical, Military, Shounen\",\"Adventure, Drama, Sci-Fi, Slice of Life\",\"Comedy, Drama, Fantasy, Magic, Shoujo\",\"Drama, Mystery, Police, Psychological, Supernatural, Thriller\",\"Action, Drama, Fantasy, Sci-Fi\",\"Comedy, Drama, Mystery, Romance, Slice of Life, Thriller\",\"Horror, Mystery, Psychological, Supernatural\",\"Comedy, Romance, School, Super Power\",\"Action, Military, Romance, Sci-Fi, Space\",\"Action, Drama, Fantasy, Romance, Supernatural\",\"Action, Comedy, Ecchi, Shounen, Sports\",\"Comedy, Fantasy, Parody, Shounen, Supernatural\",\"Action, Comedy, Drama, Mystery, Shounen, Super Power, Supernatural\",\"Action, Adventure, Mecha, Music, Sci-Fi\",\"Action, School, Supernatural, Vampire\",\"Action, Magic, Mystery, Romance, Supernatural, Thriller\",\"Action, Adventure, Fantasy, Sci-Fi, Slice of Life\",\"Action, Mecha, Sci-Fi, Seinen, Space\",\"Action, Mecha, Military, Sci-Fi, Shounen, Space\",\"Action, Horror, Mystery, Seinen, Supernatural\",\"Adventure, Comedy, Drama, Fantasy, Magic, Romance, Shoujo\",\"Action, Comedy, School, Shounen\",\"Horror, Mystery, Psychological, School, Slice of Life\",\"Comedy, Fantasy, Military, Parody\",\"Action, Adventure, Comedy, Demons, Shounen, Supernatural\",\"Action, Drama, Horror, School, Seinen, Supernatural\",\"Action, Demons, Fantasy, Historical, Magic, Shoujo, Supernatural\",\"Action, Psychological, Shounen, Supernatural\",\"Action, Comedy, Harem, Parody, Romance\",\"Action, Comedy, Mystery, Shounen\",\"Comedy, Drama, Romance, School, Shounen, Slice of Life, Super Power\",\"Action, Adventure, Comedy, Space\",\"Action, Adventure, Drama, Fantasy, Mystery, Romance, Shounen, Supernatural\",\"Action, Comedy, Martial Arts, Shounen, Supernatural\",\"Action, Adventure, Drama, Fantasy, Historical, Shounen, Supernatural\",\"Comedy, Harem, Romance, School, Seinen, Slice of Life\",\"Action, Psychological, Shounen, Supernatural, Thriller\",\"Adventure, Comedy, Demons, Drama, Fantasy, Historical, Romance, Shounen, Super Power\",\"Action, Comedy, Drama, Shounen\",\"Comedy, Drama, Harem, Magic, Music, Romance, School, Shoujo\",\"Comedy, Demons, Parody\",\"Comedy, Josei, Romance\",\"Action, Comedy, Magic, Supernatural\",\"Action, Drama, Military, Sci-Fi, Space\",\"Drama, Historical, Romance, Seinen, Slice of Life\",\"Adventure, Comedy, Ecchi, Harem, Magic, Romance, Shounen, Supernatural, Vampire\",\"Action, Psychological, Sci-Fi, Seinen\",\"Action, Historical, Martial Arts, Samurai, Shounen\",\"Adventure, Comedy, Drama, Shoujo\",\"Kids, School, Shoujo\",\"Action, Adventure, Fantasy, Historical, Romance, Samurai, Supernatural\",\"Adventure, Drama, Fantasy, Romance\",\"Action, Comedy, Fantasy, Sci-Fi, Shounen, Super Power\",\"Action, Drama, Fantasy, Romance, School, Supernatural\",\"Action, Mecha, Police, Psychological, Sci-Fi\",\"Drama, Harem, Psychological, Romance, School\",\"Adventure, Fantasy, Historical, Horror, Romance, Shounen, Supernatural\",\"Action, Fantasy, Super Power\",\"Comedy, Drama, Romance, School, Supernatural\",\"Adventure, Fantasy, Mystery, Romance, Sci-Fi\",\"Drama, Romance, School, Sci-Fi, Shoujo\",\"Comedy, Parody, Romance, Sci-Fi\",\"Action, Comedy, Ecchi, Harem, Magic, Supernatural\",\"Comedy, Demons, Supernatural\",\"Action, Drama, Mecha, Military, Sci-Fi, Space\",\"Drama, Game, Mystery, Thriller\",\"Adventure, Mecha, School, Sci-Fi, Shounen, Sports\",\"Action, Adventure, Drama, Mecha, Military, Psychological, Sci-Fi, Space\",\"Fantasy, Seinen, Slice of Life\",\"Action, Comedy, Drama, Magic, Seinen\",\"Comedy, Drama, School, Shounen, Slice of Life, Sports\",\"Comedy, Magic, Shounen, Slice of Life, Supernatural\",\"Adventure, Comedy, Horror, Romance, School, Shounen, Supernatural\",\"Adventure, Comedy, Historical, Romance, Sci-Fi\",\"Drama, Historical, Samurai, Shounen\",\"Action, Adventure, Mystery\",\"Action, Adventure, Comedy, Ecchi, Fantasy, Harem, Magic, Romance, School\",\"Action, Comedy, Harem, Sci-Fi, Shounen, Space\",\"Adventure, Magic, Romance, Shoujo\",\"Drama, Historical, Psychological, Seinen\",\"Action, Adventure, Comedy, Drama, Sci-Fi, Super Power\",\"Action, Drama, Martial Arts, Super Power\",\"Comedy, Drama, School, Slice of Life, Supernatural\",\"Action, Drama, Historical, Samurai, Supernatural\",\"Action, Comedy, Drama, Fantasy, Magic, Music, Romance\",\"Comedy, Drama, Romance, School, Slice of Life\",\"Action, Demons, Fantasy, Shounen, Supernatural\",\"Comedy, Drama, Ecchi, Fantasy, Magic, Romance, Shounen, Slice of Life\",\"Action, Adventure, Martial Arts, Romance\",\"Drama, Mystery, Romance, School\",\"Action, Super Power, Supernatural\",\"Adventure, Comedy, Demons, Drama, Historical, Romance, Shounen, Supernatural\",\"Adventure, Drama, Police, Romance, Sci-Fi, Shounen\",\"Action, Historical, Shoujo\",\"Adventure, Comedy, Drama, Martial Arts, Mecha, Romance, Sci-Fi, Space, Sports\",\"Action, Fantasy, Historical, Mecha\",\"Action, Adventure, Fantasy, Martial Arts, Shounen, Super Power\",\"Drama, Fantasy, Psychological, Supernatural, Thriller\",\"Mystery, Seinen\",\"Action, Adventure, Martial Arts, Mystery, Shounen, Super Power\",\"Game, Historical, Shounen\",\"Drama, Historical, Josei\",\"Comedy, Fantasy, Seinen\",\"Comedy, Drama, Magic, Romance, School\",\"Action, Drama, Horror, Mystery, Psychological, Supernatural\",\"Action, Magic, Sci-Fi, Super Power\",\"Action, Fantasy, Kids, Sci-Fi\",\"Fantasy, Historical, Horror\",\"Action, Adventure, Drama, Psychological, Sci-Fi\",\"Action, Adventure, Drama, Seinen, Thriller\",\"Adventure, Drama, Fantasy, Magic, Mecha, Romance, Shoujo\",\"Military, Music, Sci-Fi, Slice of Life\",\"Action, Comedy, Demons, School, Shounen, Supernatural\",\"Action, Adventure, Demons, Drama, Fantasy, Horror, Military, Romance, Seinen, Supernatural\",\"Action, Comedy, Martial Arts, Shounen, Super Power\",\"Drama, Military, Sci-Fi, Space\",\"Drama, Music, Sci-Fi\",\"Drama, Josei\",\"Comedy, Magic, Romance, Shounen\",\"Action, Comedy, Mecha, Military, Parody, Romance, Sci-Fi, Shounen, Space\",\"Historical, Mecha, Samurai, Sci-Fi\",\"Action, Cars, Comedy, School, Seinen\",\"Demons, Historical, Military, Romance, Seinen, Supernatural\",\"Action, Demons, Horror, Romance, Supernatural\",\"Drama, Mecha, Military, Police\",\"Harem, Music, Romance, School, Shoujo\",\"Action, Comedy, Drama, Fantasy, Magic, Mecha, Romance, School, Shoujo Ai\",\"Mystery, Psychological, Sci-Fi, Supernatural\",\"Drama, Mecha, Military, Psychological, Sci-Fi, Space\",\"Dementia, Drama, Fantasy, Romance, Shoujo\",\"Comedy, Parody, Seinen, Super Power\",\"Action, Adventure, Drama, Historical, Romance\",\"Action, Adventure, Drama, Mecha, Military, Romance, Sci-Fi, Shounen, Space\",\"Action, Fantasy, Magic, Romance, Supernatural\",\"Action, Adventure, Fantasy, Kids, Magic, Supernatural\",\"Comedy, Magic, Romance, Seinen, Supernatural\",\"Drama, School, Supernatural\",\"Action, Comedy, Fantasy, Shounen, Super Power\",\"Action, Adventure, Shounen, Super Power\",\"Action, Mecha, Mystery, Psychological, Sci-Fi\",\"Comedy, Ecchi, Harem, Romance, School, Seinen, Slice of Life\",\"Comedy, Mecha, Shounen\",\"Adventure, Comedy, Fantasy, Historical, Kids, Shounen\",\"Action, Adventure, Fantasy, School, Sci-Fi\",\"Comedy, Drama, Ecchi, Romance, Sci-Fi, Seinen\",\"Comedy, Parody, Sci-Fi, Shounen\",\"Action, Drama, Fantasy, Historical, Martial Arts\",\"Action, Psychological, Sci-Fi\",\"Adventure, Fantasy, Historical, Romance\",\"Comedy, Ecchi, Harem, School, Sci-Fi, Shounen\",\"Action, Adventure, Comedy, Fantasy, Shoujo\",\"School, Super Power\",\"Action, Drama, Fantasy, Magic, Romance, Shoujo, Super Power\",\"Action, Drama, Historical, Military, Sci-Fi, Seinen\",\"Harem, Romance, Sci-Fi\",\"Dementia, Drama, Fantasy\",\"Comedy, Mystery, Psychological, Supernatural, Thriller\",\"Action, Dementia, Ecchi, Fantasy, Mecha, Military, Music, School, Sci-Fi, Space, Supernatural\",\"Drama, Magic, Military, Romance, Shoujo Ai\",\"Mecha, Police, Psychological, Sci-Fi\",\"Action, Mecha, Military\",\"Action, Comedy, Fantasy, Parody, Shounen\",\"Action, Drama, Military, Psychological, Sci-Fi\",\"Action, Adventure, Mecha, Military\",\"Drama, Music, Romance, Shoujo\",\"Action, Drama, Mecha, Music, Mystery, Psychological, Romance, Sci-Fi\",\"Action, Comedy, Demons, Fantasy, Shounen, Supernatural\",\"Comedy, Harem, Romance, School, Sci-Fi\",\"Action, Adventure, Fantasy, Magic, Shounen, Supernatural\",\"Martial Arts\",\"Action, Adventure, Comedy, Ecchi, Sci-Fi, Shounen\",\"Adventure, Fantasy, Shounen, Slice of Life, Supernatural\",\"Drama, Mecha, Military, Romance, Sci-Fi, Space\",\"Action, Adventure, Comedy, Drama, Fantasy, Shoujo\",\"Comedy, Drama, Romance, Shounen Ai, Slice of Life\",\"Action, Comedy, Military\",\"Action, Adventure, Fantasy, Magic, Martial Arts, Shounen\",\"Comedy, Harem, Romance, Sci-Fi, Shounen, Space\",\"Historical, Josei, Romance\",\"Comedy, Romance, Shounen\",\"Action, Adventure, Comedy, Drama\",\"Action, Drama, Historical, Martial Arts, Samurai, Seinen\",\"Adventure, Sci-Fi, Shounen, Sports\",\"Demons, Magic, Romance, Shoujo\",\"Comedy, Demons, Ecchi, Harem, Romance, School\",\"Action, Comedy, Drama, Romance, School, Shounen, Sports\",\"Action, Mystery, Super Power, Supernatural\",\"Drama, Mecha, Romance, Sci-Fi, Space\",\"Action, Comedy, Ecchi, Fantasy, Harem, Magic, Romance, School, Supernatural\",\"Drama, Romance, School, Shoujo, Shoujo Ai, Slice of Life\",\"Drama, Historical, Shoujo, Slice of Life\",\"Comedy, Harem, Romance, School, Shounen\",\"Comedy, School, Shounen, Sports\",\"Adventure, Comedy, Sci-Fi, Shounen, Super Power\",\"Adventure, Comedy, Drama, Fantasy, Mecha, Sci-Fi, Shounen\",\"Comedy, Drama, Martial Arts\",\"Action, Comedy, Romance, School, Sci-Fi, Shounen, Space\",\"Drama, Josei, Slice of Life\",\"Adventure, Mystery, School, Super Power, Supernatural\",\"Adventure, Comedy, Demons, Drama, Fantasy, Magic, Mystery, Romance, Shoujo\",\"Comedy, Fantasy, Harem, Parody\",\"Comedy, Harem, Mecha, Romance, School, Sci-Fi\",\"Action, Comedy, Martial Arts, School, Shounen\",\"Action, Adventure, Martial Arts, Shounen, Super Power\",\"Comedy, Romance, Shounen, Supernatural\",\"Comedy, Mystery, Police, Shounen\",\"Mecha, Military, Sci-Fi, Shounen\",\"Action, Historical, Romance, Samurai\",\"Action, Comedy, Fantasy, School, Shounen, Supernatural\",\"Action, Historical, Martial Arts, Samurai, Super Power\",\"Action, Horror, Seinen, Supernatural, Vampire\",\"Action, Fantasy, Magic, Romance, Shounen\",\"Adventure, Fantasy, Space\",\"Action, Horror, Sci-Fi, Shoujo Ai, Supernatural\",\"Adventure, Demons, Drama, Fantasy, Historical, Kids, Magic, Romance, Samurai, Supernatural\",\"Action, Adventure, Comedy, Shounen, Supernatural\",\"Action, Adventure, Comedy, Martial Arts, Shounen, Supernatural\",\"Horror, Mystery, Thriller\",\"Action, Comedy, Romance, Shounen\",\"Adventure, Fantasy, Kids, Romance\",\"Comedy, Drama, Romance, Sci-Fi, Slice of Life\",\"Comedy, Romance, Shounen Ai\",\"Comedy, Magic, School\",\"Action, Comedy, Martial Arts\",\"Action, Fantasy, Hentai\",\"Action, Romance, Sci-Fi, Space\",\"Drama, Historical, Shoujo\",\"Fantasy, Magic, Shounen\",\"Action, Comedy, Sci-Fi, Shounen, Space\",\"Action, Adventure, Samurai\",\"Comedy, Drama, Fantasy\",\"School, Shounen, Sports\",\"Drama, Josei, Romance, Slice of Life\",\"Drama, Romance, Shoujo, Shoujo Ai, Slice of Life\",\"Adventure, Comedy, Fantasy, Magic, Romance, Shoujo\",\"Drama, Historical, Kids, Romance, Samurai\",\"Action, Adventure, Demons, Horror, Mecha, Sci-Fi, Shounen\",\"Comedy, Drama, Josei, School, Slice of Life\",\"Adventure, Drama, Mecha, Romance, Sci-Fi\",\"Adventure, Drama, Romance, Shoujo\",\"Comedy, Drama, Historical, Romance, Supernatural\",\"Drama, Mystery, Slice of Life\",\"Adventure, Comedy, Fantasy, Magic, Shounen, Supernatural\",\"Horror, Mystery, Shoujo, Supernatural\",\"Adventure, Drama, Fantasy, Shoujo\",\"Action, Comedy, Drama, Military, Romance\",\"Comedy, Game, Seinen\",\"Adventure, Comedy, Drama, Fantasy, Kids, Magic, Romance, School, Shoujo\",\"Comedy, Harem, Parody, School\",\"Drama, Mystery, Romance, Shoujo, Supernatural, Vampire\",\"Comedy, Historical, Romance\",\"Adventure, Game, Shounen\",\"Action, Martial Arts, Shounen, Sports\",\"Action, Adventure, Drama, Fantasy, Sci-Fi\",\"Adventure, Drama, Fantasy, Kids, Slice of Life\",\"Comedy, Harem, Romance, School, Seinen, Supernatural\",\"Action, Drama, Sci-Fi, Space, Super Power\",\"Action, Comedy, Drama, Martial Arts, Slice of Life, Sports\",\"Action, Josei, Supernatural\",\"Comedy, Demons, Ecchi, Romance, School\",\"Action, Ecchi, Horror, Supernatural\",\"Comedy, Dementia, Psychological\",\"Action, Adventure, Ecchi, Fantasy, Magic, School, Shounen\",\"Music, Shoujo, Slice of Life, Sports\",\"Comedy, Ecchi, Fantasy, Harem, Romance, Seinen\",\"Action, Drama, Sci-Fi, Super Power\",\"Comedy, Parody, Romance, School, Shounen\",\"Fantasy, Kids, Magic, Romance, Shoujo, Super Power\",\"Magic, Romance, Shoujo\",\"Action, Comedy, Fantasy, Magic, Shoujo, Slice of Life\",\"Adventure, Comedy, Mecha, Sci-Fi, Shounen, Sports\",\"Action, Adventure, Drama, Sci-Fi, Super Power\",\"Drama, Romance, School, Shoujo Ai\",\"Action, Mecha, Military, School, Super Power\",\"Action, Adventure, Comedy, Drama, Harem, Martial Arts, Mecha, Romance, Sci-Fi, Shounen\",\"Drama, Mystery, Sci-Fi\",\"Action, Adventure, Drama, Historical, Military, Sci-Fi\",\"Action, Comedy, Mystery, Shounen, Supernatural\",\"Mystery, Psychological\",\"Action, Comedy, Drama, Fantasy, Shounen, Supernatural\",\"Adventure, Comedy, Drama, Mecha, Sci-Fi\",\"Action, Comedy, Ecchi, Sci-Fi, Super Power\",\"Action, Ecchi, Fantasy, Harem, School, Shounen, Supernatural, Vampire\",\"Action, Drama, Historical, Military, Samurai, Yaoi\",\"Adventure, Demons, Fantasy, Historical, Romance\",\"Action, Mystery, Super Power, Thriller\",\"Adventure, Comedy, Fantasy, Magic, Romance, Super Power\",\"Drama, Romance, Slice of Life, Supernatural\",\"Action, Ecchi, Mecha, Sci-Fi, Shounen, Space\",\"Comedy, Drama, Romance, School, Shounen, Slice of Life\",\"Action, Drama, Mecha, Military, Romance, Sci-Fi, Space\",\"Drama, Sci-Fi, Shounen, Sports\",\"Adventure, Comedy, Fantasy, Psychological, Shounen\",\"Sci-Fi, Shounen, Sports\",\"Action, Adventure, Historical, Martial Arts, Shounen\",\"Comedy, Ecchi, Fantasy, Harem, Romance\",\"Adventure, Comedy, Demons, Fantasy, Magic, Shounen, Supernatural\",\"Drama, Mystery, School, Sci-Fi\",\"Action, Martial Arts, Shounen, Supernatural\",\"Action, Adventure, Comedy, Romance, Shounen\",\"Adventure, Drama, Fantasy, Shoujo, Shounen Ai\",\"Action, Comedy, Ecchi, Fantasy, Harem, Magic, Romance, School, Shounen, Supernatural\",\"Drama, Fantasy, Historical, Kids, Mystery\",\"Action, Comedy, Demons, Seinen, Supernatural, Vampire\",\"Action, Comedy, Historical, Samurai, Shounen\",\"Action, Comedy, Samurai\",\"Comedy, Magic, School, Shoujo\",\"Drama, Mecha, Military, Sci-Fi, Space\",\"Comedy, Ecchi, Horror, Romance, Shounen, Supernatural\",\"Action, Adventure, Supernatural\",\"Comedy, Music, Shounen, Supernatural\",\"Mystery, Police, Psychological, Sci-Fi, Shoujo\",\"Comedy, Ecchi, Fantasy, Harem, Magic\",\"Action, Drama, Fantasy, Horror, Martial Arts, Mystery, School\",\"Comedy, Magic, Mystery, Shounen, Supernatural\",\"Fantasy, Music, Romance, Shoujo\",\"Comedy, Music, Parody, Romance\",\"Comedy, Historical, School, Seinen, Sports\",\"Action, Comedy, Drama, Police, Shounen\",\"Adventure, Comedy, Fantasy, Magic, Supernatural\",\"Comedy, Ecchi, Fantasy, Magic, Shounen\",\"Action, Adventure, Drama, Sci-Fi, Seinen, Space\",\"Action, Adventure, Comedy, Fantasy, Shounen, Super Power\",\"Shoujo, Slice of Life\",\"Action, Comedy, Magic, Shounen, Super Power, Supernatural\",\"Action, Adventure, Drama, Military, Romance\",\"Adventure, Comedy, Shounen, Sports\",\"Action, Comedy, Police, Seinen\",\"Horror, Josei, Mystery, Supernatural\",\"Action, Demons, Fantasy, Magic, Military, Shoujo\",\"Action, Drama, Mystery\",\"Action, Adventure, Drama, Mystery, Sci-Fi, Shoujo\",\"Action, Drama, Shounen, Supernatural, Vampire\",\"Comedy, Drama, Ecchi, Romance, Shounen\",\"Action, Comedy, Military, Shoujo\",\"Comedy, Ecchi, Harem\",\"Action, Comedy, Fantasy, Sci-Fi\",\"Action, Adventure, Sci-Fi, Seinen\",\"Action, Adventure, Comedy, Fantasy, Martial Arts, Sci-Fi, Shounen, Super Power\",\"Adventure, Comedy, Drama, Kids, Sci-Fi\",\"Drama, Fantasy, Historical, Magic, Romance, Shoujo, Supernatural\",\"Action, Adventure, Game, Kids\",\"Action, Super Power\",\"Action, Adventure, Comedy, Fantasy, Romance, Shounen\",\"Ecchi, Romance, School, Seinen\",\"Action, Adventure, Fantasy, Game, Romance\",\"Comedy, Drama, Romance, Shounen, Slice of Life, Supernatural\",\"Adventure, Drama, Mecha, Sci-Fi, Space\",\"Dementia, Fantasy, Music, Sci-Fi\",\"Drama, Historical, Romance, Shoujo, Slice of Life\",\"Adventure, Comedy, Drama, Historical, Romance, Shoujo\",\"Comedy, Romance, Shounen, Sports\",\"Action, Drama, Fantasy, Horror\",\"Action, Adventure, Drama, Fantasy, Shounen\",\"Action, Adventure, Comedy, Harem, Mecha, Sci-Fi\",\"Action, Comedy, Fantasy, Magic, Slice of Life\",\"Action, Adventure, Drama, Mecha, Military, Sci-Fi, Space\",\"Action, Dementia, Fantasy, Mecha, Music, Psychological, Romance, Sci-Fi\",\"Horror, Kids, Mystery, Supernatural\",\"Adventure, Comedy, Drama, Fantasy, Military, Shounen\",\"Action, Game, Mystery, Shounen\",\"Comedy, Harem, Music, Romance, School, Shoujo\",\"Adventure, Drama, Mecha, Sci-Fi, Shounen\",\"Action, Adventure, Comedy, Mystery, Shounen\",\"Comedy, Romance, School, Shounen\",\"Game, School, Slice of Life\",\"Adventure, Comedy, Drama, Horror, Psychological, Romance, Shoujo, Supernatural\",\"Drama, Mystery, Shounen\",\"Action, Drama, Mystery, Romance, Seinen\",\"Action, Drama, Mecha, School, Sci-Fi\",\"Mystery, Romance, Supernatural\",\"Comedy, Drama, Fantasy, Historical, Sci-Fi\",\"Action, Horror, Martial Arts\",\"Action, Adventure, Comedy, Mecha, Military\",\"Ecchi, Mecha, Shounen, Sports\",\"Action, Fantasy, Magic, School, Shoujo, Slice of Life\",\"Comedy, Harem, Music, Romance, Shoujo\",\"Adventure, Drama, Fantasy, Historical, Martial Arts, Romance, Shoujo\",\"Comedy, Drama, Fantasy, Harem, Romance\",\"Action, Demons, Shounen, Supernatural\",\"Drama, Historical, Kids, Slice of Life\",\"Comedy, Ecchi, Harem, Seinen, Slice of Life\",\"Action, Adventure, Comedy, Drama, Romance, Sci-Fi\",\"Action, Military, School, Sci-Fi, Slice of Life\",\"Sci-Fi, Seinen, Slice of Life\",\"Action, Adventure, Drama, Sci-Fi, Space\",\"Kids, Magic, Shoujo\",\"Action, Comedy, Supernatural\",\"Action, Adventure, Fantasy, Game, Sci-Fi\",\"Action, Fantasy, Seinen, Super Power\",\"Comedy, Parody, Shounen\",\"Action, Fantasy, Mystery, Sci-Fi, Shoujo\",\"Comedy, Drama, Romance, School, Yaoi\",\"Action, Drama, Magic, Mystery, Police, Supernatural\",\"Comedy, Ecchi, Fantasy, Harem, Magic, Romance\",\"Horror, Mystery, Psychological, Thriller\",\"Historical, Magic, Mystery, Seinen, Supernatural\",\"Adventure, Shounen, Supernatural\",\"Drama, Josei, Romance, Supernatural\",\"Comedy, Shounen, Slice of Life\",\"Adventure, Fantasy, Shounen, Supernatural\",\"Adventure, Fantasy, Historical, Kids, Magic, Supernatural\",\"Historical, Martial Arts, Sports\",\"Drama, Fantasy, Romance, School\",\"Comedy, Drama, Romance, School, Sci-Fi\",\"Comedy, Ecchi, Harem, Parody, Romance\",\"Action, Comedy, Fantasy, Magic, Romance, School, Shoujo\",\"Action, Adventure, Mecha, School, Sci-Fi, Space\",\"Comedy, Police, Shounen, Supernatural, Vampire\",\"Adventure, Drama, Fantasy, Horror, Shounen, Supernatural, Vampire\",\"Adventure, Mystery, School, Sci-Fi, Super Power, Supernatural\",\"Music, School, Slice of Life\",\"Action, Adventure, Comedy, Fantasy, Martial Arts, Shounen, Super Power\",\"Comedy, Romance, School, Slice of Life, Supernatural\",\"Comedy, Drama, Fantasy, Mystery, Shounen, Super Power\",\"Action, Adventure, Seinen\",\"Comedy, Ecchi, Harem, Romance, School, Sci-Fi\",\"Action, Historical, Mystery, Supernatural\",\"Drama, Psychological, Romance, Seinen\",\"Action, Kids, Mecha, Sports\",\"Drama, Fantasy, School, Slice of Life, Supernatural\",\"Action, Drama, Ecchi, Horror, Psychological, Sci-Fi, Seinen, Supernatural\",\"Drama, Ecchi, Horror, Psychological, Supernatural\",\"Drama, Music, School\",\"Drama, Romance, School, Slice of Life\",\"Action, Fantasy, Historical, Martial Arts, Samurai, Shounen, Super Power\",\"Comedy, Fantasy, Magic, Romance, School, Shoujo\",\"Comedy, Parody, Romance, School\",\"Comedy, Drama, Fantasy, Magic, Romance, Shoujo, Super Power\",\"Action, Adventure, Drama, Mystery, Romance, Sci-Fi, Shoujo, Space\",\"Comedy, Romance, School, Shounen, Vampire\",\"Fantasy, Super Power\",\"Comedy, Shounen, Supernatural\",\"Drama, Romance, School, Shounen\",\"Comedy, Demons, Drama, Kids\",\"Action, Horror, Supernatural, Vampire\",\"Adventure, Comedy, Drama, Military, Sci-Fi, Space\",\"Mecha, Slice of Life\",\"Comedy, Harem, Romance, School, Supernatural\",\"Comedy, Drama, Music\",\"Comedy, Mystery, Police, Shounen, Sports\",\"Action, Adventure, Drama, Military, Sci-Fi, Space\",\"Action, Game, Romance, School, Sci-Fi\",\"Action, Fantasy, Shounen, Super Power, Supernatural, Vampire\",\"Ecchi, Mystery, Romance, Seinen\",\"Fantasy, Harem, Romance, Shoujo, Supernatural\",\"Adventure, Drama, Mystery\",\"Comedy, Seinen, Slice of Life, Super Power\",\"Action, Fantasy, Game, Sci-Fi\",\"Comedy, Drama, Sci-Fi, Shounen, Sports\",\"Comedy, Ecchi, Fantasy, Harem, Romance, School, Sci-Fi, Supernatural\",\"Military, Romance, Sci-Fi, Space\",\"Action, Comedy, Harem, Mecha, Romance, Sci-Fi\",\"Adventure, Comedy, Drama, Mystery, Sci-Fi\",\"Action, Adventure, Fantasy, Game, Magic, Mystery, Sci-Fi\",\"Drama, Historical, Seinen\",\"Mystery, Psychological, Sci-Fi\",\"Action, Kids, Mecha\",\"Game, Psychological\",\"Action, Comedy, Ecchi, Martial Arts, School, Shounen, Super Power\",\"Comedy, Kids, Sci-Fi, Shounen\",\"Action, Fantasy, Military\",\"Game, Historical\",\"Adventure, Comedy, Romance\",\"Action, Ecchi, Mecha, Sci-Fi, Super Power\",\"Action, Drama, Fantasy, Horror, Martial Arts, School, Supernatural\",\"Action, Game, Sci-Fi, Shounen\",\"Demons, Fantasy, Harem, Hentai, Supernatural\",\"Comedy, Drama, Ecchi, Romance\",\"Drama, Military, Seinen\",\"Drama, Fantasy, Sci-Fi\",\"Action, Adventure, Comedy, Drama, Sci-Fi, Shounen\",\"Comedy, Romance, Supernatural\",\"Shounen, Supernatural\",\"Adventure, Comedy, Drama, Fantasy, Romance, Shoujo\",\"Action, Comedy, Demons, Horror, School, Shounen, Supernatural\",\"Action, Adventure, Comedy, Demons, Fantasy, Magic\",\"Comedy, Ecchi, Shounen, Sports\",\"Action, Kids, Magic, Shoujo\",\"Action, Fantasy, Magic, Super Power, Supernatural\",\"Fantasy, Romance, Shoujo\",\"Comedy, Drama, Ecchi, Military, Romance, Sci-Fi\",\"Comedy, Magic, Romance, School, Shoujo\",\"Action, Military, School\",\"Mystery, Shounen\",\"Adventure, Mecha, Military, Sci-Fi, Shounen\",\"Action, Fantasy, Magic, School, Shoujo\",\"Comedy, Fantasy, Shounen\",\"Drama, Sci-Fi, Shoujo\",\"Comedy, Magic, Romance, Sci-Fi, Slice of Life, Supernatural\",\"Adventure, Drama, Historical, Sci-Fi, Supernatural\",\"Adventure, Comedy, Fantasy, Kids, Shounen, Space\",\"Demons, Ecchi, Fantasy, Horror, Magic, Seinen, Supernatural\",\"Comedy, Fantasy, Historical, Magic, Seinen\",\"Drama, Romance, School, Supernatural\",\"Action, Mecha, Supernatural\",\"Comedy, Martial Arts, School, Shounen\",\"Adventure, Drama, Fantasy, Historical\",\"Action, Fantasy, Seinen, Supernatural\",\"Adventure, Fantasy, Historical, Magic, Shounen, Supernatural\",\"Adventure, Ecchi, Fantasy, Harem, Romance\",\"Comedy, Romance, School, Seinen, Supernatural\",\"Comedy, Mystery, Parody, Romance, School, Sci-Fi, Slice of Life\",\"Action, Comedy, Fantasy, Shounen, Supernatural, Vampire\",\"Action, Drama, Military, Psychological, Sci-Fi, Space\",\"Comedy, Ecchi, Harem, Romance, Shounen, Slice of Life\",\"Adventure, Comedy, Psychological, Sci-Fi\",\"Comedy, Ecchi, Fantasy, Romance, Slice of Life\",\"Adventure, Drama, Fantasy, Romance, Sci-Fi\",\"Romance, School, Sci-Fi\",\"Action, Drama, Horror, Psychological, Sci-Fi, Supernatural\",\"Comedy, School, Seinen, Slice of Life\",\"Shounen, Sports, Super Power\",\"Comedy, Drama, Fantasy, Magic\",\"Action, Comedy, Romance, School, Sci-Fi\",\"Adventure, Comedy, Drama, Magic, Sci-Fi\",\"Action, Demons, Mecha, Sci-Fi, Shounen\",\"Fantasy, Historical, Horror, Mystery, Psychological, Supernatural\",\"Action, Horror, Sci-Fi, Space\",\"Comedy, Drama, Fantasy, Romance\",\"Action, Adventure, Police, Sci-Fi\",\"Action, Drama, Mystery, Shounen\",\"Drama, Romance, Sci-Fi, Shounen\",\"Dementia, Drama, Horror, Mystery, Psychological, Supernatural\",\"Adventure, Comedy, Mecha, Military, Romance, Sci-Fi, Shounen\",\"Adventure, Comedy, Fantasy, Romance\",\"Comedy, Fantasy, Shounen, Sports\",\"Comedy, Historical, Romance, Shoujo\",\"Action, Fantasy, Magic, Romance, Super Power\",\"Action, Comedy, Fantasy, Magic\",\"Action, Horror, Sci-Fi, Supernatural, Vampire\",\"Comedy, Ecchi, School, Shounen, Sports\",\"Adventure, Fantasy, Magic, Romance\",\"Action, Drama, Historical, Supernatural\",\"Adventure, Comedy, Fantasy, Historical, Romance, Shoujo\",\"Comedy, Harem, Parody\",\"Comedy, Music, Romance, Shoujo, Shounen Ai\",\"Adventure, Drama, Mecha, Romance, Sci-Fi, Shounen\",\"Comedy, Ecchi, Harem, Sci-Fi, Shounen, Supernatural\",\"Drama, Mecha, Sci-Fi, Shounen\",\"Comedy, Fantasy, Magic, Romance, Sci-Fi\",\"Adventure, Comedy, Drama, Fantasy, Shounen\",\"Action, Comedy, Mecha, Sci-Fi, Space\",\"Adventure, Mecha, Romance, Sci-Fi\",\"Action, Comedy, Drama, Military\",\"Comedy, Romance, School, Seinen\",\"Action, Comedy, Harem, Mecha, Police, Sci-Fi, Shounen, Space\",\"Drama, Music, School, Slice of Life\",\"Adventure, Drama, Mecha, Military, Sci-Fi, Space\",\"Action, Ecchi, Fantasy, Super Power\",\"Action, Adventure, Game, Mecha, School, Sci-Fi, Shounen\",\"Action, Adventure, Drama, Fantasy, Magic, Romance\",\"Action, Fantasy, Martial Arts, School, Super Power\",\"Action, Adventure, Fantasy, Mecha, Sci-Fi, Shounen\",\"Drama, Historical, Shounen\",\"Action, Comedy, Sci-Fi\",\"Drama, Romance, Sports\",\"Action, Adventure, Historical\",\"Adventure, Comedy, Fantasy, Kids, Sci-Fi, Shounen\",\"Comedy, Drama, Slice of Life\",\"Adventure, Drama, Fantasy, Magic, Martial Arts, Shounen, Super Power\",\"Drama, Mecha, Sci-Fi, Shounen, Sports\",\"Drama, School, Shounen Ai\",\"Adventure, Mecha, Sci-Fi, Shounen, Space, Supernatural\",\"Drama, Historical, Music, Romance\",\"Comedy, Drama, School, Shoujo\",\"Adventure, Drama, Romance\",\"Action, Mystery, Sci-Fi, Thriller\",\"Action, Adventure, Comedy, Ecchi, Parody, Seinen\",\"Action, Drama, Military, Mystery, Psychological, Seinen\",\"Comedy, Ecchi, Fantasy, Harem, Romance, School, Vampire\",\"Action, Historical, Mystery\",\"Drama, Mecha, Military, Sci-Fi\",\"Action, Game, Kids, School\",\"Seinen, Slice of Life, Supernatural\",\"Comedy, Drama, Fantasy, Horror, Magic, Shoujo, Shounen Ai, Vampire\",\"Action, Adventure, Comedy, Drama, Mecha, Military, Music, Romance, Sci-Fi, Shounen\",\"Adventure, Comedy, Magic, Shounen, Supernatural\",\"Action, Fantasy, Magic, Shoujo\",\"Action, Adventure, Comedy, Fantasy, Shounen\",\"Comedy, Harem, Romance, Sci-Fi, Shounen\",\"Action, Comedy, Martial Arts, Parody, Shounen\",\"Comedy, Romance, School, Sci-Fi\",\"Drama, Psychological, Romance, School\",\"Drama, Mystery\",\"Action, Adventure, Magic, Martial Arts, School, Sci-Fi, Super Power\",\"Action, Fantasy, Magic, Seinen, Supernatural\",\"Comedy, Drama, Historical, Magic, Mecha, Sci-Fi\",\"Ecchi, Shounen, Sports\",\"Comedy, Drama, Romance, Samurai, Sci-Fi\",\"Action, Adventure, Mecha, Military, Police, Sci-Fi\",\"Adventure, Comedy, Romance, Shoujo, Shounen Ai\",\"Action, Drama, Sci-Fi, Space\",\"Action, Comedy, Mystery, Super Power\",\"Adventure, Comedy, Police, Sci-Fi\",\"Action, Adventure, Comedy, Drama, Fantasy, Kids\",\"Adventure, Comedy, Mecha, Military, Sci-Fi\",\"Action, Adventure, Comedy, Game, Parody\",\"Action, Comedy, Ecchi, Fantasy, Harem, Magic, School, Shounen\",\"Action, Comedy, Horror, Shounen, Supernatural\",\"Action, Drama, Mecha, Military, Police, Sci-Fi, Shounen\",\"Comedy, Ecchi, Fantasy, Harem, Magic, Romance, Shounen, Super Power\",\"Action, Adventure, Fantasy, Game, Kids\",\"Action, Fantasy, Magic, Super Power\",\"Comedy, Romance, Sci-Fi, Super Power, Supernatural\",\"Action, Adventure, Drama, Fantasy, Kids\",\"Adventure, Samurai, Sci-Fi, Shounen\",\"Action, Adventure, Martial Arts, Mecha, School, Super Power\",\"Adventure, Comedy, Ecchi, Fantasy, Harem, Magic, Romance, School, Supernatural\",\"Action, Adventure, Comedy, Drama, Ecchi, Mecha, Romance, Sci-Fi\",\"Action, Mecha, Sci-Fi, Shounen, Super Power\",\"Action, Adventure, Comedy, Mystery, Romance\",\"Military, School\",\"Music, School, Shoujo, Slice of Life\",\"Comedy, Harem, Parody, Romance, Shounen\",\"Action, Drama, Military, Sci-Fi\",\"Adventure, Fantasy, Harem, Shoujo\",\"Comedy, Romance, School, Seinen, Shoujo Ai, Slice of Life\",\"Action, Adventure, Mecha, Police, Romance, Sci-Fi\",\"Action, Drama, Martial Arts\",\"Fantasy, Kids, Military\",\"Comedy, Romance, School, Sports\",\"Action, Drama, Ecchi, Harem, Martial Arts, Romance, Sci-Fi, Seinen\",\"Comedy, Demons, Fantasy, Historical, Mystery, School, Shoujo, Supernatural\",\"Action, Adventure, Drama, Horror, Sci-Fi\",\"Drama, Mecha, Psychological, Sci-Fi\",\"Drama, Historical, Supernatural\",\"Comedy, Sci-Fi, Shounen, Slice of Life\",\"Drama, Fantasy, Romance\",\"Drama, Historical, Romance\",\"Drama, Fantasy, Psychological, School, Seinen, Shoujo Ai\",\"Action, Comedy, Mecha, Sci-Fi, Shounen, Super Power\",\"Action, Comedy, Drama\",\"Action, Comedy, Demons, Ecchi, Harem, Romance, Supernatural\",\"Drama, Fantasy, Harem, Romance, Shoujo\",\"Action, Demons, Historical, Martial Arts, Samurai, Supernatural\",\"Comedy, Game, Shounen\",\"Action, Drama, Fantasy, Mystery, Romance, Shoujo, Shounen Ai, Supernatural\",\"Action, Adventure, Drama, Military, Space\",\"Adventure, Drama, Fantasy, Mecha, Romance, Sci-Fi, Shoujo\",\"Comedy, Romance, School, Slice of Life\",\"Drama, Shounen, Sports\",\"Action, Adventure, Demons, Game, Shounen\",\"Action, Demons, Drama, Horror, Vampire\",\"Action, Adventure, Game, Mecha, Sci-Fi, Shounen\",\"Action, Fantasy, Shounen, Supernatural\",\"Action, Adventure, Comedy, Mecha, Sci-Fi\",\"Adventure, Comedy, Fantasy, Shounen, Sports\",\"Comedy, Fantasy, Magic, Romance, School, Sci-Fi, Shoujo\",\"Comedy, Sci-Fi, Shounen, Space\",\"Fantasy, Mystery, Supernatural\",\"Action, Mecha, Romance, Sci-Fi, Super Power, Supernatural\",\"Action, Adventure, Mecha, Military, Police, Romance, Sci-Fi\",\"Action, Fantasy, Historical, Martial Arts, Supernatural\",\"Action, Adventure, Drama, Martial Arts\",\"Adventure, Comedy, Historical, Martial Arts, Samurai\",\"Action, Cars, Seinen, Sports\",\"Comedy, Drama, Magic, Music, Romance, Shoujo\",\"Mystery, School, Shounen\",\"Adventure, Comedy, Fantasy, Kids, Shounen\",\"Comedy, Ecchi, Military, Romance, Sci-Fi\",\"Fantasy, Magic, School, Shoujo\",\"Action, Comedy, Police, Shounen\",\"Action, Adventure, Comedy, Game, Mecha, Sci-Fi, Shounen\",\"Fantasy, Kids, Magic, Shoujo\",\"Comedy, Ecchi, Kids, School, Shounen, Slice of Life\",\"Adventure, Comedy, Fantasy, Shounen\",\"Adventure, Comedy, Fantasy, Sci-Fi, Shounen\",\"Action, Sci-Fi, Seinen\",\"Action, Adventure, Comedy, Demons, Magic, Super Power\",\"Action, Adventure, Comedy, Police\",\"Action, Comedy, Harem, Mecha, Sci-Fi, Shounen\",\"Adventure, Magic\",\"Action, Drama, Military, Romance, Shounen\",\"Action, Drama, Romance, Sci-Fi\",\"Drama, Magic, Military, Mystery, Psychological, Shounen, Supernatural\",\"Action, Comedy, Fantasy, Shounen\",\"Comedy, Ecchi, Game, Romance, School\",\"Adventure, Drama, Martial Arts, Romance, Shounen, Supernatural\",\"Drama, Ecchi, Mecha, Military, Sci-Fi, Space\",\"Adventure, Comedy, Drama, Historical, Shounen, Supernatural\",\"Comedy, Ecchi, Magic, Romance, Supernatural\",\"Drama, Romance, Sci-Fi, Yaoi\",\"Comedy, Fantasy, Kids, Sci-Fi, Shounen\",\"Drama, Romance, School\",\"Demons, Horror, Sci-Fi, Supernatural\",\"Comedy, Josei, Slice of Life\",\"Action, Adventure, Shounen, Supernatural\",\"Adventure, Comedy, Parody\",\"Comedy, Ecchi, Romance, School, Seinen\",\"Action, Comedy, Shounen, Supernatural\",\"Comedy, Shoujo, Shounen Ai\",\"Magic, Romance, School\",\"Action, Seinen, Sports\",\"Action, Adventure, Comedy, Mystery, Sci-Fi, Shounen\",\"Action, Seinen, Supernatural, Vampire\",\"Adventure, Comedy, Music, Sci-Fi, Slice of Life\",\"Action, Comedy, Ecchi, Sci-Fi, Shoujo Ai\",\"Adventure, Comedy, Ecchi, Fantasy, Magic, Shounen\",\"School, Seinen, Sports\",\"Adventure, Drama, Mystery, Shounen\",\"Comedy, Mystery, School, Sci-Fi, Supernatural\",\"Action, Cars, Police, Seinen\",\"Comedy, Ecchi, Sci-Fi, Super Power, Supernatural\",\"Comedy, Fantasy, Romance, Seinen, Vampire\",\"Action, Comedy, Horror, Shounen, Supernatural, Vampire\",\"Action, Drama, Harem, Historical, Josei, Samurai, Supernatural, Vampire\",\"Action, Fantasy, Harem, Romance, School, Supernatural\",\"Action, Drama, Mecha, Psychological, Romance, Sci-Fi\",\"Action, Adventure, Mecha, Military, Sci-Fi\",\"Action, Drama, School, Slice of Life\",\"Action, Adventure, Fantasy, Magic, Mystery\",\"Action, Comedy, Fantasy, Game, Shounen\",\"Drama, Romance, Shoujo, Slice of Life\",\"Adventure, Fantasy, Romance\",\"Comedy, Drama, Romance, School\",\"Comedy, Parody, Slice of Life\",\"Adventure, Romance, Shoujo\",\"Action, Adventure, Comedy, Mecha, Shounen, Space\",\"Adventure, Historical, Sci-Fi\",\"Drama, Fantasy, Psychological, Romance, Shoujo\",\"Comedy, Drama, Harem, Romance, Supernatural\",\"Adventure, Comedy, Mystery, Shounen\",\"Comedy, Romance, Slice of Life\",\"Hentai, School, Yuri\",\"Drama, Fantasy, Music, Romance, School\",\"Comedy, Kids, Shounen\",\"Action, Drama, Historical, Romance, Shoujo, Shounen Ai, Supernatural\",\"Action, Comedy, Ecchi, Fantasy, Harem, Romance, School, Supernatural\",\"Comedy, Fantasy, Romance, School, Shounen, Supernatural\",\"Action, Drama, Historical, Samurai, Shounen\",\"Action, Comedy, Mystery, Police, Shounen\",\"Adventure, Comedy, Ecchi, Fantasy, Historical\",\"Action, Comedy, Fantasy, Parody, Sci-Fi, Supernatural\",\"Action, Adventure, Comedy, Fantasy, Sci-Fi, Shounen, Super Power\",\"Drama, Sci-Fi\",\"Adventure, Drama, Fantasy, Kids\",\"Comedy, Fantasy, Magic, Romance\",\"Adventure, Comedy, Drama, Fantasy, Kids\",\"Action, Adventure, Drama, Mecha, Sci-Fi, Shounen\",\"Mystery, Slice of Life, Supernatural\",\"Romance, Shoujo Ai, Slice of Life\",\"Action, Comedy, Martial Arts, Seinen\",\"Action, Drama, Historical\",\"Parody, Yaoi\",\"Adventure, Drama, Fantasy, Historical, Slice of Life\",\"Comedy, Fantasy, Kids, Magic, Slice of Life\",\"Comedy, Ecchi, Fantasy, Harem, Romance, School, Shounen, Vampire\",\"Action, Comedy, Ecchi, Super Power\",\"Action, Comedy, Ecchi, Fantasy, Harem, Romance, School, Sci-Fi, Supernatural\",\"Adventure, Comedy, Horror\",\"Drama, Magic, Shounen, Slice of Life\",\"Drama, Music, Romance, Slice of Life\",\"Action, Comedy, Fantasy, Martial Arts, Shounen\",\"Action, Adventure, Demons, Fantasy, Horror, Romance\",\"Action, Shounen Ai, Supernatural\",\"Action, Comedy, Romance, School\",\"Fantasy, Magic, Shounen Ai\",\"Action, Adventure, Comedy, Demons, Drama, Ecchi, Horror, Mystery, Romance, Sci-Fi\",\"Adventure, Comedy, Fantasy, Magic, Shounen\",\"Action, Mystery, Super Power\",\"Comedy, School, Slice of Life\",\"Action, Ecchi, Magic, Military, Sci-Fi\",\"Comedy, School, Shounen, Supernatural\",\"Psychological, Sci-Fi, Shounen Ai, Slice of Life\",\"Action, Comedy, Drama, Josei, Supernatural, Vampire\",\"Drama, Romance, Sci-Fi, Shoujo\",\"Comedy, Historical, Kids, School, Shoujo, Slice of Life\",\"Adventure, Drama, Fantasy, Sci-Fi, Shounen\",\"Comedy, Romance, Shoujo, Shounen Ai\",\"Action, Comedy, Samurai, Shounen\",\"Action, Adventure, Drama, Horror, Supernatural\",\"Fantasy, Game, Sci-Fi\",\"Comedy, Romance, School, Shounen, Supernatural\",\"Fantasy, Romance, Slice of Life\",\"Action, Mystery, Police\",\"Comedy, Parody, School, Shoujo Ai\",\"Romance, Shounen, Sports\",\"Action, Ecchi, Fantasy, School, Seinen\",\"Comedy, Historical, Parody\",\"Comedy, Ecchi, Fantasy, Harem, Magic, Romance, School, Shounen, Super Power, Supernatural\",\"Historical, Mystery, Shounen\",\"Drama, Historical, Military, Supernatural\",\"Demons, Fantasy, Hentai, Martial Arts\",\"Comedy, Game, Parody, Seinen\",\"Action, Comedy, Magic, Sci-Fi, Super Power\",\"Action, Comedy, Fantasy, Mystery, Shounen Ai, Supernatural, Vampire\",\"Action, Adventure, Comedy, Demons, Fantasy, Martial Arts, Shounen, Super Power\",\"Comedy, Harem, Parody, Shounen\",\"Action, Adventure, Comedy, Fantasy, Romance\",\"Comedy, Drama, Romance, Shounen, Slice of Life\",\"Adventure, Comedy, Fantasy, Supernatural\",\"Adventure, Mecha, Sci-Fi, Shounen, Space\",\"Action, Comedy, Horror\",\"Fantasy, Slice of Life\",\"Comedy, Martial Arts, Music, Slice of Life\",\"Historical, Magic\",\"Adventure, Comedy, Drama, Sci-Fi, Shounen, Space\",\"Action, Horror, Mystery, Romance, Super Power, Supernatural, Vampire\",\"Action, Adventure, Comedy, Fantasy, Kids, Sci-Fi\",\"Action, Fantasy, Shounen Ai, Super Power, Supernatural\",\"Shounen, Super Power\",\"Action, Adventure, Drama, Historical, Martial Arts, Police, Samurai, Shounen, Slice of Life\",\"Action, Drama, Ecchi, Harem, Martial Arts, Military, Romance, Sci-Fi, Seinen\",\"Adventure, Drama, Sci-Fi, Shounen\",\"Adventure, Sci-Fi, Shounen\",\"Comedy, Romance, Yaoi\",\"Comedy, Ecchi, Fantasy, Romance, School, Supernatural\",\"Action, Mecha, Romance, Shounen\",\"Mecha, Sci-Fi, Shounen, Sports\",\"Drama, Mystery, Sci-Fi, Seinen\",\"Action, Comedy, Horror, Mystery, Vampire\",\"Historical, Kids, Supernatural\",\"Action, Fantasy, Kids\",\"Action, Comedy, Drama, Ecchi, Fantasy, Horror, Magic, Shounen\",\"Comedy, Drama, Ecchi, Romance, Sci-Fi\",\"Action, Adventure, Comedy, Kids, Sci-Fi, Shounen\",\"Drama, Romance, Shoujo\",\"Action, Comedy, Ecchi, Harem, Super Power\",\"Comedy, Drama, Seinen, Slice of Life\",\"Drama, Fantasy, Horror, Mystery\",\"Action, Adventure, Fantasy, Kids\",\"Drama, Shoujo, Slice of Life\",\"Drama, Music, Sci-Fi, Slice of Life\",\"Drama, Psychological, Thriller\",\"Comedy, Fantasy, Kids, Romance, School, Shounen\",\"Action, Kids, Shounen, Sports\",\"Action, Drama, Historical, Horror, Romance, Sci-Fi, Vampire\",\"Comedy, Ecchi, School, Seinen\",\"Adventure, Fantasy, Kids, Slice of Life\",\"Comedy, Ecchi, Magic, Parody, Vampire\",\"Comedy, Ecchi, Martial Arts, Romance\",\"Comedy, Ecchi, Military\",\"Comedy, Military, Sci-Fi\",\"Adventure, Fantasy, Historical, Shounen\",\"Adventure, Fantasy, Historical, Martial Arts, Supernatural\",\"Comedy, Martial Arts, Romance\",\"Drama, Fantasy, Kids, Music\",\"Comedy, Romance, School, Shoujo\",\"Action, Demons, Ecchi, Fantasy, Harem, Romance\",\"Action, Adventure, Martial Arts\",\"Drama, Historical, Romance, Shoujo\",\"Action, Comedy, Drama, Mecha, Music, Sci-Fi, Shounen\",\"Adventure, Fantasy, Martial Arts, Sci-Fi, Shounen, Super Power\",\"Drama, Romance, School, Sci-Fi\",\"Action, Comedy, Fantasy, Mecha, Sci-Fi, Shounen\",\"Adventure, Demons, Fantasy, Historical\",\"Horror, Mystery, Supernatural\",\"Action, Supernatural\",\"Comedy, Ecchi, Harem, Romance, School\",\"Comedy, Magic, Supernatural\",\"Adventure, Drama, Historical, Slice of Life\",\"Comedy, Kids, Supernatural\",\"Drama, Romance, Slice of Life\",\"Comedy, Sci-Fi, Seinen, Slice of Life\",\"Comedy, Magic, Romance, Shoujo\",\"Comedy, School, Sci-Fi, Slice of Life\",\"Adventure, Mecha, School, Sci-Fi, Shounen\",\"School, Slice of Life, Supernatural\",\"Drama, Historical, Romance, Shoujo, Shounen Ai\",\"Drama, Fantasy, Mystery, Sci-Fi, Shounen\",\"Adventure, Drama, Fantasy, Game, Sci-Fi\",\"Action, Horror, Shounen, Supernatural\",\"Drama, Yaoi\",\"Comedy, Parody, School, Shounen\",\"Comedy, Romance, Slice of Life, Supernatural\",\"Action, Comedy, Police, Romance, Sci-Fi\",\"Comedy, Drama, Hentai, Romance, Yaoi\",\"Comedy, Demons, Ecchi\",\"Comedy, Mecha, Police, Sci-Fi, Shounen\",\"Adventure, Comedy, Sci-Fi, Shounen\",\"Adventure, Fantasy, Kids, Sci-Fi, Shounen\",\"Comedy, Fantasy, Magic, Shoujo\",\"Game, Shounen\",\"Action, Demons, Drama, Fantasy, Mystery, Sci-Fi, Super Power, Supernatural\",\"Drama, Magic, Mecha, Romance, Shoujo Ai, Shounen, Supernatural\",\"Comedy, Drama, Harem, School, Sci-Fi\",\"Fantasy, Game\",\"Action, Ecchi, Fantasy, Harem, Military, Romance, Supernatural\",\"Comedy, Ecchi, Harem, Romance, School, Seinen\",\"Comedy, Ecchi, Kids, School\",\"Romance, School, Shoujo Ai\",\"Drama, Fantasy, Psychological, Supernatural\",\"Action, Adventure, Comedy, Drama, Mecha, Music, Sci-Fi, Shounen\",\"Action, Comedy, Mystery\",\"Action, Mecha, School, Sci-Fi, Seinen\",\"Drama, Seinen, Slice of Life\",\"Action, Adventure, Historical, Samurai, Seinen\",\"Comedy, Drama, Romance\",\"Drama, Seinen, Sports\",\"Mystery, Seinen, Supernatural, Thriller\",\"Action, Comedy, Drama, Martial Arts, Romance, Slice of Life, Sports\",\"Comedy, Drama, Parody\",\"Fantasy, Magic, Romance, Shoujo\",\"Drama, Fantasy, Magic, Slice of Life\",\"Drama, Historical, School, Slice of Life\",\"Action, Fantasy, Historical, Martial Arts\",\"Action, Drama, Mecha, Sci-Fi, Shounen\",\"Drama, School, Slice of Life\",\"Action, Adventure, Comedy, Fantasy, Kids\",\"Action, Adventure, Comedy, Drama, Ecchi, Fantasy, Harem, Magic, Romance, School\",\"Action, Fantasy, Historical, Shoujo, Supernatural\",\"Adventure, Comedy, Fantasy, Magic, Romance, Sci-Fi, Shoujo, Supernatural\",\"Action, Adventure, Comedy, Mecha, Military, Sci-Fi, Space\",\"School, Shoujo Ai, Slice of Life\",\"Drama, Music, Sci-Fi, Seinen, Slice of Life\",\"Historical, Psychological, Sci-Fi\",\"Comedy, Shoujo, Vampire\",\"Adventure, Fantasy, Horror, Sci-Fi, Supernatural\",\"Action, Martial Arts, Sci-Fi, Shounen\",\"Comedy, Mecha, Police, Sci-Fi\",\"Action, Comedy, Shounen, Sports\",\"Comedy, Drama, Romance, Slice of Life\",\"Adventure, Comedy, Mecha, Sci-Fi, Shounen\",\"Drama, Psychological, Seinen, Thriller\",\"Action, Comedy, Fantasy, Slice of Life, Supernatural\",\"Comedy, Magic, Romance, Sci-Fi\",\"Action, Comedy, Mecha, Parody, Samurai, Shounen\",\"Action, Adventure, Drama, Fantasy, Historical\",\"Adventure, Comedy, Drama, Fantasy, Magic, Romance, Sci-Fi, Shoujo\",\"Comedy, Ecchi, Harem, Romance, School, Shounen\",\"Comedy, Fantasy, Harem, Romance, Vampire\",\"Action, Comedy, School, Shounen, Super Power, Supernatural\",\"Comedy, School, Shounen\",\"Comedy, Shounen, Sports\",\"Comedy, Parody, Romance\",\"Drama, Romance, School, Shoujo\",\"Action, Drama, Horror, Sci-Fi, Seinen, Space\",\"Comedy, Drama, Harem, Mecha, Romance, Sci-Fi\",\"Comedy, Ecchi, Harem, Martial Arts, Romance, School, Super Power\",\"Adventure, Comedy, Historical, Shounen, Supernatural\",\"Action, Adventure, Mecha, Space\",\"Adventure, Comedy, Drama, Fantasy, Game, Magic, Martial Arts, Mecha, School, Sci-Fi, Slice of Life, Super Power, Supernatural\",\"Adventure, Comedy, Drama, Fantasy, Shounen, Supernatural\",\"Demons, Fantasy, Hentai, Horror, Magic, Supernatural\",\"Action, Adventure, Comedy, Drama, School, Sci-Fi, Shounen, Sports\",\"Drama, Fantasy, Music, Sci-Fi, Shoujo\",\"Comedy, Drama, Sci-Fi\",\"Ecchi, Romance, Shounen\",\"Comedy, Ecchi, Harem, Martial Arts, Romance, Shounen\",\"Horror, Psychological, Supernatural\",\"Comedy, Josei, Romance, Slice of Life\",\"Action, Adventure, Kids, Mecha, Sci-Fi, Shounen, Super Power\",\"Adventure, Drama, Sci-Fi, Space\",\"Comedy, Ecchi, Romance, Sci-Fi\",\"Drama, Harem, Magic, Romance\",\"Action, School, Shounen, Sports\",\"Action, Fantasy, Magic, Romance, Shounen, Supernatural\",\"Adventure, Fantasy, Sci-Fi, Shounen\",\"Adventure, Comedy, Mecha, Romance\",\"Comedy, Ecchi, Shoujo Ai, Slice of Life\",\"Action, Fantasy, Historical, Military, Shoujo\",\"Adventure, Drama, Mystery, Slice of Life\",\"Action, Drama, Horror, Romance, Sci-Fi, Seinen, Supernatural\",\"Comedy, Drama, Ecchi, Harem, Magic, Romance, School\",\"Horror, Supernatural, Vampire\",\"Action, Mystery, Sci-Fi, Seinen\",\"Comedy, Fantasy, Harem, Romance, Shoujo\",\"Comedy, Romance, School\",\"Adventure, Drama, Fantasy\",\"Comedy, Ecchi, Fantasy, Magic\",\"Drama, Historical, Slice of Life\",\"Action, Comedy, Harem, Mecha, Sci-Fi\",\"Adventure, Comedy, Historical, Supernatural\",\"Adventure, Fantasy, Historical, Magic\",\"Kids, Parody\",\"Historical, Kids, Shoujo\",\"Action, Adventure, Comedy, Fantasy, Martial Arts, Shounen, Slice of Life, Super Power\",\"Action, Drama, Historical, Mecha, Military, Sci-Fi\",\"Action, Adventure, Comedy, Fantasy, Mecha, Sci-Fi, Shounen\",\"Action, Drama, Mecha, Music, Sci-Fi\",\"Action, Sci-Fi, Shounen, Sports\",\"Cars, Drama, Seinen\",\"Adventure, Drama, Kids\",\"Comedy, Drama, Supernatural, Yaoi\",\"Adventure, Drama, Fantasy, Romance, Shoujo\",\"Drama, Horror, Magic, Psychological, Romance, Supernatural\",\"Drama, Magic, Shoujo\",\"Adventure, Fantasy, Kids, Shounen\",\"Adventure, Drama, Fantasy, Sci-Fi\",\"Comedy, Parody, School\",\"Action, Drama, Mecha, Military, Sci-Fi\",\"Mystery, Psychological, Supernatural\",\"Adventure, Comedy, Drama, Martial Arts, Samurai, Shounen\",\"Comedy, Fantasy, Mecha, Shounen\",\"Action, Adventure, Demons, Fantasy, Magic, Supernatural\",\"Adventure, Comedy, Drama, Fantasy, Magic, Mecha, Romance, Shoujo\",\"Action, Mecha, Music, Mystery, Romance, Sci-Fi\",\"Action, Comedy, Martial Arts, Sci-Fi, Shounen, Sports\",\"Mecha, Military, Sci-Fi, Space\",\"Action, Adventure, Fantasy, Magic, Shounen\",\"Adventure, Drama, Historical, Romance\",\"Action, Drama, Fantasy\",\"Comedy, School, Supernatural\",\"Adventure, Drama, Magic, Sci-Fi\",\"Mecha, Music, Slice of Life\",\"Demons, Harem, Hentai, School, Supernatural\",\"Action, Adventure, Comedy, Parody, Sci-Fi, Shounen\",\"Action, Comedy, Mystery, Romance\",\"Drama, School, Sci-Fi, Sports\",\"Action, Martial Arts, Shounen\",\"Adventure, Supernatural\",\"Fantasy, Hentai, Magic\",\"Drama, Historical, Kids\",\"Comedy, Magic, Seinen, Slice of Life\",\"Action, Demons, Fantasy, Horror, Romance\",\"Comedy, Drama, Harem, Romance, Slice of Life\",\"Action, Adventure, Historical, Samurai, Seinen, Super Power\",\"Comedy, Ecchi, Fantasy, Historical\",\"Comedy, Drama, Ecchi, Fantasy, Harem, Magic, Romance, School, Seinen\",\"Comedy, Drama, Romance, Shoujo, Slice of Life, Supernatural\",\"Comedy, Magic, School, Slice of Life\",\"Martial Arts, School, Shounen\",\"Action, Mecha, Sci-Fi, Super Power\",\"Action, Adventure, Super Power\",\"Action, Adventure, Comedy, Ecchi, Mecha, Sci-Fi, Space\",\"Action, Comedy, Ecchi, Harem, Samurai, School\",\"Comedy, Fantasy, Shounen, Super Power\",\"Comedy, Supernatural, Thriller\",\"Drama, Fantasy, Mystery, Romance, Supernatural\",\"Action, Comedy, Fantasy, Martial Arts, Shounen, Sports\",\"Drama, Mecha, Military, Romance, Sci-Fi, Shounen, Slice of Life\",\"Comedy, Magic, Parody, Police, Sci-Fi, Shounen, Space\",\"Comedy, Ecchi, Mecha, Romance, Sci-Fi\",\"Cars, Shounen, Sports\",\"Action, Mecha, School, Sci-Fi, Seinen, Space\",\"Comedy, School, Shoujo\",\"Comedy, Harem, Romance, School\",\"Adventure, Comedy, Fantasy, Slice of Life\",\"Drama, Mecha, Military, Romance, Sci-Fi\",\"Action, Comedy, Drama, Fantasy, Horror, Magic, Romance, Sci-Fi\",\"Drama, Mecha, Military, Sci-Fi, Shounen\",\"Adventure, Drama, Mecha, Military, Sci-Fi\",\"Historical, Mystery\",\"Action, Comedy, Drama, Historical, Samurai, Shounen\",\"Comedy, Military\",\"Comedy, Drama, Romance, Shoujo, Shounen Ai, Slice of Life\",\"Comedy, Romance, Seinen, Supernatural\",\"Hentai, Sci-Fi, Supernatural\",\"Action, Comedy, Fantasy, Magic, Shoujo\",\"Comedy, Drama, Shoujo\",\"Comedy, Harem, Romance, Slice of Life\",\"Comedy, Ecchi, Romance, Shounen\",\"Action, Adventure, Sci-Fi, Shounen, Super Power\",\"Action, Shounen, Sports\",\"Comedy, Ecchi, Fantasy, Magic, School, Shounen\",\"Action, Adventure, Drama, Fantasy\",\"Comedy, Fantasy, Romance, Shoujo, Vampire\",\"Action, Adventure, Drama, Mecha, Military, Sci-Fi\",\"Mecha, Sports\",\"Comedy, Romance, School, Shoujo, Slice of Life\",\"Action, Adventure, Comedy, Shounen, Super Power\",\"Comedy, Romance, School, Shoujo Ai\",\"Fantasy, Magic, Music, Shoujo\",\"Adventure, Comedy, Mystery\",\"Comedy, Ecchi, School, Sports\",\"Comedy, Fantasy, Magic, Parody, Seinen\",\"Drama, Historical, Josei, Romance\",\"Action, Adventure, Historical, Samurai, Supernatural\",\"Adventure, Military, Psychological, Romance, Sci-Fi, Space\",\"Action, Magic, Romance, School, Seinen, Supernatural\",\"Drama, Fantasy, Mecha\",\"Action, Fantasy, Supernatural\",\"Harem, Romance, Supernatural\",\"Action, Horror, School, Shounen, Supernatural\",\"Action, Adventure, Mecha, Police, Sci-Fi\",\"Comedy, Romance, Shoujo\",\"Adventure, Fantasy, Game, Magic, Mystery, Sci-Fi\",\"Action, Ecchi, Martial Arts, School, Super Power\",\"Drama, School, Sports\",\"Action, Fantasy, Magic, Shounen\",\"Action, Adventure, Comedy, Police, Sci-Fi\",\"Historical, Seinen, Slice of Life\",\"Action, Fantasy, Military, Sci-Fi\",\"Drama, Romance, School, Shoujo, Sports\",\"Hentai, School, Supernatural\",\"Action, Adventure, Comedy, Ecchi, Fantasy, Seinen\",\"Action, Drama, Horror, Psychological\",\"Adventure, Comedy, Drama, Historical, Mecha, Military, Romance, Shounen\",\"Comedy, Demons, Ecchi, Fantasy\",\"Comedy, Drama, Magic, Romance, Sci-Fi\",\"Mecha, Police, Sci-Fi\",\"Kids, Space\",\"Comedy, Parody, School, Sci-Fi, Shounen\",\"Comedy, Music, Shounen\",\"Drama, School, Sci-Fi, Supernatural\",\"Adventure, Drama, Fantasy, Game, Magic, Sci-Fi\",\"Action, Mecha, Romance, Sci-Fi\",\"Comedy, Ecchi, Kids, Shounen\",\"Comedy, Fantasy, Romance\",\"Comedy, Drama, Fantasy, Mystery, Romance\",\"Comedy, Kids, Shounen, Space\",\"Adventure, Comedy, Magic, Romance, School\",\"Action, Comedy, Ecchi, Harem, Romance, Supernatural\",\"Action, Comedy, Ecchi, School, Shounen, Super Power, Supernatural\",\"Comedy, Ecchi, Fantasy, Harem\",\"Comedy, Romance, Seinen, Slice of Life\",\"Comedy, Romance, School, Supernatural, Vampire\",\"Action, Comedy, Demons, Fantasy, Magic\",\"Action, Horror, Sci-Fi, Super Power\",\"Action, Historical, Martial Arts, Samurai\",\"Drama, Ecchi, Romance, School\",\"Comedy, Martial Arts\",\"Action, Adventure, Comedy, Fantasy, Parody\",\"Action, Comedy, Drama, Mecha, Psychological, Sci-Fi, Shounen, Space\",\"Comedy, Drama, Romance, Seinen, Slice of Life\",\"Comedy, Fantasy, Harem, Magic, Romance, School, Seinen\",\"Adventure, Magic, Supernatural\",\"Adventure, Comedy, Kids, Sci-Fi, Shounen\",\"Adventure, Demons, Fantasy, Hentai, Magic\",\"Horror, Mystery\",\"Comedy, Mystery, Super Power\",\"Hentai, Magic, Supernatural\",\"Adventure, Sports\",\"Adventure, Comedy, Supernatural\",\"Comedy, Ecchi, Romance, School, Shounen\",\"Comedy, Martial Arts, Slice of Life\",\"Adventure, Drama, Fantasy, Shounen\",\"Drama, Historical\",\"Action, Adventure, Comedy, Shounen\",\"Action, Comedy, Ecchi, School, Supernatural\",\"Drama, Harem, Music, Romance\",\"Comedy, Ecchi, Harem, Magic, Romance\",\"Action, Adventure, Drama, Martial Arts, Shounen\",\"Magic, Music, Romance, Supernatural\",\"Comedy, Hentai, Romance, Yuri\",\"Action, Mecha, Military, Space\",\"Magic, Music, Shounen\",\"Comedy, Sci-Fi, Shounen, Super Power\",\"Action, Historical, Martial Arts\",\"Action, Adventure, Comedy, Demons, Supernatural, Vampire\",\"Action, Drama, Seinen\",\"Harem, Romance, School\",\"Comedy, Romance, Sci-Fi, Shounen\",\"Adventure, Comedy, Fantasy, Romance, Shounen\",\"Adventure, Demons, Fantasy, Magic, Shounen\",\"Drama, Horror, Mystery, Psychological, Supernatural\",\"Dementia, Drama, Historical, Psychological\",\"Action, Adventure, Fantasy, Historical, Martial Arts\",\"Action, Adventure, Comedy, Fantasy, School, Sci-Fi, Shounen\",\"Drama, Romance, Sci-Fi\",\"Harem, Music, School, Shoujo\",\"Adventure, Comedy, Ecchi, Harem, Parody, Romance\",\"Drama, Sci-Fi, Shoujo Ai\",\"Comedy, Drama, Ecchi, Harem, Romance\",\"Action, Demons, Fantasy, Historical, Military, Shoujo, Supernatural\",\"Ecchi, Harem\",\"Comedy, Ecchi, Harem, Romance, Sci-Fi\",\"Action, Mecha, Space\",\"Action, Demons, Horror, Supernatural\",\"Comedy, Drama, Romance, School, Shoujo Ai, Slice of Life\",\"Adventure, Comedy, Magic, Romance, Shoujo\",\"Comedy, Drama, Romance, School, Shounen Ai\",\"Adventure, Comedy, Game, Shounen\",\"Comedy, Drama, Mystery, Police, Psychological, Sci-Fi\",\"Drama, Mecha, Military\",\"Action, Fantasy, Romance, Seinen\",\"Action, Ecchi, Fantasy, Harem, Mecha, Romance, School, Supernatural\",\"Adventure, Comedy, Horror, School, Shounen, Supernatural\",\"Action, Adventure, Cars, Comedy, Sci-Fi, Shounen\",\"Comedy, Romance, School, Seinen, Slice of Life\",\"Adventure, Comedy, Ecchi, Fantasy, Magic, Shounen, Supernatural\",\"Action, Adventure, Cars, Sci-Fi\",\"Adventure, Comedy, Fantasy, Game, Magic, Sci-Fi\",\"Adventure, Comedy, Fantasy, Magic\",\"Comedy, Mecha, Shounen, Space\",\"Adventure, Historical, Kids, Romance\",\"Adventure, Historical, Shounen\",\"Action, Adventure, Fantasy, Magic, Mecha, Sci-Fi, Shounen, Space\",\"Drama, Historical, Kids, Shoujo\",\"Harem, Hentai, School, Yuri\",\"Comedy, Military, Sci-Fi, Shounen\",\"Comedy, Seinen, Slice of Life\",\"Comedy, Parody, Sci-Fi\",\"Drama, Music, Romance, Sci-Fi, Shoujo\",\"Adventure, Drama, Mecha, Sci-Fi\",\"Comedy, Ecchi, Harem, Mystery, Romance, School, Seinen\",\"Music, School, Shoujo\",\"Comedy, Historical, Romance, Sci-Fi, Shounen\",\"Action, Comedy, Demons, Martial Arts, Shounen\",\"Action, Demons, Supernatural\",\"Comedy, Fantasy, Supernatural\",\"Action, Adventure, Romance, Sci-Fi\",\"Parody, School, Slice of Life\",\"Action, Comedy, Fantasy, Magic, Mecha, Sci-Fi, Shounen\",\"Action, Drama, Shounen, Sports\",\"Adventure, Fantasy, Shounen\",\"Action, Game, Shounen\",\"Action, Comedy, Fantasy, School, Shounen\",\"Fantasy, Kids, Romance\",\"Comedy, Romance, School, Slice of Life, Sports\",\"Drama, Fantasy, Shoujo\",\"Comedy, Ecchi, Harem, Romance, Shounen\",\"Action, Adventure, Mecha, Sci-Fi, Space\",\"Comedy, Romance, Shoujo, Slice of Life\",\"Comedy, School, Seinen\",\"Action, Fantasy, Magic, Supernatural\",\"Action, Adventure, Comedy, Ecchi, Shounen\",\"Comedy, Magic, Seinen\",\"Comedy, Ecchi, Kids, Sci-Fi, Space\",\"Comedy, School, Seinen, Supernatural\",\"School, Sci-Fi\",\"Comedy, Shounen\",\"Action, Adventure, Comedy, Sci-Fi, Shounen, Sports\",\"Action, Adventure, Drama, Military, Seinen\",\"Comedy, Fantasy, Sci-Fi\",\"Demons, Fantasy, Hentai, Supernatural\",\"Harem, Hentai\",\"Comedy, Demons, Ecchi, Fantasy, Romance, Seinen\",\"Action, Magic, Mystery, Supernatural\",\"Comedy, Magic, Romance, School\",\"Adventure, Shounen, Sports\",\"Action, Comedy, Romance, School, Super Power\",\"Action, Comedy, School, Shoujo Ai\",\"Action, Mecha, Mystery, Police\",\"Adventure, Drama, Slice of Life\",\"Action, Comedy, Kids, Shounen, Super Power\",\"Comedy, Ecchi, Sci-Fi, Shounen\",\"Action, Adventure, Historical, Mecha\",\"Adventure, Comedy, Horror, Shounen, Supernatural\",\"Action, Adventure, Fantasy, Shounen\",\"Action, Comedy, Shounen\",\"Action, Military, Sci-Fi\",\"Action, Adventure, Fantasy, Magic\",\"Action, Comedy, Fantasy, Magic, Music, Shoujo\",\"Action, Adventure, Police, Sci-Fi, Super Power\",\"Adventure, Comedy, Fantasy, Shounen, Supernatural\",\"Magic, Space\",\"Drama, Music, Slice of Life\",\"Comedy, Drama, Mecha, Military, Sci-Fi, Space\",\"Action, Drama, Fantasy, Mecha, Romance, Sci-Fi\",\"Action, Historical, Mecha, Sci-Fi\",\"Action, Ecchi, Martial Arts, School, Seinen, Super Power\",\"Drama, Horror, Mystery, Seinen\",\"Action, Adventure, Magic\",\"Action, Fantasy, Martial Arts, Sci-Fi, Supernatural\",\"Action, Fantasy, Mystery, Romance\",\"Action, Demons, Sci-Fi, Shounen, Super Power, Supernatural\",\"Adventure, Military, Sci-Fi, Shounen\",\"Adventure, Slice of Life\",\"Adventure, Comedy, Fantasy, Shoujo\",\"Action, Adventure, Fantasy, Magic, Supernatural\",\"Magic, Music, Romance, School\",\"Action, Adventure, Fantasy, Magic, Romance, Shounen, Supernatural\",\"Drama, Romance, Supernatural\",\"Action, Horror, School, Supernatural, Vampire\",\"Action, Supernatural, Vampire\",\"Action, School, Shounen\",\"Comedy, Ecchi, Romance, Shounen, Supernatural\",\"Demons, Fantasy, Historical, Magic, Romance, Shoujo, Supernatural\",\"Cars, Sports\",\"Adventure, Comedy, Mecha, Sci-Fi, Seinen\",\"Comedy, Dementia, Slice of Life\",\"Drama, Fantasy, Sci-Fi, Supernatural\",\"Comedy, Drama, Harem, Magic, Romance, School\",\"Drama, Kids, Romance\",\"Drama, Music, Seinen\",\"Adventure, Drama, Sci-Fi\",\"Action, Mecha, Military, Sci-Fi, Space\",\"Adventure, Mecha, Sci-Fi, Shounen\",\"Action, Adventure, Comedy, Ecchi, Police, Sci-Fi\",\"Harem, Romance, Shoujo\",\"Adventure, Comedy, Sports\",\"Action, Mecha, Romance, Sci-Fi, Space\",\"Drama, Music, Romance\",\"Comedy, Ecchi, Fantasy, Harem, Romance, School\",\"Action, School, Sci-Fi, Super Power\",\"Demons, Fantasy, Historical, Magic, Shoujo, Supernatural\",\"Adventure, Shounen\",\"Action, Adventure, Sci-Fi, Space\",\"Comedy, Harem, Romance\",\"Action, Seinen\",\"Comedy, Fantasy, Romance, Shounen Ai, Supernatural\",\"Adventure, Demons, Supernatural\",\"Comedy, Horror, Kids\",\"Action, Historical, Military, Super Power\",\"Comedy, Sci-Fi, Slice of Life, Sports\",\"Action, Comedy, Drama, Martial Arts, Romance, Samurai\",\"Action, Martial Arts, Samurai, Seinen\",\"Mecha, Sci-Fi, Shounen, Space\",\"Action, Comedy, Mystery, Psychological, Shounen, Supernatural, Thriller\",\"Adventure, Drama, Mecha, Sci-Fi, Shounen, Space\",\"Comedy, Ecchi, Romance, Supernatural\",\"Action, Comedy, Fantasy, Kids\",\"Action, Adventure, Fantasy, Sci-Fi, Shounen\",\"Fantasy, Sci-Fi, Shoujo\",\"Comedy, Kids, Mystery\",\"Action, Adventure, Fantasy, Historical\",\"Action, Adventure, Comedy, Mystery, Sci-Fi\",\"Demons, Historical\",\"Action, Drama, Fantasy, Mecha, Sci-Fi\",\"Action, Ecchi, Harem, Romance, School, Supernatural\",\"Comedy, Romance, School, Supernatural\",\"Comedy, Ecchi, Magic, School, Super Power, Supernatural\",\"Action, Demons, Fantasy, Super Power\",\"Comedy, Drama, School, Sports\",\"Comedy, Dementia, Psychological, Sci-Fi\",\"Game, School, Sports\",\"Action, Ecchi, Fantasy, School, Supernatural\",\"Action, Adventure, Comedy, Drama, Fantasy, Historical\",\"Adventure, Horror, Magic, Martial Arts, Shounen, Supernatural\",\"Comedy, Ecchi, Harem, Romance, Supernatural\",\"Comedy, Hentai, Sci-Fi, Space\",\"Adventure, Kids, Shounen\",\"Action, Adventure, Comedy, Drama, Horror, Mecha, Mystery, Psychological, Sci-Fi, Shounen\",\"Action, Fantasy, Magic, Romance\",\"Action, Comedy, Martial Arts, Parody, School, Shounen, Sports\",\"Action, Adventure, Fantasy, Magic, Mecha\",\"Adventure, Demons, Fantasy, Romance\",\"Drama, Fantasy, School, Slice of Life\",\"Action, Adventure, Drama, Military, Shounen\",\"Action, Drama, Sports\",\"Drama, Psychological, Sci-Fi\",\"Adventure, Fantasy, Game, Shounen\",\"Fantasy, Historical, Kids\",\"Action, Comedy, Fantasy, Supernatural\",\"Music, Romance, Shoujo, Sports\",\"Action, Drama, Fantasy, Romance\",\"Drama, Mystery, Super Power, Supernatural\",\"Drama, Fantasy, Magic, Romance, Supernatural\",\"Action, Adventure, Comedy, Fantasy, Sci-Fi, Supernatural\",\"Ecchi, Fantasy, Game\",\"Action, Comedy, Fantasy, Romance, School, Shounen\",\"Drama, Fantasy, Slice of Life\",\"Comedy, Demons, Horror, Mystery, Supernatural, Vampire\",\"Drama, Historical, Military\",\"Adventure, Cars, Shounen, Sports\",\"Action, Music, Sci-Fi\",\"Comedy, Ecchi, Romance, Shounen, Supernatural, Vampire\",\"Adventure, Drama\",\"Action, Comedy, Ecchi, Romance, School, Sci-Fi, Shounen\",\"Comedy, Ecchi, Fantasy, Romance\",\"Fantasy, Harem, Hentai, Magic, Supernatural\",\"Action, Shounen\",\"Adventure, Comedy, Fantasy, Game, Sci-Fi, Shounen\",\"Adventure, Historical, Shoujo, Slice of Life\",\"Comedy, Ecchi, Fantasy, School\",\"Adventure, Comedy, Drama, Military, Sci-Fi, Shounen, Supernatural\",\"Action, Comedy, Hentai, Sci-Fi\",\"Action, Adventure, Fantasy, Magic, Sci-Fi, Vampire\",\"Ecchi, Fantasy, Magic\",\"Action, Adventure, Demons, Historical, Martial Arts, Samurai, Shounen\",\"Action, Adventure, Drama, Historical, Sci-Fi, Seinen\",\"Action, Adventure, Comedy, Fantasy, Magic\",\"Comedy, Game, Parody, Slice of Life\",\"Comedy, Drama, Romance, Yaoi\",\"Comedy, Mecha, Sci-Fi\",\"Action, Adventure, Comedy, Kids, Super Power\",\"Action, Historical\",\"Action, Fantasy, Sci-Fi\",\"Action, Comedy, Kids, Sports\",\"Action, Comedy, Sports\",\"Adventure, Drama, Horror, Mecha, Military, Romance, Sci-Fi, Space\",\"Action, Mecha, Military, Sci-Fi\",\"Romance, Sci-Fi, Seinen\",\"Comedy, Ecchi, Harem, Romance, School, Shounen, Slice of Life, Supernatural\",\"Action, Adventure, Romance, Sci-Fi, Shounen, Super Power\",\"Drama, Mecha, Military, Psychological, Supernatural\",\"Game, Mystery, Sci-Fi\",\"Action, Adventure, Comedy, Mecha, Sci-Fi, Shounen\",\"Ecchi, Romance, Slice of Life\",\"School, Supernatural\",\"Adventure, Music, Police, Romance, Sci-Fi\",\"Action, Drama, Historical, Romance, School, Shounen Ai, Supernatural\",\"Comedy, Ecchi, Slice of Life\",\"Fantasy, Supernatural\",\"Action, Adventure, Mecha, Romance, Sci-Fi, Shounen\",\"Action, Adventure, Comedy, Fantasy\",\"Action, Horror, Sci-Fi\",\"Adventure, Comedy, Shounen\",\"Adventure, Historical, Martial Arts, Samurai, Supernatural\",\"Action, Adventure, Comedy, Martial Arts, Romance, Sports\",\"Adventure, Mystery, Sci-Fi, Supernatural\",\"Adventure, Comedy, Fantasy, Mecha, Shounen, Supernatural\",\"Adventure, Ecchi, Fantasy, Magic, Mystery, Shoujo Ai\",\"Comedy, Seinen, Slice of Life, Supernatural\",\"Adventure, Comedy, Ecchi, Magic, Sci-Fi\",\"Action, Comedy, Kids, Magic, Mecha, Sci-Fi, Shounen, Super Power\",\"Police, Sci-Fi, Seinen\",\"Action, Comedy, Ecchi, Romance, School, Shoujo Ai, Super Power\",\"Action, Adventure, Comedy, Drama, Shounen\",\"Sci-Fi, Seinen\",\"Action, Demons, Fantasy, Magic, Supernatural\",\"Action, Comedy, Sci-Fi, Shounen\",\"Drama, Magic, Romance, Shounen\",\"Action, Fantasy, Mecha, Sci-Fi\",\"Adventure, Comedy, Mecha, Sci-Fi\",\"Comedy, Police\",\"Action, Adventure, Comedy, Magic, Romance, Sci-Fi, Shoujo\",\"Action, Comedy, Ecchi, Fantasy, Romance\",\"Drama, Ecchi, Harem, Romance\",\"Comedy, Romance, Seinen, Sports\",\"Adventure, Drama, Fantasy, Historical, Shounen\",\"Kids, Romance, School, Shoujo, Slice of Life, Supernatural\",\"Action, Drama, Hentai, Police\",\"Comedy, Music, School\",\"Action, Martial Arts, Super Power\",\"Comedy, Demons, Fantasy, Historical, Shoujo, Supernatural\",\"Action, Demons, Hentai, Martial Arts, Supernatural\",\"Demons, Hentai, Sci-Fi, Super Power\",\"Action, Adventure, Comedy, Ecchi, Fantasy, Harem, Magic, Romance, Shounen, Super Power\",\"Action, Drama, Mecha, Mystery, Psychological, Sci-Fi\",\"Action, Drama, Sci-Fi\",\"Adventure, Comedy, Demons, Historical, Supernatural\",\"Adventure, Mecha, Sci-Fi, Shoujo\",\"Action, Adventure, Comedy, Fantasy, Magic, Sci-Fi, Shounen, Super Power\",\"Action, Fantasy, Game, Shounen\",\"Romance, Slice of Life\",\"Adventure, Demons, Drama, Fantasy, Magic\",\"Comedy, Fantasy, Magic, Romance, Shounen\",\"Action, Adventure, Shounen\",\"Action, Comedy, Horror, Mystery, Police, Supernatural\",\"Action, Ecchi, Harem, Magic, Mecha, Romance, Shounen\",\"Fantasy, Historical, Josei, Samurai\",\"Adventure, Fantasy, Kids, Shoujo, Slice of Life\",\"Action, Comedy, Historical, Samurai, Sci-Fi, Super Power\",\"Action, Comedy, Mecha, Parody, Sci-Fi, Shounen\",\"Demons, Harem, Romance, Shoujo, Supernatural\",\"Historical, Josei\",\"Drama, Sci-Fi, Seinen, Space\",\"Hentai, Magic, Super Power\",\"Horror, School, Sci-Fi\",\"Action, Adventure, Comedy, Supernatural, Vampire\",\"Action, Adventure, Comedy, Ecchi, Police, Sci-Fi, Shounen\",\"Action, Drama, Fantasy, Romance, Sci-Fi\",\"Action, Magic, Supernatural\",\"Ecchi, Martial Arts, School, Super Power\",\"Action, Comedy, Mecha, Sci-Fi, Shounen\",\"Action, Adventure, Comedy, Mecha, Sci-Fi, Seinen\",\"Fantasy, Mystery\",\"Adventure, Comedy, Fantasy, Kids, Music\",\"Action, Hentai, Horror, Supernatural\",\"Action, Drama, Yaoi\",\"Action, Drama, Mecha, Sci-Fi\",\"Action, Adventure, Comedy, Kids\",\"Action, Adventure, Drama, Martial Arts, Romance, Shounen\",\"Drama, Fantasy, Magic, Shoujo\",\"Fantasy, Magic\",\"Action, Comedy, Romance, School, Supernatural\",\"Comedy, Drama, Ecchi, School, Slice of Life\",\"Action, Cars, Comedy, Police, Sports\",\"Action, Fantasy, Hentai, Supernatural\",\"Action, Adventure, Mecha, Shounen, Super Power\",\"Action, Drama, Martial Arts, Shounen, Super Power\",\"Drama, Magic, Supernatural\",\"Adventure, Drama, Fantasy, Music\",\"Action, Comedy, Fantasy, Historical, Horror, Martial Arts, Samurai, Shounen, Supernatural\",\"Action, Demons, Fantasy\",\"Action, Comedy, Ecchi, Shoujo Ai, Super Power\",\"Action, Ecchi, Seinen, Super Power, Supernatural\",\"Action, Adventure, Mecha, Police\",\"Romance, Sci-Fi, Shoujo\",\"Comedy, Fantasy, Magic\",\"Drama, Magic\",\"Comedy, Fantasy, School, Shounen, Supernatural\",\"Comedy, Kids, School\",\"Action, Sci-Fi, Super Power\",\"Drama, Music, Romance, Sports, Yaoi\",\"Drama, Fantasy, Mystery\",\"Comedy, Drama, Mecha, Sci-Fi\",\"Action, Adventure, School, Sci-Fi\",\"Comedy, Shounen, Slice of Life, Sports\",\"Comedy, Magic, Sci-Fi, Shounen\",\"Comedy, Fantasy, Game, Shounen\",\"Adventure, Fantasy, Game, Sci-Fi\",\"Drama, Shoujo\",\"Drama, Music, Shoujo\",\"Adventure, Drama, Historical, Mystery, Supernatural\",\"Comedy, Mystery, Police, Romance, Shounen Ai\",\"Demons, Horror, Psychological, Supernatural\",\"Adventure, Comedy, Fantasy, Game\",\"Action, Adventure, Military, Sci-Fi, Space\",\"Action, Drama, Fantasy, Horror, Magic, Sci-Fi, Supernatural\",\"Fantasy, Magic, Romance\",\"Action, Adventure, Comedy, Kids, Mecha, Sci-Fi, Shounen, Super Power\",\"Comedy, Romance, Sci-Fi\",\"Comedy, School, Shoujo Ai\",\"Action, Comedy, Mecha, Sci-Fi, Super Power\",\"Mecha, Military, Sci-Fi, Shounen, Space\",\"Comedy, School, Sports\",\"Drama, Historical, Kids, Shoujo, Slice of Life\",\"Comedy, Fantasy, Game, Parody, Sci-Fi\",\"Action, Demons, Shounen, Sports, Supernatural\",\"Adventure, Horror, Mystery\",\"Comedy, Fantasy, Kids, Shoujo\",\"Adventure, Comedy, Fantasy, Magic, Parody, Romance, School, Shoujo\",\"Action, Drama, Martial Arts, Police, Romance, Seinen\",\"Action, Drama, Mecha, Music, Mystery, Romance, Sci-Fi\",\"Historical, Martial Arts\",\"Adventure, Historical, Kids, Slice of Life\",\"Comedy, Ecchi, Romance, School, Sci-Fi\",\"Action, Comedy, Mecha, Parody, School, Sci-Fi, Space\",\"Dementia, Horror, Supernatural\",\"Comedy, Game\",\"Action, Martial Arts, Sports\",\"Fantasy, Space\",\"Adventure, Comedy, Fantasy, Kids, Magic\",\"Action, Adventure, Slice of Life, Super Power\",\"Adventure, Drama, Kids, Slice of Life\",\"Comedy, Fantasy, Harem, Magic, Romance\",\"Adventure, Drama, Historical, Shoujo\",\"Action, Adventure, Drama, Mecha, Sci-Fi\",\"Action, Comedy, Ecchi, Shoujo Ai\",\"Action, Music, Seinen, Supernatural\",\"Romance, Shounen Ai\",\"Cars, Drama, Sports\",\"Action, Comedy, Ecchi, Sci-Fi, Shounen, Space, Sports\",\"Action, Romance, Shoujo, Sports\",\"Demons, Hentai, School, Supernatural\",\"Comedy, Ecchi, Harem, Romance\",\"Action, Comedy, Parody\",\"Historical, Kids\",\"Action, Adventure, Military, Sci-Fi, Shounen\",\"Romance, School, Shoujo\",\"Action, Adventure, Psychological, Supernatural\",\"Adventure, Comedy, Fantasy, Game, Shounen\",\"Sci-Fi, Sports\",\"Comedy, Drama, Harem, Romance, School, Slice of Life\",\"Action, Martial Arts, Samurai, Sci-Fi\",\"Action, Fantasy, Mystery, Supernatural\",\"Historical, Mystery, Shoujo\",\"Comedy, Dementia, Fantasy\",\"Comedy, Fantasy, Slice of Life\",\"Action, Comedy, Ecchi, Fantasy, Magic, Super Power, Supernatural\",\"Action, Adventure, Fantasy, Romance, Sci-Fi\",\"Action, Mecha, Military, Police, Sci-Fi\",\"Comedy, Sci-Fi, Shounen\",\"Action, Fantasy, Game\",\"Romance, School\",\"Action, Adventure, Comedy, Martial Arts, Shounen\",\"Adventure, Comedy, Slice of Life\",\"Comedy, Ecchi, Harem, Sci-Fi, Seinen\",\"Action, Comedy, Military, Romance, Shounen\",\"Comedy, Ecchi, Police, Shounen\",\"Comedy, Mecha, Sci-Fi, Space\",\"Action, Comedy, Sci-Fi, Shounen, Super Power, Supernatural\",\"Drama, Fantasy, Kids\",\"Drama, Sci-Fi, Space\",\"Comedy, Ecchi, Parody\",\"Action, Comedy, Military, Seinen\",\"Action, Ecchi, School, Shounen\",\"Comedy, Drama, Ecchi\",\"Adventure, Mecha, Space\",\"Adventure, Drama, Magic\",\"Adventure, Comedy, Fantasy, Kids, Magic, Parody\",\"Comedy, Sci-Fi, Seinen\",\"Comedy, Fantasy, Romance, School\",\"Action, Adventure, Comedy, Ecchi, Kids, Magic, Romance, Super Power, Supernatural\",\"Ecchi, Harem, Seinen\",\"Comedy, School, Shoujo, Slice of Life\",\"Comedy, Ecchi, Seinen\",\"Action, Adventure, Demons, Fantasy, Game, Kids, Magic, Sci-Fi, Supernatural\",\"Drama, Romance, Shoujo Ai, Supernatural\",\"Adventure, Drama, Shounen\",\"Comedy, Shounen Ai, Sports\",\"Action, Adventure, Fantasy, Horror, Sci-Fi\",\"Action, Dementia, Drama, Sci-Fi\",\"Harem, Mystery, Psychological, Sci-Fi, Supernatural\",\"Drama, Historical, Military, Seinen\",\"Action, Adventure, Comedy, Mecha, Sci-Fi, Super Power\",\"Adventure, Comedy, Fantasy, Kids\",\"Action, Drama, Historical, Military\",\"Action, Ecchi, Harem, Martial Arts, School, Super Power\",\"Drama, Sports\",\"Sci-Fi, Shounen\",\"Action, Adventure, Game, Harem, Mecha, Sci-Fi\",\"Comedy, Kids, Mecha, School, Super Power\",\"Action, School, Shoujo Ai\",\"Action, Drama, Mecha, Military, School, Supernatural\",\"Adventure, Drama, Mystery, Supernatural\",\"Drama, Mecha, Sci-Fi, Space\",\"School, Shounen\",\"Comedy, Ecchi, Magic, School\",\"Psychological, Sci-Fi\",\"Action, Comedy, Drama, Fantasy, Mecha, Romance, Sci-Fi\",\"Adventure, Fantasy, Samurai, Shounen\",\"Mecha, Sci-Fi, Shounen\",\"Action, Comedy, Parody, Romance\",\"Fantasy, Seinen\",\"Military, School, Sports\",\"Comedy, Kids, School, Slice of Life\",\"Historical, Shounen\",\"Comedy, Drama, Sci-Fi, Seinen\",\"Action, Comedy, Drama, Ecchi, Horror, Mystery, Sci-Fi, Supernatural\",\"Comedy, Romance, School, Shoujo Ai, Slice of Life\",\"Comedy, Ecchi, Sci-Fi\",\"Action, Adventure, Comedy, Ecchi, Sci-Fi\",\"Action, Comedy, Drama, School, Shounen, Sports\",\"Comedy, Magic, Shoujo, Slice of Life\",\"Action, Comedy, Fantasy\",\"Drama, Kids\",\"Mecha, Military\",\"Drama, Fantasy, Historical\",\"Adventure, Comedy, Historical\",\"Adventure, Comedy, Fantasy, Mecha, Shounen\",\"Drama, Hentai, Supernatural\",\"Action, Cars, Sci-Fi\",\"Action, Adventure, Martial Arts, Sci-Fi, Shounen, Super Power\",\"Action, Adventure, Game, Martial Arts\",\"Comedy, Romance, Shounen, Slice of Life\",\"Adventure, Comedy, Fantasy, Kids, Romance, Shounen\",\"Comedy, Historical, Parody, Samurai, Seinen\",\"Drama, Military\",\"Comedy, Ecchi, School, Shounen\",\"Comedy, Police, Sci-Fi\",\"Adventure, Comedy, Magic\",\"Magic, Shoujo\",\"Comedy, Seinen, Supernatural\",\"Mystery, Parody\",\"Horror, Shoujo\",\"Action, Fantasy, Mecha, Super Power\",\"Adventure, Sci-Fi, Shounen, Supernatural\",\"Comedy, Historical, Shoujo\",\"Mystery, Police, Supernatural\",\"Action, Cars, Mecha, Shounen\",\"Comedy, Ecchi, Military, School, Seinen\",\"Comedy, Fantasy, Kids, Magic\",\"Action, Drama, Police, School, Shoujo\",\"Comedy, Ecchi, Romance\",\"Adventure, Horror\",\"Ecchi, Parody, Romance, Seinen\",\"Drama, School\",\"Drama, Harem, Romance, School, Sci-Fi, Slice of Life\",\"Action, Comedy, Ecchi, Mecha\",\"Adventure, Comedy, Fantasy, Historical, Shounen\",\"Drama, Military, Sci-Fi\",\"Action, Adventure, Comedy, Magic, Super Power, Supernatural\",\"Drama, Fantasy, Kids, Romance\",\"Comedy, Horror, Mystery, Supernatural\",\"Adventure, Horror, Mecha\",\"Comedy, Kids, School, Slice of Life, Supernatural\",\"Action, Comedy, Romance\",\"Drama, Harem, Romance, School\",\"Shounen, Sports\",\"Action, Historical, Martial Arts, Shounen\",\"Hentai, Supernatural\",\"Action, Comedy, Kids, Mecha, Parody, Sci-Fi, Shounen\",\"Action, Ecchi, Harem, Romance, School, Sports\",\"Action, Police\",\"Action, Adventure, Comedy, Fantasy, Mecha\",\"Comedy, Harem, Magic, Romance, School\",\"Adventure, Game\",\"Action, Comedy, Dementia, Ecchi, Parody, Supernatural\",\"Adventure, Comedy, Fantasy, Horror, Sports, Supernatural\",\"Comedy, Fantasy, School\",\"Adventure, Hentai, Magic, Sci-Fi\",\"Action, Comedy, School, Slice of Life\",\"Adventure, Comedy, Fantasy\",\"Adventure, Demons, Drama, Fantasy, Historical, Kids, Magic, Romance, Supernatural\",\"Comedy, Fantasy, Magic, Slice of Life\",\"Comedy, Military, Romance, Sci-Fi\",\"Action, Sci-Fi, Thriller\",\"Action, Adventure, Romance, Sci-Fi, Shounen\",\"Adventure, Comedy, Demons, Fantasy, Sci-Fi\",\"Drama, Historical, Kids, Samurai\",\"Demons, Supernatural\",\"Drama, Shoujo, Sports\",\"Comedy, Mystery\",\"Fantasy, Magic, Shoujo\",\"Comedy, Drama\",\"Mystery\",\"Fantasy, Parody, Samurai\",\"Comedy, Drama, Fantasy, Hentai, Parody, Romance, Sci-Fi, Yuri\",\"Action, Adventure, Drama, Historical\",\"Adventure, Comedy, Drama, Fantasy, Romance, Sci-Fi, Shoujo\",\"Comedy, Ecchi, School\",\"Action, Comedy, Ecchi, Romance, Sci-Fi\",\"Comedy, Mystery, School, Shoujo\",\"Action, Comedy, Parody, Sci-Fi, Shounen\",\"Adventure, Drama, Military, Sci-Fi, Space\",\"Horror, Mystery, Supernatural, Thriller\",\"Adventure, Fantasy, Magic, Shounen\",\"Adventure, Comedy, Sci-Fi, Space\",\"Adventure, Fantasy, Magic\",\"Comedy, Fantasy, Magic, Romance, Shoujo\",\"Action, Adventure, Comedy, Sci-Fi\",\"Action, Comedy, Ecchi, Sci-Fi\",\"Adventure, Historical\",\"Action, Ecchi, Harem, Mecha, Romance, School, Sci-Fi\",\"Comedy, Fantasy, Harem, Magic, Romance, Shounen\",\"Fantasy, Shounen\",\"Kids, Shoujo, Slice of Life\",\"Drama, Fantasy, Romance, Sci-Fi, Shoujo\",\"Comedy, Drama, Mystery\",\"Comedy, Horror, School, Supernatural\",\"Comedy, Mystery, School, Shounen, Super Power\",\"Action, Drama, Historical, Samurai\",\"Adventure, Demons, Fantasy\",\"Fantasy, Harem, Romance, Shoujo\",\"Comedy, Romance, School, Sci-Fi, Slice of Life\",\"Action, Adventure, Demons, Drama, Horror, Super Power\",\"Comedy, Super Power, Supernatural\",\"Fantasy, Historical, Magic, Romance, Shoujo, Supernatural\",\"Action, Comedy, Magic, School, Sci-Fi, Shoujo, Slice of Life, Super Power\",\"Comedy, Drama, Harem, Romance, School\",\"Drama, Mystery, Psychological, Seinen\",\"Drama, Ecchi, Fantasy, Harem, Romance\",\"Action, Ecchi, Sci-Fi\",\"Adventure, Fantasy\",\"Action, Comedy, School\",\"Comedy, Drama, Seinen\",\"Comedy, Shoujo, Slice of Life\",\"Action, Mystery\",\"Mecha, Mystery\",\"Action, Comedy, Historical, Military, Samurai\",\"Action, Comedy, Parody, Romance, School, Shounen\",\"Thriller\",\"Demons, Fantasy, Hentai\",\"Comedy, School, Shoujo, Shounen Ai, Slice of Life\",\"Action, Game, Sci-Fi\",\"Adventure, Sci-Fi, Supernatural\",\"Drama, Romance, Shoujo, Shounen Ai\",\"Comedy, Fantasy, Magic, Parody\",\"Action, Mecha, Sci-Fi, Shounen\",\"Comedy, Music, Slice of Life\",\"Kids, Mystery, Slice of Life\",\"Action, Adventure, Drama, Fantasy, Historical, Supernatural\",\"Drama, Harem, Romance, School, Slice of Life\",\"Action, Game, School, Sci-Fi\",\"Drama, Historical, Sports\",\"Adventure, Fantasy, Historical, Sci-Fi\",\"Fantasy, Kids, Supernatural\",\"Demons, Horror, Supernatural\",\"Music, Shounen Ai\",\"Mystery, Romance, School, Slice of Life\",\"Action, Fantasy, Horror, Sci-Fi\",\"Comedy, Ecchi, Mecha, Sci-Fi, Shounen\",\"Action, Adventure, Comedy, Fantasy, Mecha, Sci-Fi\",\"Action, Drama, Police, Seinen, Thriller\",\"Drama, Fantasy, Historical, Kids\",\"Adventure, Comedy, Drama\",\"Music, Shoujo, Sports\",\"Comedy, Ecchi, Romance, School\",\"Action, Drama, Fantasy, Magic, School\",\"Hentai, Parody\",\"Action, Sci-Fi, Space, Super Power\",\"Drama, Music, Romance, School\",\"Comedy, Drama, Hentai, Romance\",\"Action, Ecchi, Super Power, Supernatural\",\"Action, Adventure, Comedy, Romance, Sci-Fi, Super Power\",\"Adventure, Shoujo\",\"Action, Military, Sci-Fi, Space\",\"Adventure, Comedy, Fantasy, Mecha, Parody\",\"Comedy, Drama, Mystery, Police\",\"Shounen\",\"Drama, Slice of Life\",\"Fantasy, Romance, Shoujo, Supernatural\",\"Action, Historical, Martial Arts, Samurai, Seinen\",\"Comedy, Supernatural\",\"Comedy, Parody, Romance, Super Power\",\"Comedy, Ecchi, Romance, Seinen, Slice of Life\",\"Adventure, Comedy, Kids, Shounen\",\"Adventure, Shoujo, Slice of Life\",\"Comedy, Fantasy, Kids, Sci-Fi, Shounen, Sports\",\"Action, Fantasy, Horror, Kids, Shounen, Supernatural\",\"Action, Comedy, Ecchi, School\",\"Fantasy, Shoujo\",\"Drama, Fantasy\",\"Harem, Hentai, Romance\",\"Adventure, Comedy, Ecchi, Fantasy, Magic, School\",\"Action, Adventure, Mystery, Police\",\"Adventure, Mecha, Sci-Fi, Space\",\"Adventure, Comedy, Fantasy, Horror, Supernatural\",\"Action, Adventure, Mecha, Military, Sci-Fi, Space\",\"Historical, Sports\",\"Adventure, Mecha, Military, Sci-Fi, Shounen, Space\",\"Adventure, Historical, Mecha, Sci-Fi\",\"Adventure, Comedy, Historical, Kids\",\"Adventure, Comedy, Historical, Romance\",\"Comedy, Harem, School, Slice of Life\",\"Action, Comedy, Ecchi, Fantasy\",\"Drama, Military, Sci-Fi, Slice of Life\",\"Adventure, Dementia, Mecha, Mystery, Police, Psychological, Sci-Fi, Thriller\",\"Action, Horror, Mystery, Supernatural\",\"Action, Ecchi, Police\",\"Action, Hentai, Historical, Martial Arts\",\"Ecchi, Music\",\"Drama, Hentai\",\"Comedy, Drama, Ecchi, Supernatural\",\"Comedy, Fantasy, Hentai, Supernatural, Yaoi\",\"Action, Drama, Romance, Shoujo, Supernatural\",\"Parody, Seinen\",\"Cars, Seinen, Slice of Life, Sports\",\"Action, Adventure, Cars, Mecha, Sci-Fi, Shounen, Sports\",\"Fantasy, Hentai, Horror\",\"Action, Demons, Martial Arts, Shounen\",\"Action, Adventure, Mecha, Military, Shounen\",\"Action, Mecha, Police, Sci-Fi\",\"Adventure, Kids, Slice of Life\",\"Action, School, Sports\",\"Action, Fantasy, Mecha\",\"Adventure, Comedy, Mecha\",\"Comedy, Ecchi, School, Slice of Life\",\"Adventure, Music, Mystery\",\"Adventure, Comedy, Ecchi, Fantasy, Magic, Seinen\",\"Comedy, Fantasy, Kids, Magic, Shoujo\",\"Adventure, Comedy, Martial Arts\",\"Adventure, Comedy, Sci-Fi\",\"Adventure, Historical, Shoujo\",\"Action, Demons, Hentai\",\"Action, Demons, Horror, Military, Mystery, Police, Supernatural, Thriller\",\"Demons, Historical, Romance, Seinen, Supernatural\",\"Romance, Shoujo, Slice of Life\",\"Action, Comedy, Drama, Fantasy, Magic\",\"Action, Adventure, Mecha, Sci-Fi\",\"Comedy, Historical\",\"Drama, Romance, Yaoi\",\"Action, Adventure, Mystery, Sci-Fi, Seinen, Super Power\",\"Comedy, Ecchi, Magic, Sci-Fi, Seinen\",\"Adventure, Demons, Fantasy, Sci-Fi, Seinen\",\"Action, Comedy, Mecha, Military, Parody, Sci-Fi, Space\",\"Adventure, Fantasy, Horror, Mecha, Psychological, Sci-Fi, Shounen, Space, Supernatural\",\"Dementia, Fantasy, Sci-Fi\",\"Adventure, Demons, Drama, Fantasy, Historical, Romance, Shoujo, Supernatural\",\"Action, Adventure, Ecchi, Shounen\",\"Comedy, Ecchi, Romance, Sci-Fi, Seinen\",\"Comedy, Ecchi, Romance, School, Slice of Life\",\"Action, Game\",\"Fantasy, Harem, Hentai, School, Supernatural\",\"Fantasy, Harem, Romance, School\",\"Comedy, Horror, Supernatural, Vampire\",\"Action, Drama, Mystery, Sci-Fi, Thriller\",\"Comedy, Magic, Shoujo\",\"Fantasy, School\",\"Adventure, Fantasy, Kids, Sci-Fi\",\"Ecchi, Seinen\",\"Magic, Romance\",\"Drama, Horror, Vampire\",\"Action, Fantasy, Horror, Shounen, Supernatural\",\"Action, Harem, Romance, Shoujo\",\"Romance, Shoujo\",\"Drama, Supernatural\",\"Comedy, Fantasy, Shoujo\",\"Mecha, Music\",\"Action, Drama, Shounen\",\"Mystery, Sci-Fi\",\"Action, Adventure, Historical, Martial Arts, Samurai\",\"Adventure, Drama, Mecha, Romance\",\"Comedy, Ecchi, Mecha, Sci-Fi\",\"Action, Sci-Fi, Shounen Ai\",\"Drama, Fantasy, Magic, Supernatural\",\"Magic, Supernatural\",\"Comedy, Samurai, Seinen\",\"Dementia, Drama, Music, Psychological, School, Supernatural\",\"Adventure, Comedy, Drama, Kids\",\"Action, Comedy, Ecchi, Fantasy, Harem, Romance, School, Sci-Fi\",\"Music, Seinen, Slice of Life\",\"Action, Demons, Fantasy, Historical, Samurai, Sci-Fi, Supernatural\",\"Mystery, Sci-Fi, Shounen, Thriller\",\"Adventure, Comedy, Fantasy, Kids, Magic, Super Power\",\"Adventure, Drama, Historical\",\"Action, Shounen, Supernatural\",\"Comedy, Ecchi, Magic\",\"Adventure, Comedy, Kids, Mecha, Sci-Fi, Shounen\",\"Adventure, Mecha, Sci-Fi\",\"Action, Adventure, Ecchi, Fantasy\",\"Music, Shoujo\",\"Action, Adventure, Comedy, Sci-Fi, Shounen\",\"Action, Drama, Military, Sci-Fi, Shounen, Space\",\"Action, Sci-Fi, Slice of Life\",\"Comedy, Mecha, Romance, Sci-Fi, Shoujo Ai, Shounen\",\"Comedy, Samurai, Shounen\",\"Demons, Fantasy, Romance, Seinen\",\"Ecchi, Romance, Seinen, Yuri\",\"Action, Romance, School, Sci-Fi\",\"Adventure, Fantasy, Harem, Magic\",\"Comedy, Fantasy, Horror, Magic, Supernatural\",\"Comedy, Ecchi, Romance, Slice of Life\",\"Action, Comedy, Mystery, Police\",\"Fantasy, Romance\",\"Adventure, Comedy, Fantasy, Historical\",\"Music, Shoujo, Slice of Life\",\"Comedy, Drama, Ecchi, Romance, School\",\"Comedy, Romance\",\"Mecha, Romance, Sci-Fi\",\"Comedy, Kids, Magic, Military, Sci-Fi\",\"Comedy, Ecchi, Romance, Slice of Life, Supernatural\",\"Adventure, Comedy, Fantasy, Magic, Parody, Seinen\",\"Action, Mecha, Music\",\"Adventure, Drama, Fantasy, Supernatural\",\"Adventure, Comedy, Hentai\",\"Dementia, Drama, Horror, Music\",\"Comedy, Drama, Ecchi, Horror, Supernatural\",\"Adventure, Comedy, Josei, Slice of Life\",\"Adventure, Demons, Shounen, Supernatural\",\"Action, Comedy, Kids, Vampire\",\"Action, Historical, Samurai\",\"Comedy, Drama, Ecchi, Harem, Music\",\"Adventure, Comedy, Kids, Sci-Fi\",\"Drama, Romance, Shounen\",\"Action, Adventure, Fantasy, Mecha\",\"Comedy, Kids, Parody\",\"Fantasy, Josei, Mystery, Romance\",\"Historical, Horror, Martial Arts, Samurai\",\"Adventure, Fantasy, Sci-Fi\",\"Action, Drama, Game, Seinen\",\"Adventure, Comedy, Fantasy, Mystery, Sci-Fi, Shounen\",\"Comedy, Ecchi, Fantasy\",\"Comedy, Historical, Seinen\",\"Action, Fantasy\",\"Adventure, Sci-Fi\",\"Comedy, Hentai, Mystery, Supernatural\",\"Comedy, Demons, Fantasy, Horror, Shounen, Supernatural\",\"Action, Adventure, Kids, Space\",\"Demons, Fantasy, Hentai, Horror, Supernatural\",\"Adventure, Comedy, Ecchi, Samurai\",\"Comedy, Drama, Fantasy, Kids\",\"Historical, Magic, Romance\",\"Adventure, Drama, Fantasy, Martial Arts, Romance, Supernatural\",\"Horror, School\",\"Adventure, Demons, Super Power, Supernatural\",\"Action, Drama, Mecha\",\"Kids, Super Power\",\"Comedy, Romance, Sports\",\"Comedy, Parody, School, Shounen Ai\",\"Comedy, Martial Arts, Police, Sports\",\"Drama, Music, Shounen\",\"Hentai, Horror, Supernatural\",\"Action, Adventure, Drama, Fantasy, Magic, Seinen\",\"Action, Adventure, Comedy, Drama, Sci-Fi\",\"Drama, Magic, Shoujo, Supernatural\",\"Demons, Drama, Historical, Romance\",\"Fantasy, Magic, School\",\"Action, Adventure, Comedy, Mystery\",\"Action, Mecha, Sci-Fi\",\"Drama, Mecha, Military, Sci-Fi, Shounen, Space\",\"Drama, Fantasy, Super Power\",\"Action, Cars, Shounen, Sports\",\"Adventure, Horror, Romance, Shounen, Supernatural\",\"Action, Drama, Mecha, Psychological, Sci-Fi\",\"Comedy, Ecchi, Romance, Seinen, Supernatural\",\"Action, Comedy, Demons, Fantasy, Hentai\",\"Drama, Fantasy, Kids, Slice of Life\",\"Action, Drama, Mystery, Shoujo\",\"Action, Game, School, Shounen, Sports\",\"Action, Adventure, Fantasy, Supernatural\",\"Comedy, Magic, Parody\",\"Parody\",\"Comedy, Sci-Fi, Space\",\"Action, Sci-Fi, Shounen, Space, Super Power\",\"Action, Demons, Drama, Hentai\",\"Comedy, School, Slice of Life, Supernatural\",\"Action, Adventure, Sci-Fi\",\"Fantasy, Sci-Fi, Supernatural\",\"Action, Adventure, Fantasy, Kids, Supernatural\",\"Comedy, Mystery, School, Super Power\",\"Action, Adventure, Drama, Sci-Fi, Shounen\",\"Magic, School, Shoujo\",\"Drama, Mecha, Sci-Fi\",\"Demons, Historical, Supernatural\",\"Comedy, Fantasy, Horror\",\"Demons, Fantasy, Hentai, Magic, Romance, Supernatural\",\"Comedy, Harem, Romance, Shoujo, Slice of Life\",\"Action, Adventure, Fantasy\",\"Action, Comedy, Mecha, Sci-Fi\",\"Harem, Hentai, School\",\"Comedy, Ecchi, Parody, School, Shounen\",\"Drama, Fantasy, Hentai, Romance\",\"Action, Drama, Police, Shounen\",\"Action, Comedy, Drama, Ecchi, Police, Sci-Fi, Shounen\",\"Comedy, Ecchi, Romance, Shounen, Slice of Life\",\"Drama, Hentai, Historical, Psychological\",\"Action, Drama, Horror, Vampire\",\"Action, Comedy, Drama, Fantasy, Historical, Slice of Life\",\"Comedy, Slice of Life, Sports\",\"Action, Comedy, School, Shounen, Supernatural\",\"Comedy, Kids, School, Super Power\",\"Action, Adventure, Fantasy, Game\",\"Action, Comedy, Ecchi, Samurai, Seinen\",\"Romance, Sports\",\"Comedy, Kids, Sports\",\"Comedy, Sci-Fi\",\"Adventure, Comedy, Fantasy, Game, Sci-Fi\",\"Drama, Military, Music\",\"Adventure, Comedy, Game, Kids\",\"Magic, Slice of Life\",\"Action, Mecha, Music, Romance, Sci-Fi\",\"Ecchi, Romance, School\",\"Action, Comedy, Ecchi, Shounen, Supernatural\",\"Adventure, Super Power\",\"Drama, Military, Thriller\",\"Comedy, Ecchi, School, Seinen, Shoujo Ai\",\"Horror, Mystery, Psychological, Sci-Fi\",\"Comedy, School\",\"Comedy, Ecchi, Harem, School\",\"Fantasy, Shoujo, Supernatural\",\"Comedy, Fantasy, Kids, Slice of Life\",\"Kids, Shoujo, Supernatural\",\"Action, Psychological, Sci-Fi, Super Power\",\"Action, Adventure, Game, Kids, Sci-Fi\",\"Action, Adventure, Fantasy, Magic, Mecha, Sci-Fi\",\"Ecchi, Romance, Seinen\",\"Adventure, Comedy, Magic, Romance\",\"Comedy, Mystery, Parody\",\"Action, Mecha, Military, Police\",\"Action, Adventure, Comedy, Magic, Mecha, Sci-Fi\",\"Drama, Game, Mecha\",\"Action, Adventure, Comedy, Fantasy, Kids, Parody, Sci-Fi, Super Power\",\"Action, Adventure, Comedy, Fantasy, Hentai, Magic, Supernatural\",\"Adventure, Comedy, Fantasy, Parody\",\"Comedy, Ecchi, Magic, Sci-Fi\",\"Slice of Life, Supernatural\",\"Adventure, Comedy, Fantasy, Shoujo, Shounen Ai\",\"Music, School\",\"Mecha, Parody, Sci-Fi\",\"Action, Ecchi, Fantasy, Shoujo Ai\",\"Comedy, Horror, Supernatural\",\"Action, Adventure, Sci-Fi, Shounen, Sports\",\"Adventure, Demons, Mecha, Sci-Fi, Shounen\",\"Action, Comedy, School, Sci-Fi\",\"Action, Adventure, Magic, Music, Sci-Fi, Super Power\",\"Drama, Music\",\"Action, Adventure, Kids, Mecha, Sci-Fi, Shounen\",\"Action, Demons, Horror, Shounen, Supernatural\",\"Action, Comedy, Drama, Fantasy, Magic, School, Sci-Fi, Shounen, Slice of Life, Super Power, Supernatural\",\"Harem, School, Shoujo\",\"Action, Adventure, Fantasy, Game, Shounen\",\"Fantasy, Sci-Fi\",\"Comedy, Fantasy, Game\",\"Adventure, Comedy, Slice of Life, Supernatural\",\"Adventure, Drama, Fantasy, Historical, Supernatural\",\"Adventure, Comedy, Ecchi, Mecha, Sci-Fi\",\"Adventure, Historical, Kids, Sci-Fi\",\"Action, Fantasy, Martial Arts, Samurai, Super Power\",\"Action, Comedy, Kids, Shoujo\",\"Adventure, Drama, Historical, Kids\",\"Historical, Slice of Life\",\"Action, Adventure, Martial Arts, Sci-Fi\",\"Comedy, Samurai, School\",\"Adventure, Fantasy, Kids\",\"Ecchi, Magic\",\"Harem, Music\",\"Adventure, Fantasy, Josei, Romance\",\"Action, Game, Kids\",\"Action, Mecha, Sci-Fi, Seinen\",\"Mystery, Sci-Fi, Space\",\"Action, Adventure, Fantasy, Historical, Military, Sci-Fi\",\"Fantasy, Hentai\",\"Adventure, Comedy, Kids\",\"Mecha, Military, Sci-Fi\",\"Mecha, Military, Mystery, Sci-Fi, Space\",\"Adventure, Comedy, Dementia, Fantasy, Music, Mystery\",\"Drama, Seinen, Thriller\",\"Action, Martial Arts, School\",\"Action, Historical, Super Power\",\"Ecchi, Fantasy, School, Seinen, Supernatural, Vampire\",\"Comedy, Hentai, Romance\",\"Comedy, Kids, Shoujo\",\"Comedy, Parody\",\"Drama, Historical, Horror\",\"Drama, Mystery, Romance, Shoujo, Slice of Life\",\"Action, Comedy, Kids, Shounen\",\"Adventure, Music, Shoujo\",\"Comedy, Music, Shoujo\",\"Comedy, Martial Arts, Parody, Samurai, Sci-Fi, Super Power\",\"Action, Comedy, Drama, Historical, Romance, Samurai, Shoujo\",\"Action, Comedy, Drama, Slice of Life\",\"Action, Adventure, Fantasy, Magic, Sci-Fi\",\"Drama, Shoujo, Shounen Ai\",\"Action, Adventure, Comedy, Ecchi, Mecha, Military, Romance, Sci-Fi\",\"Drama, Horror, Romance\",\"Comedy, Hentai, Magic\",\"Action, Adventure, Mecha, Sci-Fi, Shounen\",\"Action, Adventure, Comedy, Military, Romance, Sci-Fi, Space\",\"Mystery, School\",\"Comedy, Ecchi, Mecha, Seinen\",\"Action, Horror\",\"Comedy, Drama, Romance, School, Shoujo\",\"Adventure, Fantasy, Music\",\"Comedy, Demons, Fantasy, Hentai, Magic, Parody\",\"Dementia, Sci-Fi\",\"Adventure\",\"Adventure, Comedy\",\"Action, Hentai, Supernatural\",\"Adventure, Sci-Fi, Shounen, Space\",\"Action, Mystery, Seinen\",\"Action, Martial Arts, Mecha, Super Power\",\"Comedy, Ecchi, Super Power, Supernatural\",\"Adventure, Comedy, Game, Sports\",\"Martial Arts, Seinen, Sports\",\"Action, Fantasy, Mecha, Military, Sci-Fi, Supernatural\",\"Action, Demons, Fantasy, Horror, Supernatural\",\"Action, Romance, Samurai, Sci-Fi\",\"Action, Adventure, Fantasy, Music, Romance, Sci-Fi, Shounen, Super Power, Supernatural\",\"Adventure, Historical, Horror, Shoujo, Supernatural\",\"Action, Demons, Sci-Fi, Shounen\",\"Action, Adventure, Comedy, Kids, Sports\",\"Action, Comedy, Magic, Mecha, Romance, Sci-Fi\",\"Action, Comedy, Super Power\",\"Action, Adventure, Fantasy, Martial Arts\",\"Hentai, School\",\"Comedy, Fantasy, Magic, School\",\"Action, Comedy, Ecchi, Shounen, Super Power\",\"Action, Comedy, Ecchi, Police, Sci-Fi\",\"Fantasy, Magic, Sci-Fi\",\"Dementia, Music, Sci-Fi\",\"Drama, Kids, Slice of Life\",\"Adventure, Comedy, Kids, Super Power\",\"Comedy, Magic\",\"Adventure, Comedy, Shounen, Supernatural\",\"Action, Adventure, Drama, Mecha, Sci-Fi, Shounen, Space\",\"Action, Adventure, Fantasy, Mecha, Sci-Fi\",\"Fantasy, Hentai, Horror, Supernatural\",\"Action, Demons, Fantasy, Supernatural\",\"Adventure, Kids, Magic\",\"Action, Ecchi, Seinen, Yuri\",\"Adventure, Comedy, Fantasy, Hentai\",\"Action, Adventure, Fantasy, Kids, Magic, Shoujo, Super Power\",\"Drama, Psychological, Sci-Fi, Shounen Ai\",\"Ecchi, Fantasy, Harem, Music\",\"Action, Ecchi, Fantasy\",\"Comedy, Mecha, Military, Sci-Fi\",\"Comedy, Parody, Seinen, Sports, Super Power\",\"School\",\"Hentai\",\"Historical, Romance\",\"Drama, Slice of Life, Sports\",\"Seinen, Sports\",\"Action, Historical, Mecha\",\"Comedy, Historical, Slice of Life\",\"Action, Adventure, Comedy, Historical, Martial Arts, Shounen\",\"Action, Comedy, Ecchi, Fantasy, Supernatural\",\"Comedy, Kids, Magic, Romance\",\"Action, Comedy, School, Sci-Fi, Super Power\",\"Drama, Fantasy, Horror\",\"Action, Drama, Mystery, Sci-Fi\",\"Drama, Fantasy, Historical, Shoujo\",\"Ecchi\",\"Comedy, Drama, Ecchi, Romance, Seinen\",\"Drama, Kids, School\",\"Drama, Harem, Romance\",\"Fantasy, Mystery, Romance, Shoujo\",\"Demons, Fantasy, Kids\",\"Harem, Romance\",\"Hentai, Magic, Romance, School\",\"Comedy, Ecchi, Mecha, Parody, Sci-Fi, Shounen, Super Power\",\"Fantasy, Historical\",\"Action, Adventure, Kids\",\"Action, Comedy, Sci-Fi, Super Power\",\"Sci-Fi, Slice of Life\",\"Drama, Kids, Magic\",\"Action, Martial Arts, Sci-Fi, Shounen, Space, Super Power\",\"Adventure, Cars, Kids\",\"Comedy, Seinen, Space\",\"Action, Demons, Horror\",\"Action, Demons, Martial Arts\",\"Adventure, Comedy, Ecchi, Sci-Fi, Shounen\",\"Magic, Mecha, Sci-Fi, Supernatural\",\"Action, Comedy, Magic, Mecha, Sci-Fi\",\"Action, Adventure, Drama, Sci-Fi, Shounen, Space\",\"Comedy, Ecchi, Fantasy, Romance, Shounen\",\"Action, Comedy, Historical, Music, Shoujo\",\"Comedy, Sci-Fi, Shounen, Sports\",\"Comedy, Drama, Romance, Sci-Fi\",\"Historical\",\"Comedy, Sci-Fi, Shounen, Shounen\",\"Cars, Kids, Shounen, Space, Sports\",\"Action, Drama, Hentai, Horror, Mystery, Police, Romance, Sci-Fi\",\"Action, Drama, Sci-Fi, Shoujo, Super Power\",\"Action, Drama, Fantasy, Sci-Fi, Space\",\"Action, Adventure, Demons, Fantasy, Horror, Shoujo, Supernatural\",\"Action, Adventure\",\"Action, Drama\",\"Comedy, Slice of Life\",\"Horror, Supernatural\",\"Horror, Thriller\",\"Hentai, Mecha\",\"Action, Military, Parody, Sci-Fi\",\"Drama\",\"Comedy, Ecchi, Supernatural\",\"Action, Comedy, Parody, Sci-Fi\",\"Comedy, Drama, Harem, Romance, Sci-Fi\",\"Drama, Romance\",\"Hentai, Music, Yuri\",\"Action, Comedy, Fantasy, Mecha, Romance, School, Sci-Fi\",\"Action, Comedy, Ecchi, Romance, School, Seinen, Supernatural\",\"Romance, Shounen Ai, Slice of Life, Sports\",\"Comedy, Sci-Fi, Super Power\",\"Action, Comedy, Ecchi, Harem, Shounen\",\"Comedy, Drama, Romance, Shoujo, Slice of Life\",\"Comedy, Ecchi, Shoujo Ai\",\"Drama, Shounen\",\"Historical, Shoujo\",\"Comedy, Fantasy, Parody\",\"Comedy, Sci-Fi, Slice of Life\",\"Adventure, Fantasy, Magic, School\",\"Action, Adventure, Ecchi, Mecha, Sci-Fi\",\"Action, Historical, Samurai, Super Power\",\"Action, Historical, Military, Super Power, Supernatural\",\"Comedy, Mecha\",\"Demons, Hentai, Supernatural\",\"Comedy, Mecha, Sci-Fi, Shounen\",\"Action, Historical, Seinen\",\"Historical, Horror, Supernatural\",\"School, Slice of Life\",\"Mystery, Sci-Fi, Thriller\",\"Adventure, Drama, Fantasy, Horror, Magic, Music, Sci-Fi, Supernatural\",\"Ecchi, Parody, Seinen\",\"Historical, Supernatural\",\"Historical, Samurai\",\"Action, Parody\",\"Action, Fantasy, Shounen\",\"Drama, Fantasy, Magic, Romance, Sci-Fi, Shoujo\",\"Comedy, Hentai, Parody, Romance\",\"Kids, Mystery, School, Supernatural\",\"Action, Martial Arts, Sci-Fi, Super Power\",\"Action, Adventure, Martial Arts, Samurai\",\"Action, Dementia, Horror, Music, Sci-Fi\",\"Demons, Fantasy, Hentai, Horror, Sci-Fi\",\"Fantasy, Hentai, Supernatural\",\"Adventure, Kids\",\"Fantasy, Magic, Music\",\"Fantasy, Sci-Fi, Seinen\",\"Historical, Kids, Slice of Life\",\"Music, Sci-Fi, Space\",\"Ecchi, Harem, Romance\",\"Comedy, Ecchi, Game\",\"Action, Adventure, Comedy, Fantasy, Kids, Parody, Sports\",\"Action, Adventure, Dementia, Historical, Military, Mystery, Shounen, Supernatural\",\"Comedy, Hentai, Magic, Romance\",\"Action, Horror, Mecha, Psychological, Sci-Fi\",\"Action, Comedy, Mecha\",\"Action, Adventure, Fantasy, Sci-Fi\",\"Action, Comedy, Ecchi\",\"Demons, Hentai, Horror, Supernatural\",\"Drama, Hentai, Psychological, School\",\"Historical, Romance, Shoujo, Supernatural\",\"Action, Comedy, Martial Arts, Mystery, Super Power, Supernatural\",\"Action, Music, Super Power\",\"Adventure, Kids, Supernatural\",\"Fantasy, Horror, Supernatural\",\"Action, Adventure, Drama, Sci-Fi\",\"Action, Mecha\",\"Action, Comedy, Fantasy, Mecha, Parody\",\"Adventure, Fantasy, Magic, Shoujo\",\"Action, Drama, Fantasy, Shoujo, Supernatural\",\"Comedy, Kids, Slice of Life\",\"Fantasy, Kids\",\"Drama, Fantasy, Music, Slice of Life\",\"Psychological, Romance, Supernatural\",\"Comedy, Sports\",\"Romance, School, Shounen Ai\",\"Comedy, Ecchi\",\"Comedy, Magic, School, Sci-Fi, Shoujo, Super Power\",\"Adventure, Psychological, Sci-Fi\",\"Adventure, Comedy, Ecchi, Fantasy, Magic\",\"Comedy, Mecha, Parody\",\"Action, Adventure, Military, Sci-Fi\",\"Comedy, Slice of Life, Supernatural\",\"Comedy, Seinen\",\"Action, Historical, Sci-Fi, Shounen\",\"Action, Martial Arts, Romance, School, Shounen\",\"Comedy, Kids, Magic, School\",\"Action, Adventure, Drama, Romance, Sci-Fi\",\"Action, Adventure, Comedy, Ecchi\",\"Action, Drama, Police, Seinen\",\"Adventure, Comedy, Drama, Mecha, Military, Sci-Fi, Space\",\"Comedy, School, Seinen, Sports\",\"Sci-Fi\",\"Fantasy, Hentai, Romance\",\"Drama, Ecchi, Romance\",\"Drama, Supernatural, Thriller\",\"Action, Adventure, Comedy, Military, Music, Shounen\",\"Action, Mecha, Sci-Fi, Space\",\"Music, Sci-Fi\",\"Mecha, Sci-Fi\",\"Fantasy, Kids, Magic\",\"Action, Adventure, Comedy, Mecha\",\"Adventure, Comedy, Ecchi, Romance, Sci-Fi\",\"Action, Demons, Music\",\"Drama, Mecha, Military, Romance, Sci-Fi, Slice of Life\",\"Action, Adventure, Comedy, Drama, Romance, Sci-Fi, Space\",\"Adventure, Fantasy, Magic, Mecha, Music, Romance, Sci-Fi, Super Power, Supernatural\",\"Game, School\",\"Drama, Fantasy, Psychological\",\"Adventure, Fantasy, Historical\",\"Action, Romance, Sci-Fi\",\"Game\",\"School, Shoujo\",\"Action, Sci-Fi\",\"Action, Adventure, Mecha\",\"Adventure, Fantasy, Music, Romance\",\"Action, Comedy, Ecchi, Fantasy, Harem, Magic, Romance\",\"Action, Comedy, Seinen\",\"Comedy, Horror, Kids, Shounen\",\"Demons, Historical, Horror, Sci-Fi, Shounen, Space, Supernatural\",\"Comedy, Drama, Police, Romance\",\"Action, Adventure, Sci-Fi, Shounen\",\"Action, Sci-Fi, Shoujo\",\"Action, Drama, Military\",\"Adventure, Kids, Mecha, Sci-Fi, Shounen\",\"Demons, Drama, Fantasy, Horror, Magic, Mystery, Psychological, Shoujo, Supernatural\",\"Adventure, Martial Arts, Super Power\",\"Action, Police, Sci-Fi\",\"Adventure, Historical, Romance\",\"Demons, Hentai\",\"Drama, Horror, Sci-Fi\",\"Adventure, Fantasy, Shoujo\",\"Action, Comedy\",\"Music, Vampire\",\"Adventure, Fantasy, Historical, Kids, Sci-Fi\",\"Action, Comedy, Ecchi, Fantasy, Magic, Romance, Sci-Fi, Shounen\",\"Action, Demons, Drama, Horror, Sci-Fi, Shoujo, Supernatural\",\"Fantasy, Kids, School, Slice of Life\",\"Action, Music\",\"Action, Drama, Super Power\",\"Comedy, Game, Kids\",\"Adventure, Comedy, Ecchi, Military, Romance, Sci-Fi, Space\",\"Demons, Hentai, Horror, Super Power, Supernatural\",\"Drama, Historical, Military, Romance, Shoujo Ai, Slice of Life\",\"Hentai, School, Sports\",\"Comedy, Ecchi, Fantasy, Parody\",\"Drama, Harem, Hentai, Romance\",\"Drama, Ecchi, Harem, Historical, Mecha, Supernatural\",\"Romance, Seinen\",\"Demons, Hentai, Martial Arts, Yuri\",\"Drama, Hentai, Yaoi\",\"Adventure, Demons, Fantasy, Hentai, Horror\",\"Adventure, Dementia, Kids\",\"Comedy, Ecchi, Magic, Romance, School\",\"Sports\",\"Romance\",\"Fantasy, Kids, Sports\",\"Action, Drama, Police\",\"Action, Adventure, Ecchi, Fantasy, Parody, Shounen\",\"Action, Demons, Historical, Martial Arts, Samurai\",\"Harem, School, Shoujo, Vampire\",\"Comedy, Ecchi, Fantasy, Shoujo Ai, Yuri\",\"Drama, Game\",\"Kids, School\",\"Historical, Kids, Samurai\",\"Drama, Kids, Sports\",\"Action, Comedy, Romance, School, Shounen\",\"Comedy, Historical, Shounen\",\"Action, Comedy, Parody, Police\",\"Comedy, Kids, Martial Arts, Slice of Life\",\"Kids, Magic\",\"Comedy, Ecchi, Parody, School\",\"Historical, Military\",\"Fantasy, Game, Horror, Mystery, Parody, Psychological\",\"Adventure, Comedy, Music\",\"Action, Dementia, Parody\",\"Action, Sci-Fi, Space\",\"Fantasy\",\"Seinen\",\"Comedy, Historical, Kids\",\"Action, Kids, Sci-Fi, Shounen\",\"Adventure, Comedy, Harem, Hentai\",\"Comedy, Fantasy, Historical, Slice of Life\",\"Drama, Psychological\",\"Action, Adventure, Comedy, Ecchi, Fantasy, Romance, Sci-Fi, Space\",\"Comedy, Seinen, Sports\",\"Action, Comedy, Ecchi, Military, Romance, Sci-Fi\",\"Comedy, Mecha, Parody, Sci-Fi\",\"Fantasy, Historical, Romance, Shoujo\",\"Comedy, Parody, Super Power\",\"Comedy, Fantasy\",\"Fantasy, Magic, Music, Romance, School, Sci-Fi, Shoujo\",\"Action, Martial Arts, Seinen, Super Power\",\"Adventure, Drama, Historical, Music\",\"Fantasy, Kids, Slice of Life\",\"Historical, Music\",\"Action, Sci-Fi, Shounen\",\"Action, Comedy, Fantasy, Hentai, Horror, Mecha, Romance, Supernatural\",\"Action, Magic\",\"Action, Adventure, Kids, Mecha, Sci-Fi, Space\",\"Action, Dementia, Drama, Horror, Martial Arts, Psychological, Seinen\",\"Action, Mecha, Romance\",\"Music, Psychological\",\"Mecha, Parody, Slice of Life\",\"Harem\",\"Horror, Psychological, Sci-Fi\",\"Hentai, Yuri\",\"Action, Adventure, Psychological, Sci-Fi\",\"Action, Supernatural, Thriller\",\"Action, Ecchi, Sports\",\"Action, Martial Arts\",\"Comedy, Ecchi, Romance, Seinen\",\"Comedy, Shoujo\",\"Action, Adventure, Comedy\",\"Drama, Hentai, Romance\",\"Action, Adventure, Comedy, Fantasy, Game\",\"Action, Comedy, Magic, Parody, Sci-Fi\",\"Drama, Sci-Fi, Seinen\",\"Romance, Sci-Fi\",\"Action, Demons\",\"Hentai, Vampire\",\"Action, Comedy, Magic, School, Shoujo\",\"Adventure, Fantasy, Hentai, Romance\",\"Comedy, Drama, Mystery, Romance, School, Slice of Life\",\"Adventure, Martial Arts, School, Shoujo\",\"Action, Adventure, Mystery, Sci-Fi, Shounen, Supernatural\",\"Action, Demons, Fantasy, Sci-Fi\",\"Dementia, Mystery, Supernatural\",\"Action, Adventure, Kids, Mecha\",\"Comedy, Psychological\",\"Comedy, Ecchi, Military, Seinen, Slice of Life\",\"Action, Adventure, Kids, Sci-Fi\",\"Adventure, Fantasy, Horror, Magic, Supernatural\",\"Action, Adventure, Fantasy, Hentai\",\"Seinen, Slice of Life\",\"Magic, Parody\",\"Action, Martial Arts, School, Super Power\",\"Historical, Parody\",\"Action, Mecha, Parody\",\"Action, Demons, Hentai, Magic, Supernatural\",\"Music, Romance\",\"School, Sports\",\"Kids, Slice of Life\",\"Kids, Sci-Fi\",\"Fantasy, Mecha, Sci-Fi\",\"Mecha, Space\",\"Action, Hentai, Martial Arts\",\"Comedy, Parody, School, Seinen\",\"Action, Adventure, Drama, Fantasy, Magic\",\"Comedy, Ecchi, Romance, School, Sci-Fi, Seinen\",\"Magic\",\"Drama, Parody, Shoujo\",\"Adventure, Mecha\",\"Hentai, Romance, School, Sports\",\"Dementia, Horror, Psychological\",\"Fantasy, Historical, Supernatural\",\"Action, Kids, Martial Arts\",\"Adventure, Drama, Police\",\"Action, Comedy, Mecha, School\",\"Action, Kids\",\"Adventure, Fantasy, Hentai, Magic\",\"Comedy\",\"Shoujo\",\"Action, Sci-Fi, Sports\",\"Horror, School, Supernatural\",\"Comedy, Game, Kids, Shounen\",\"Ecchi, Seinen, Yuri\",\"Action, School\",\"Adventure, Comedy, Magic, Sci-Fi, Shounen\",\"Hentai, Horror, Military, Sci-Fi, Supernatural\",\"Comedy, Kids\",\"Action, Comedy, Mecha, Parody, Sci-Fi\",\"Game, Kids\",\"Action, Hentai, Sci-Fi, Space\",\"Fantasy, Harem, Historical, Romance, Shoujo\",\"Ecchi, Yuri\",\"Dementia, Drama\",\"Comedy, Mecha, Romance\",\"Drama, Hentai, Romance, Sci-Fi\",\"Action, Horror, Martial Arts, Super Power, Supernatural\",\"Hentai, Police\",\"Action, Magic, Shounen\",\"Martial Arts, School, Shounen, Sports\",\"Action, Mecha, Parody, Sci-Fi\",\"Comedy, Music\",\"Action, Ecchi, Martial Arts, Shounen, Super Power\",\"Action, Drama, Samurai\",\"Action, Fantasy, Martial Arts\",\"Action\",\"Fantasy, Horror\",\"Demons, Historical, Kids\",\"Adventure, Demons, Drama, Sci-Fi, Shounen, Supernatural, Thriller\",\"Adventure, Comedy, Ecchi, Mecha, Sci-Fi, Space\",\"Fantasy, Kids, Psychological, Slice of Life\",\"Action, Adventure, Fantasy, Historical, Sci-Fi, Supernatural\",\"Comedy, Fantasy, Kids\",\"Mecha, Sci-Fi, Space\",\"Adventure, Comedy, Fantasy, Mecha\",\"Action, Sci-Fi, Shounen, Space, Super Power, Supernatural\",\"Action, Mecha, Parody, Sci-Fi, Super Power\",\"Drama, Horror, Mystery, Psychological\",\"Action, Comedy, Ecchi, Magic, Romance\",\"Magic, Music\",\"Fantasy, Music, Sci-Fi\",\"Comedy, Hentai, Yuri\",\"Comedy, Kids, Super Power\",\"Demons, Fantasy, Horror, Supernatural\",\"Magic, Mystery, School\",\"Action, Shounen, Super Power\",\"Ecchi, Harem, School\",\"Action, Comedy, Kids, Sci-Fi\",\"Fantasy, Horror, Magic\",\"Comedy, Magic, Shounen\",\"Music, Slice of Life\",\"Action, Comedy, Ecchi, Magic, School\",\"Adventure, Comedy, Josei\",\"Adventure, Comedy, Martial Arts, Sci-Fi, Super Power\",\"Fantasy, Horror, Mystery\",\"Music\",\"Adventure, Comedy, Fantasy, Kids, Slice of Life\",\"Kids, Police\",\"Action, Kids, Mystery\",\"Action, Adventure, Horror, Military\",\"Military, Sci-Fi\",\"Hentai, Historical\",\"Adventure, Comedy, Kids, Space\",\"Drama, Kids, Super Power\",\"Hentai, Horror\",\"Slice of Life\",\"Adventure, Drama, Horror, Military, Mystery, Psychological, Sci-Fi, Shounen, Supernatural\",\"Adventure, Comedy, Martial Arts, Mecha\",\"Martial Arts, Super Power\",\"Demons, Kids\",\"Action, Adventure, Historical, Sci-Fi, Shounen\",\"Fantasy, Sports\",\"Action, Fantasy, Historical, Magic\",\"Adventure, Kids, Music\",\"Mystery, Shoujo\",\"Action, Adventure, Police, Shounen\",\"Drama, Music, Psychological, Romance, Slice of Life, Yaoi\",\"Action, Comedy, Game, Kids\",\"Action, Adventure, Comedy, School, Supernatural\",\"Action, Comedy, Hentai, Super Power\",\"Comedy, Harem, Hentai\",\"Drama, Music, Romance, Shoujo, Slice of Life\",\"Adventure, Fantasy, Kids, Magic\",\"Action, Sci-Fi, Shounen, Super Power\",\"Action, Drama, Mecha, Sci-Fi, Supernatural\",\"Comedy, Super Power\",\"Action, Drama, Military, Sci-Fi, Shoujo\",\"Mystery, Parody, Vampire\",\"Adventure, Comedy, Kids, Magic\",\"Action, Drama, Sci-Fi, Shounen\",\"Comedy, Fantasy, Kids, Supernatural, Vampire\",\"Action, Hentai, Historical, Mecha, Military\",\"Hentai, Mystery\",\"Action, Samurai, Sci-Fi\",\"Action, Comedy, Ecchi, Parody\",\"Hentai, Music\",\"Action, Fantasy, Mecha, Military, Sci-Fi, Space\",\"Fantasy, Hentai, Military\",\"Action, Comedy, Police, Seinen, Thriller\",\"Action, Mecha, Sci-Fi, Sports\",\"Drama, Seinen\",\"Slice of Life, Space\",\"Comedy, Historical, Sci-Fi\",\"Action, Ecchi, Martial Arts\",\"Demons, Fantasy\",\"Action, Adventure, Comedy, Ecchi, Magic\",\"Action, Military, Sci-Fi, Shoujo Ai, Yuri\",\"Romance, Shoujo, Sports\",\"Action, Comedy, Mecha, Parody, School, Sci-Fi\",\"Action, Fantasy, Magic\",\"Sci-Fi, Space\",\"Hentai, Sci-Fi\",\"Fantasy, Music\",\"Adventure, Fantasy, Kids, Mystery, Sci-Fi\",\"Action, Adventure, Drama, Historical, Samurai\",\"Action, Sci-Fi, Shounen, Supernatural\",\"Action, Comedy, Drama, Seinen\",\"Drama, Fantasy, Historical, Supernatural\",\"Comedy, Drama, Kids\",\"Comedy, Hentai, School\",\"Demons, Fantasy, Hentai, Horror\",\"Kids\",\"Hentai, Magic\",\"Adventure, Drama, Shoujo\",\"Action, Drama, Horror\",\"Yaoi\",\"Horror, Sci-Fi, Space\",\"Action, Kids, Super Power\",\"Action, Martial Arts, Samurai\",\"Comedy, Kids, Magic\",\"Comedy, Fantasy, Kids, Sci-Fi\",\"Game, Psychological, Seinen\",\"Drama, Samurai\",\"Adventure, Comedy, Magic, Sci-Fi\",\"Comedy, Historical, Mecha, Police, Slice of Life\",\"Music, Romance, School, Shoujo\",\"Dementia, Fantasy, Hentai, Horror\",\"Fantasy, Mystery, Sci-Fi, Space\",\"Action, Sports\",\"Adventure, Romance\",\"Adventure, Ecchi, Fantasy\",\"Drama, Romance, Shounen Ai\",\"Drama, Fantasy, Romance, Sci-Fi, Shoujo, Shounen Ai, Supernatural\",\"Comedy, Kids, School, Sci-Fi, Slice of Life\",\"Demons, Hentai, Horror\",\"Music, Parody\",\"Drama, Hentai, Mystery, Romance\",\"Comedy, School, Sci-Fi\",\"Drama, Historical, Music, Supernatural\",\"Drama, Fantasy, Mystery, Romance, School\",\"Hentai, Psychological\",\"Comedy, Demons\",\"Mecha, Parody, Sci-Fi, Space\",\"Action, Drama, School, Shounen\",\"Action, Comedy, Fantasy, Kids, Romance\",\"Adventure, Comedy, Fantasy, Kids, Super Power\",\"Action, Adventure, Drama, Historical, Mystery, Romance, Sci-Fi\",\"Comedy, Drama, Fantasy, Magic, Romance\",\"Action, Comedy, Kids\",\"Kids, Sports\",\"Adventure, Comedy, Fantasy, Historical, Kids, Magic, Sci-Fi, Space, Supernatural\",\"Adventure, Fantasy, Kids, Magic, Martial Arts\",\"Supernatural\",\"Cars\",\"Comedy, Magic, Slice of Life\",\"Action, Mecha, Mystery, Sci-Fi\",\"Mecha, Music, Sci-Fi\",\"Fantasy, Psychological\",\"Hentai, Space\",\"Adventure, Fantasy, Hentai\",\"Hentai, Horror, Yaoi\",\"Mecha\",\"Action, Adventure, Samurai, Shounen\",\"Hentai, Yaoi\",\"Comedy, Kids, Shoujo, Slice of Life\",\"Harem, School, Seinen\",\"Adventure, Ecchi, Mecha, Sci-Fi\",\"Hentai, Parody, Super Power\",\"Adventure, Drama, Space\",\"Fantasy, Military, School, Sci-Fi\",\"Action, Hentai, Mecha, Sci-Fi, Yaoi\",\"Action, Adventure, Mecha, Sci-Fi, Shounen, Space\",\"Action, Comedy, Historical, Samurai\",\"Adventure, Kids, Mystery\",\"Adventure, Music\",\"Comedy, Ecchi, Yuri\",\"Comedy, Fantasy, Music\",\"Comedy, Parody, Shounen, Super Power\",\"Adventure, Historical, Samurai, Shounen\",\"Comedy, Parody, Sci-Fi, Shounen, Super Power\",\"Shoujo, Supernatural\",\"Action, Mecha, Music, Parody, Sci-Fi\",\"Comedy, Ecchi, Fantasy, Parody, Yuri\",\"Action, Demons, Fantasy, Hentai\",\"Drama, Fantasy, Music\",\"Adventure, Historical, Kids\",\"Horror, Shoujo, Supernatural\",\"Adventure, Sci-Fi, Space\",\"Magic, Music, Shoujo\",\"Comedy, Horror, Romance, Sci-Fi\",\"Cars, Seinen\",\"Hentai, School, Sci-Fi\",\"Ecchi, Sports\",\"Action, Comedy, Police\",\"Action, Martial Arts, Romance, Shoujo\",\"Josei, Romance\",\"Shoujo, Vampire\",\"Action, Adventure, Comedy, Fantasy, Sci-Fi\",\"Action, Military\",\"Horror, Seinen, Supernatural\",\"Action, Ecchi, Harem, Magic\",\"Action, Mecha, Shounen\",\"Adventure, Military\",\"Hentai, Historical, Mystery\",\"Action, Comedy, Hentai\",\"Comedy, Ecchi, Magic, Romance\",\"Horror, Mecha, Sci-Fi\",\"Action, Adventure, Comedy, Sci-Fi, Super Power\",\"Cars, Kids, Police\",\"Comedy, Kids, Sci-Fi\",\"Mecha, Shounen\",\"Drama, Ecchi\",\"Ecchi, Romance\",\"Action, Drama, Military, Seinen\",\"Comedy, Historical, Military\",\"Comedy, Ecchi, Magic, Mecha, Parody\",\"Comedy, Parody, Sci-Fi, Space\",\"Hentai, Parody, Sci-Fi\",\"Dementia, Psychological\",\"Horror, Kids\",\"Adventure, Fantasy, Samurai\",\"Action, Adventure, Hentai, Horror, Sci-Fi\",\"Adventure, Demons, Drama, Fantasy, Horror, Mystery, Psychological, School, Supernatural\",\"Action, Seinen, Supernatural\",\"Adventure, Kids, Sci-Fi\",\"Action, Comedy, Ecchi, Parody, Shounen, Sports, Super Power\",\"Adventure, Drama, Horror, Sci-Fi, Shounen, Supernatural\",\"Action, Historical, Kids, Military\",\"Action, Hentai, Romance\",\"Comedy, Drama, Historical\",\"Kids, Slice of Life, Supernatural\",\"Dementia, Horror, Music\",\"Action, Samurai\",\"Horror, Psychological\",\"Drama, Shounen Ai\",\"Fantasy, Romance, Seinen\",\"Adventure, Drama, Kids, Supernatural\",\"Comedy, Ecchi, Parody, Seinen\",\"Fantasy, Kids, Music\",\"Comedy, Fantasy, Kids, Super Power\",\"Demons, Drama, Kids\",\"Music, Supernatural, Vampire\",\"Mecha, Sci-Fi, Supernatural\",\"Kids, Music, Slice of Life\",\"Romance, Slice of Life, Supernatural\",\"Comedy, Martial Arts, Parody\",\"Comedy, Drama, Horror, Psychological, Romance\",\"Unknown\",\"Adventure, Cars\",\"Horror, Music, Mystery, Psychological, Shoujo, Supernatural\",\"Action, Historical, Military\",\"Comedy, Kids, Music\",\"Action, Historical, Samurai, Supernatural\",\"Action, Cars\",\"Action, Magic, Martial Arts\",\"Kids, Sci-Fi, Space\",\"Adventure, Harem, Romance, Sci-Fi\",\"Parody, Shoujo, Sports\",\"Action, Comedy, Hentai, Mecha\",\"Comedy, Kids, Parody, Sci-Fi, Space, Super Power\",\"Dementia, Drama, Psychological, Romance, Shounen Ai\",\"Comedy, Ecchi, Romance, School, Seinen, Sports\",\"Action, Horror, Sci-Fi, Supernatural, Vampire, Yaoi\",\"Action, Martial Arts, Shoujo\",\"Horror\",\"Music, Samurai\",\"Hentai, Romance\",\"Action, Horror, Police, Sci-Fi, Shounen, Supernatural\",\"Comedy, Horror, Supernatural, Thriller\",\"Comedy, Magic, Sci-Fi\",\"Action, Military, Seinen\",\"Comedy, Ecchi, Mystery, School, Supernatural\",\"Adventure, Comedy, Military\",\"Kids, Supernatural\",\"Horror, Shounen\",\"Comedy, Parody, Sports\",\"Historical, Horror, Kids\",\"Action, Comedy, Parody, Super Power\",\"Action, Fantasy, Historical\",\"Comedy, Ecchi, Harem, Romance, Seinen\",\"Comedy, Hentai\",\"Action, Mecha, Sci-Fi, Shounen, Space\",\"Comedy, Fantasy, Kids, Music\",\"Comedy, Kids, Romance\",\"Comedy, Dementia, Horror, Seinen\",\"Action, Ecchi, Martial Arts, Sci-Fi, Shounen\",\"Drama, Mystery, Police\",\"Action, Hentai, Sci-Fi\",\"Action, Martial Arts, Shounen, Super Power\",\"Drama, Romance, Seinen\",\"Comedy, Fantasy, Historical\",\"Action, Adventure, Seinen, Thriller\",\"Adventure, Comedy, Kids, Slice of Life\",\"Historical, Kids, Military\",\"Demons, Horror, School\",\"Cars, Comedy, Parody, Shounen\",\"Cars, Romance, Sci-Fi\",\"Hentai, Sci-Fi, Space\",\"Action, Adventure, Kids, Mecha, Sci-Fi\",\"Action, Comedy, Ecchi, Yuri\",\"Kids, Music, School, Slice of Life\",\"Fantasy, Horror, Seinen, Vampire\",\"Comedy, Horror, Shounen, Sports\",\"Drama, School, Shounen, Slice of Life\",\"Dementia, Fantasy\",\"Adventure, Comedy, Kids, Music, Sci-Fi, Space\",\"Drama, Shounen Ai, Supernatural, Vampire\",\"Action, Adventure, Sci-Fi, Shounen, Space\",\"Action, Shoujo\",\"Action, Adventure, Comedy, Ecchi, Fantasy, Magic, Sci-Fi, Super Power\",\"Action, Comedy, Demons, Hentai, Martial Arts, School\",\"Parody, Psychological\",\"Action, Comedy, Drama, Mecha, Sci-Fi\",\"Action, Adventure, Comedy, Drama, Mecha, Sci-Fi, Shounen\",\"Adventure, Drama, Military\",\"Music, Space\",\"Sci-Fi, Super Power\",\"Action, Comedy, Hentai, Romance, Supernatural\",\"Psychological\",\"Drama, Sci-Fi, Vampire\",\"Comedy, Kids, Music, Sci-Fi, Space\",\"Action, Ecchi, Mecha, Psychological\",\"Kids, Music, Vampire\",\"Comedy, Ecchi, Magic, Parody\",\"Game, Shounen, Supernatural\",\"Comedy, Ecchi, Fantasy, Game\",\"Parody, Shoujo, Slice of Life\",\"Adventure, Comedy, Kids, Mecha\",\"Ecchi, Magic, Parody, Sci-Fi\",\"Action, Adventure, Comedy, Ecchi, Game, Parody, School\",\"Adventure, Comedy, Demons, Supernatural\",\"Kids, Music\",\"Action, Historical, Supernatural, Thriller\",\"Magic, Slice of Life, Supernatural\",\"Kids, Music, Sports\",\"Cars, Kids\",\"Action, Fantasy, Music, Seinen, Supernatural\",\"Music, Supernatural\",\"Comedy, Ecchi, Kids, Parody, Shounen\",\"Cars, Comedy\",\"Action, Comedy, Martial Arts, Shounen\",\"Samurai\",\"Fantasy, Music, Romance, School\",\"Action, Adventure, Martial Arts, Shounen\",\"Action, Historical, Military, Sci-Fi\",\"Historical, Kids, Music\",\"Action, Demons, Shoujo, Super Power\",\"Cars, Comedy, Kids\",\"Dementia, Game, Horror\",\"Action, Adventure, Historical, Shounen\",\"Comedy, Hentai, Parody\",\"Space\",\"Action, Demons, Music, Sci-Fi, Shounen\",\"Action, Comedy, Fantasy, Martial Arts, Super Power\",\"Action, Adventure, Demons, Kids, Super Power\",\"Psychological, Romance\",\"Comedy, Game, Space\",\"Comedy, Samurai\",\"Kids, Music, School, Sports\",\"Super Power, Supernatural, Vampire\",\"Dementia, Horror\",\"Adventure, Comedy, Kids, Music\",\"Dementia, Sci-Fi, Space\",\"Adventure, Demons, Military, Mystery\",\"Demons, Kids, School\",\"Adventure, Comedy, Space\",\"Cars, Music\",\"Action, Historical, Kids\",\"Fantasy, Mecha\",\"Dementia, Music\",\"Action, Adventure, Mecha, Sci-Fi, Shounen, Super Power\",\"Comedy, Horror\",\"Demons, Fantasy, Historical, Kids, Magic, Samurai, Supernatural\",\"Comedy, Game, Parody\",\"Kids, Music, Romance\",\"Action, Sci-Fi, Shounen, Space\",\"Dementia\",\"Comedy, Dementia, Military\",\"Comedy, Dementia\",\"Comedy, Kids, Parody, School\",\"Dementia, Psychological, Romance\",\"Comedy, Historical, Mecha, Parody, Sci-Fi\",\"Military\",\"Action, Adventure, Drama, Fantasy, Historical, Magic, Shounen\",\"Action, Demons, Ecchi, Horror, Mecha, Sci-Fi, Super Power\",\"Action, Ecchi\",\"Dementia, Music, Romance\",\"Military, Music\",\"Historical, School, Shoujo\",\"Drama, Historical, Samurai\",\"Adventure, Comedy, Parody, Space\",\"Action, Demons, Shounen\",\"Demons, Horror, Kids\",\"Action, Demons, Historical, Supernatural\",\"Demons, Fantasy, Horror, Mystery, Psychological, Supernatural\",\"Hentai, Sports\",\"Adventure, Cars, Fantasy, Supernatural\",\"Action, Hentai\",\"Historical, Horror\",\"Historical, Sci-Fi\",\"Action, Adventure, Fantasy, Military, Romance\",\"Horror, Psychological, Supernatural, Thriller\",\"Vampire\",\"Music, Super Power\",\"Kids, Music, School\",\"Demons\",\"Demons, Drama\",\"Comedy, Parody, Police, Slice of Life\",\"Action, Adventure, Mecha, Shounen\",\"Action, Adventure, Kids, Sci-Fi, Space\",\"Action, Comedy, Kids, Parody, Super Power\",\"Horror, Sci-Fi\",\"Kids, Mystery\",\"Action, Demons, Horror, Super Power, Supernatural\",\"Comedy, Hentai, Historical\",\"Action, Adventure, Demons, Fantasy, Magic\",\"Comedy, Ecchi, Shoujo Ai, Shounen\",\"Action, Game, Martial Arts, School\",\"Fantasy, Horror, Psychological\",\"Comedy, Dementia, Music\",\"Horror, Parody, Supernatural, Thriller\",\"Action, Comedy, Fantasy, Historical, Martial Arts\",\"Comedy, Mystery, Supernatural, Vampire\",\"Hentai, Slice of Life\",\"Action, Mecha, Shounen, Space\",\"Action, Adventure, Demons, Fantasy, Shounen\",\"Action, Adventure, Space\",\"Adventure, Kids, Space\",\"Comedy, Kids, Sci-Fi, Space\",\"Action, Demons, Seinen, Super Power\",\"Kids, Mecha\",\"Action, Adventure, Sci-Fi, Space, Super Power\",\"Dementia, Kids\",\"Comedy, Dementia, Fantasy, Horror, Music, Parody\"],\"xaxis\":\"x\",\"y\":[9.26,9.06,9.05,8.98,8.93,8.92,8.83,8.83,8.817777777777778,8.81,8.8,8.77,8.735,8.73,8.72,8.68,8.67,8.65,8.65,8.645,8.64,8.64,8.61,8.6,8.59,8.59,8.58,8.57,8.55,8.54,8.53,8.53,8.53,8.51,8.5,8.5,8.49,8.49,8.48,8.47857142857143,8.47,8.47,8.47,8.46,8.46,8.45,8.45,8.44,8.44,8.43,8.42,8.415,8.41,8.41,8.405000000000001,8.4,8.4,8.4,8.39,8.39,8.39,8.38,8.38,8.37,8.37,8.37,8.35,8.34,8.33,8.32,8.32,8.32,8.315000000000001,8.3,8.295,8.29,8.29,8.28,8.275,8.27,8.27,8.26,8.243333333333334,8.24,8.23,8.23,8.23,8.23,8.23,8.23,8.22,8.213333333333333,8.21,8.21,8.205,8.2,8.19,8.19,8.186,8.184999999999999,8.18,8.18,8.18,8.176666666666668,8.175,8.17,8.17,8.17,8.17,8.165,8.16,8.16,8.16,8.16,8.16,8.1575,8.155000000000001,8.15,8.15,8.15,8.15,8.146,8.14,8.14,8.13,8.13,8.13,8.13,8.129999999999999,8.12,8.1175,8.11,8.1,8.09,8.09,8.09,8.09,8.089285714285714,8.08,8.08,8.08,8.08,8.08,8.08,8.07,8.07,8.065000000000001,8.06,8.06,8.06,8.06,8.055,8.05,8.05,8.05,8.04,8.04,8.04,8.04,8.04,8.033333333333333,8.03,8.03,8.03,8.03,8.03,8.026,8.025,8.02,8.02,8.015,8.015,8.01,8.01,8.005,8.003333333333332,8.0,8.0,8.0,8.0,8.0,8.0,8.0,7.995,7.993333333333333,7.99,7.99,7.99,7.989999999999999,7.986666666666667,7.985,7.984285714285714,7.98,7.97,7.97,7.97,7.97,7.97,7.97,7.97,7.97,7.97,7.963333333333334,7.96,7.96,7.96,7.96,7.95,7.95,7.95,7.947999999999999,7.946666666666666,7.946666666666666,7.945,7.945,7.935,7.93,7.93,7.93,7.93,7.93,7.93,7.9275,7.92,7.92,7.92,7.92,7.918333333333333,7.915,7.91,7.91,7.91,7.91,7.904999999999999,7.9,7.9,7.9,7.9,7.895,7.895,7.8933333333333335,7.890000000000001,7.890000000000001,7.89,7.89,7.89,7.89,7.88,7.88,7.88,7.88,7.88,7.88,7.88,7.88,7.8790000000000004,7.873333333333334,7.87,7.87,7.87,7.87,7.87,7.87,7.87,7.87,7.863333333333333,7.86,7.86,7.86,7.856,7.8525,7.85,7.85,7.85,7.85,7.85,7.85,7.845000000000001,7.84,7.84,7.84,7.84,7.834999999999999,7.83,7.826666666666667,7.825,7.82,7.82,7.82,7.82,7.82,7.819999999999999,7.8149999999999995,7.81,7.81,7.81,7.81,7.81,7.806,7.805,7.802,7.8,7.8,7.8,7.8,7.8,7.8,7.8,7.8,7.795,7.795,7.79,7.79,7.79,7.79,7.79,7.79,7.79,7.79,7.79,7.786666666666666,7.786,7.78,7.78,7.78,7.78,7.78,7.779999999999999,7.7787500000000005,7.775,7.77,7.77,7.77,7.77,7.77,7.77,7.766,7.76,7.76,7.76,7.76,7.76,7.756666666666667,7.755,7.75,7.75,7.75,7.75,7.75,7.75,7.75,7.75,7.75,7.746666666666667,7.745000000000001,7.743333333333333,7.74,7.74,7.74,7.74,7.74,7.74,7.74,7.736666666666667,7.736666666666667,7.736666666666667,7.73,7.73,7.73,7.73,7.72,7.72,7.72,7.72,7.72,7.715,7.715,7.713333333333334,7.71,7.71,7.71,7.71,7.71,7.71,7.71,7.703333333333333,7.7010000000000005,7.7,7.7,7.7,7.7,7.7,7.7,7.7,7.69,7.69,7.69,7.69,7.69,7.69,7.6875,7.683333333333333,7.68,7.68,7.68,7.68,7.68,7.68,7.68,7.68,7.673333333333333,7.67,7.67,7.67,7.67,7.67,7.67,7.67,7.67,7.665,7.663333333333334,7.660714285714286,7.66,7.66,7.66,7.66,7.655,7.65,7.65,7.65,7.65,7.65,7.65,7.6499999999999995,7.645,7.64,7.64,7.64,7.64,7.64,7.64,7.64,7.638333333333333,7.6375,7.63,7.63,7.63,7.622222222222222,7.62,7.62,7.62,7.62,7.62,7.62,7.62,7.62,7.62,7.62,7.615,7.615,7.61,7.61,7.61,7.61,7.61,7.61,7.61,7.61,7.609999999999999,7.6066666666666665,7.605,7.604444444444444,7.601999999999999,7.6,7.6,7.6,7.6,7.6,7.6,7.6,7.59,7.59,7.59,7.59,7.59,7.59,7.59,7.583333333333333,7.58,7.58,7.58,7.58,7.57625,7.574999999999999,7.574999999999999,7.574,7.57,7.57,7.57,7.57,7.57,7.57,7.57,7.57,7.566666666666666,7.5600000000000005,7.5600000000000005,7.56,7.56,7.56,7.56,7.56,7.56,7.56,7.56,7.56,7.558,7.551428571428572,7.550000000000001,7.55,7.55,7.55,7.55,7.55,7.55,7.55,7.55,7.55,7.55,7.545,7.54,7.54,7.54,7.54,7.54,7.54,7.54,7.54,7.54,7.54,7.536,7.535,7.53,7.53,7.53,7.53,7.529999999999999,7.5275,7.525,7.521599999999999,7.52,7.52,7.52,7.52,7.52,7.52,7.52,7.52,7.52,7.516666666666667,7.516666666666667,7.515000000000001,7.510000000000001,7.51,7.51,7.51,7.5075,7.505,7.5,7.5,7.5,7.5,7.5,7.5,7.5,7.5,7.5,7.495,7.494,7.49,7.49,7.49,7.49,7.49,7.49,7.49,7.486666666666667,7.484999999999999,7.48,7.48,7.48,7.48,7.48,7.48,7.48,7.4799999999999995,7.47,7.47,7.47,7.47,7.47,7.47,7.47,7.47,7.47,7.466666666666666,7.465,7.465,7.460000000000001,7.46,7.46,7.46,7.46,7.46,7.46,7.46,7.46,7.46,7.46,7.46,7.456666666666667,7.455,7.455,7.45,7.45,7.45,7.45,7.45,7.45,7.45,7.45,7.45,7.45,7.45,7.45,7.45,7.44,7.44,7.44,7.44,7.44,7.44,7.44,7.44,7.438,7.4350000000000005,7.435,7.4325,7.4319999999999995,7.43,7.43,7.43,7.43,7.43,7.43,7.43,7.43,7.43,7.43,7.43,7.43,7.43,7.43,7.4275,7.427142857142857,7.423333333333333,7.42,7.42,7.42,7.42,7.42,7.42,7.42,7.42,7.42,7.42,7.42,7.419999999999999,7.416666666666667,7.415625,7.415,7.415,7.415,7.415,7.41,7.41,7.41,7.41,7.41,7.407500000000001,7.405,7.404999999999999,7.4,7.4,7.4,7.4,7.4,7.4,7.4,7.4,7.4,7.4,7.3933333333333335,7.39,7.39,7.39,7.39,7.39,7.39,7.39,7.39,7.39,7.39,7.39,7.39,7.39,7.39,7.386666666666667,7.385,7.385,7.384285714285714,7.382000000000001,7.382,7.38,7.38,7.38,7.38,7.38,7.38,7.38,7.38,7.38,7.375,7.37,7.37,7.37,7.37,7.37,7.37,7.3675,7.365,7.365,7.364,7.363333333333333,7.363333333333333,7.36,7.36,7.36,7.36,7.36,7.36,7.36,7.36,7.36,7.36,7.36,7.357142857142857,7.355,7.355,7.35,7.35,7.35,7.35,7.35,7.35,7.35,7.345,7.343333333333334,7.342307692307693,7.34111111111111,7.34,7.34,7.34,7.34,7.34,7.34,7.34,7.34,7.34,7.34,7.3375,7.336666666666667,7.335,7.333333333333333,7.3325,7.33,7.33,7.33,7.33,7.33,7.33,7.33,7.33,7.33,7.33,7.33,7.327500000000001,7.324999999999999,7.324000000000001,7.323333333333333,7.323333333333333,7.32,7.32,7.32,7.32,7.32,7.32,7.32,7.32,7.32,7.32,7.32,7.32,7.316666666666666,7.316666666666666,7.3149999999999995,7.313333333333333,7.3116666666666665,7.3100000000000005,7.3100000000000005,7.31,7.31,7.31,7.31,7.31,7.31,7.31,7.305,7.305,7.301666666666667,7.300000000000001,7.3,7.3,7.3,7.3,7.3,7.3,7.3,7.3,7.3,7.3,7.295555555555556,7.295,7.295,7.293333333333333,7.29,7.29,7.29,7.29,7.29,7.29,7.286666666666666,7.285,7.285,7.283333333333334,7.281428571428571,7.28,7.28,7.28,7.28,7.28,7.28,7.28,7.28,7.28,7.28,7.28,7.279999999999999,7.279473684210527,7.2700000000000005,7.27,7.27,7.27,7.27,7.27,7.27,7.27,7.27,7.27,7.27,7.27,7.27,7.27,7.27,7.27,7.27,7.266,7.26,7.26,7.26,7.26,7.26,7.26,7.26,7.26,7.26,7.26,7.26,7.256666666666667,7.255,7.25,7.25,7.25,7.25,7.25,7.25,7.25,7.25,7.25,7.25,7.25,7.25,7.246666666666666,7.246,7.245,7.243333333333333,7.241666666666666,7.24,7.24,7.24,7.24,7.24,7.24,7.24,7.24,7.24,7.24,7.24,7.24,7.233333333333333,7.23,7.23,7.23,7.23,7.225,7.22125,7.220000000000001,7.220000000000001,7.22,7.22,7.22,7.22,7.22,7.22,7.22,7.22,7.22,7.22,7.215,7.215,7.214,7.213333333333334,7.2128571428571435,7.21,7.21,7.21,7.21,7.21,7.21,7.21,7.21,7.21,7.21,7.21,7.21,7.21,7.21,7.21,7.21,7.209090909090909,7.2075,7.205,7.203333333333333,7.2,7.2,7.2,7.2,7.2,7.2,7.2,7.2,7.2,7.196666666666666,7.195,7.195,7.194,7.192,7.19,7.19,7.19,7.19,7.19,7.19,7.19,7.19,7.19,7.19,7.189333333333334,7.186666666666667,7.186,7.1850000000000005,7.1850000000000005,7.1850000000000005,7.184285714285714,7.18,7.18,7.18,7.18,7.18,7.18,7.18,7.18,7.18,7.18,7.18,7.18,7.176842105263159,7.176666666666667,7.176666666666667,7.175,7.175,7.174285714285714,7.174117647058823,7.172,7.171428571428572,7.171428571428572,7.17,7.17,7.17,7.17,7.17,7.17,7.17,7.17,7.17,7.17,7.17,7.17,7.17,7.17,7.168000000000001,7.165,7.165,7.163333333333334,7.163333333333334,7.163333333333334,7.162000000000001,7.162000000000001,7.16,7.16,7.16,7.16,7.16,7.16,7.16,7.16,7.16,7.16,7.16,7.16,7.16,7.16,7.16,7.16,7.16,7.16,7.16,7.155,7.154999999999999,7.153333333333333,7.153333333333333,7.1525,7.151666666666666,7.15125,7.15,7.15,7.15,7.15,7.15,7.15,7.15,7.15,7.15,7.15,7.15,7.15,7.15,7.15,7.15,7.15,7.15,7.1499999999999995,7.1450000000000005,7.145,7.1433333333333335,7.1414285714285715,7.140000000000001,7.140000000000001,7.140000000000001,7.14,7.14,7.14,7.14,7.14,7.14,7.14,7.14,7.14,7.135,7.132857142857143,7.13,7.13,7.13,7.13,7.13,7.13,7.126,7.125,7.124153846153846,7.123333333333334,7.121666666666666,7.12,7.12,7.12,7.12,7.12,7.12,7.12,7.12,7.12,7.12,7.12,7.12,7.119999999999999,7.115,7.115,7.112,7.11,7.11,7.11,7.11,7.11,7.11,7.11,7.11,7.11,7.109999999999999,7.109999999999999,7.1066666666666665,7.103333333333333,7.1000000000000005,7.1000000000000005,7.1,7.1,7.1,7.1,7.1,7.1,7.1,7.1,7.1,7.1,7.098181818181818,7.09,7.09,7.09,7.09,7.09,7.09,7.09,7.09,7.09,7.09,7.09,7.087999999999999,7.086666666666667,7.083333333333333,7.083333333333333,7.0825,7.081428571428572,7.080000000000001,7.08,7.08,7.08,7.08,7.08,7.08,7.08,7.08,7.08,7.08,7.08,7.08,7.08,7.08,7.075555555555556,7.075,7.073333333333333,7.0725,7.07,7.07,7.07,7.07,7.07,7.0675,7.066666666666666,7.065714285714286,7.0649999999999995,7.0636363636363635,7.0633333333333335,7.0609090909090915,7.0600000000000005,7.0600000000000005,7.0600000000000005,7.06,7.06,7.06,7.06,7.06,7.06,7.06,7.06,7.06,7.06,7.06,7.06,7.06,7.055,7.055,7.054285714285714,7.053333333333334,7.050000000000001,7.05,7.05,7.05,7.05,7.05,7.05,7.05,7.05,7.05,7.05,7.05,7.05,7.05,7.047333333333333,7.046666666666667,7.045,7.045,7.045,7.045,7.045,7.045,7.044444444444444,7.044,7.043333333333333,7.041363636363636,7.04,7.04,7.04,7.04,7.04,7.04,7.04,7.04,7.04,7.04,7.038571428571428,7.036111111111111,7.031666666666666,7.03,7.03,7.03,7.03,7.03,7.03,7.03,7.03,7.03,7.03,7.03,7.029230769230769,7.025,7.025,7.025,7.02,7.02,7.02,7.02,7.02,7.02,7.02,7.02,7.02,7.02,7.02,7.02,7.02,7.02,7.02,7.01875,7.0175,7.016666666666667,7.015,7.015,7.014285714285714,7.01,7.01,7.01,7.01,7.01,7.01,7.01,7.01,7.01,7.006111111111111,7.005833333333334,7.003333333333333,7.003157894736842,7.001666666666666,7.0,7.0,7.0,7.0,7.0,7.0,7.0,7.0,7.0,7.0,7.0,7.0,7.0,7.0,6.9975000000000005,6.996666666666667,6.993333333333333,6.992777777777778,6.990526315789474,6.99,6.99,6.99,6.99,6.99,6.99,6.989999999999999,6.988333333333333,6.987857142857143,6.985714285714286,6.984999999999999,6.98,6.98,6.98,6.98,6.98,6.98,6.98,6.977499999999999,6.976666666666667,6.975,6.970000000000001,6.97,6.97,6.97,6.97,6.97,6.97,6.97,6.97,6.97,6.967142857142858,6.965,6.965,6.96,6.96,6.96,6.96,6.96,6.96,6.96,6.96,6.957142857142857,6.956666666666667,6.9557142857142855,6.955,6.955,6.95,6.95,6.95,6.95,6.95,6.95,6.95,6.95,6.95,6.95,6.946000000000001,6.946,6.945,6.945,6.945,6.943181818181818,6.94,6.94,6.94,6.94,6.94,6.9383333333333335,6.9366666666666665,6.9350000000000005,6.9350000000000005,6.933333333333334,6.932857142857143,6.93,6.93,6.93,6.93,6.93,6.93,6.93,6.93,6.93,6.928,6.927777777777778,6.925,6.925,6.925,6.923333333333333,6.923333333333333,6.9225,6.9225,6.920000000000001,6.92,6.92,6.92,6.92,6.92,6.92,6.92,6.92,6.914999999999999,6.913333333333334,6.91,6.91,6.91,6.91,6.91,6.91,6.91,6.91,6.91,6.91,6.91,6.91,6.91,6.905,6.905,6.905,6.904999999999999,6.904999999999999,6.9,6.9,6.9,6.9,6.9,6.9,6.9,6.8999999999999995,6.8963636363636365,6.895,6.895,6.895,6.8933333333333335,6.8933333333333335,6.8925,6.8911475409836065,6.890487804878049,6.890000000000001,6.890000000000001,6.89,6.89,6.89,6.89,6.89,6.89,6.89,6.89,6.89,6.8875,6.886666666666667,6.885,6.885,6.88,6.88,6.88,6.88,6.88,6.88,6.88,6.88,6.88,6.88,6.88,6.88,6.878333333333333,6.8774999999999995,6.875,6.875,6.871666666666666,6.87,6.87,6.87,6.87,6.87,6.87,6.865,6.865,6.864999999999999,6.86,6.86,6.86,6.86,6.86,6.86,6.859999999999999,6.855,6.855,6.855,6.853333333333334,6.8530303030303035,6.85,6.85,6.85,6.85,6.85,6.85,6.85,6.85,6.848181818181818,6.845000000000001,6.843333333333334,6.8425,6.8425,6.841428571428572,6.840000000000001,6.84,6.84,6.84,6.84,6.84,6.836666666666666,6.836666666666666,6.835714285714286,6.835,6.83,6.83,6.83,6.83,6.83,6.827500000000001,6.8275,6.824999999999999,6.824,6.823333333333333,6.822857142857143,6.82,6.82,6.82,6.82,6.82,6.82,6.82,6.82,6.82,6.82,6.82,6.82,6.817142857142857,6.815,6.8116666666666665,6.8109090909090915,6.8100000000000005,6.81,6.81,6.81,6.81,6.81,6.81,6.81,6.81,6.81,6.81,6.81,6.81,6.81,6.81,6.8075,6.8066666666666675,6.8066666666666675,6.805,6.805,6.805,6.805,6.800000000000001,6.800000000000001,6.8,6.8,6.8,6.8,6.8,6.8,6.8,6.8,6.8,6.8,6.798571428571429,6.7984375,6.796666666666667,6.796666666666667,6.796666666666667,6.795,6.795,6.795,6.795,6.795,6.7942857142857145,6.792142857142857,6.791666666666667,6.79,6.79,6.79,6.79,6.79,6.79,6.79,6.79,6.79,6.79,6.79,6.7875,6.7875,6.785,6.785,6.785,6.78,6.78,6.78,6.78,6.78,6.78,6.78,6.78,6.78,6.78,6.78,6.78,6.78,6.78,6.779999999999999,6.77,6.77,6.77,6.77,6.77,6.77,6.77,6.77,6.77,6.77,6.765000000000001,6.763333333333333,6.760000000000001,6.76,6.76,6.76,6.76,6.76,6.76,6.76,6.76,6.76,6.7575,6.756666666666667,6.755,6.7542857142857144,6.753333333333333,6.750625,6.75,6.75,6.75,6.75,6.75,6.75,6.75,6.75,6.75,6.75,6.75,6.75,6.75,6.75,6.75,6.75,6.7491666666666665,6.746666666666667,6.746666666666667,6.745555555555556,6.745,6.745,6.745,6.740833333333334,6.74,6.74,6.74,6.74,6.74,6.74,6.74,6.74,6.74,6.74,6.739999999999999,6.737500000000001,6.736666666666667,6.736,6.735714285714286,6.730625,6.73,6.73,6.73,6.73,6.73,6.73,6.73,6.73,6.73,6.73,6.73,6.7299999999999995,6.725999999999999,6.725,6.725,6.723333333333334,6.7225,6.720769230769231,6.72,6.72,6.72,6.72,6.72,6.72,6.72,6.72,6.72,6.72,6.72,6.72,6.72,6.72,6.72,6.72,6.72,6.72,6.716666666666666,6.715714285714285,6.715,6.715,6.711111111111111,6.71,6.71,6.71,6.71,6.71,6.71,6.71,6.71,6.71,6.71,6.71,6.71,6.71,6.71,6.71,6.71,6.705,6.705,6.703333333333333,6.7,6.7,6.7,6.6971428571428575,6.695,6.695,6.695,6.690833333333334,6.69,6.69,6.69,6.69,6.69,6.69,6.69,6.69,6.69,6.69,6.69,6.69,6.69,6.6899999999999995,6.689230769230769,6.6866666666666665,6.6850000000000005,6.683333333333334,6.68125,6.68,6.68,6.68,6.68,6.68,6.68,6.68,6.68,6.68,6.68,6.68,6.68,6.68,6.68,6.68,6.68,6.676666666666667,6.675000000000001,6.675,6.675,6.673333333333333,6.673333333333333,6.672499999999999,6.670000000000001,6.67,6.67,6.67,6.67,6.67,6.67,6.67,6.67,6.67,6.67,6.67,6.666666666666667,6.665,6.665,6.665,6.661,6.66,6.66,6.66,6.66,6.66,6.66,6.66,6.66,6.66,6.66,6.66,6.66,6.657777777777778,6.656000000000001,6.6553571428571425,6.655,6.655,6.654999999999999,6.654999999999999,6.65,6.65,6.65,6.65,6.65,6.65,6.65,6.65,6.65,6.646666666666666,6.645599999999999,6.645,6.6425,6.640000000000001,6.640000000000001,6.64,6.64,6.64,6.64,6.64,6.6353333333333335,6.631666666666667,6.63,6.63,6.63,6.63,6.63,6.63,6.63,6.63,6.63,6.63,6.63,6.63,6.627142857142857,6.625,6.625,6.6225,6.62,6.62,6.62,6.62,6.62,6.619999999999999,6.619705882352941,6.616666666666667,6.613333333333333,6.6123529411764705,6.61,6.61,6.61,6.61,6.61,6.61,6.61,6.609999999999999,6.605,6.605,6.605,6.6000000000000005,6.6000000000000005,6.6,6.6,6.6,6.6,6.6,6.6,6.6,6.6,6.6,6.6,6.6,6.5975,6.5975,6.595904761904762,6.595000000000001,6.595,6.595,6.5920000000000005,6.59,6.59,6.59,6.59,6.59,6.59,6.586666666666666,6.585,6.585,6.585,6.585,6.581818181818182,6.58,6.58,6.58,6.58,6.58,6.58,6.58,6.58,6.58,6.58,6.58,6.575555555555556,6.575,6.574999999999999,6.571428571428571,6.57,6.57,6.57,6.57,6.57,6.57,6.57,6.57,6.57,6.57,6.57,6.569333333333334,6.566666666666666,6.566363636363636,6.56,6.56,6.56,6.56,6.56,6.56,6.56,6.56,6.56,6.56,6.56,6.558888888888889,6.555,6.55,6.55,6.55,6.55,6.55,6.55,6.546666666666667,6.546666666666667,6.545,6.543333333333333,6.540833333333333,6.540555555555556,6.54,6.54,6.54,6.54,6.54,6.54,6.54,6.54,6.54,6.54,6.539999999999999,6.536666666666666,6.535,6.535,6.534000000000001,6.533333333333334,6.531999999999999,6.53,6.53,6.53,6.53,6.53,6.53,6.53,6.53,6.526666666666666,6.525,6.525,6.52,6.52,6.52,6.52,6.52,6.52,6.52,6.52,6.52,6.519610389610389,6.518571428571429,6.516666666666667,6.5138461538461545,6.510000000000001,6.51,6.51,6.51,6.51,6.51,6.51,6.51,6.51,6.51,6.51,6.503043478260869,6.502222222222223,6.5,6.5,6.5,6.5,6.5,6.5,6.5,6.5,6.5,6.5,6.5,6.5,6.5,6.5,6.5,6.4975,6.496666666666666,6.495,6.495,6.49,6.49,6.49,6.49,6.49,6.49,6.49,6.49,6.49,6.49,6.487777777777778,6.4875,6.486666666666667,6.484999999999999,6.4819047619047625,6.48,6.48,6.48,6.48,6.48,6.48,6.48,6.478,6.475,6.475,6.475,6.475,6.475,6.473333333333333,6.470000000000001,6.47,6.47,6.47,6.47,6.47,6.47,6.47,6.47,6.47,6.47,6.47,6.47,6.465,6.462000000000001,6.46,6.46,6.46,6.46,6.46,6.46,6.46,6.46,6.46,6.4575,6.4575,6.456,6.455,6.455,6.453333333333333,6.45,6.45,6.45,6.45,6.45,6.45,6.45,6.45,6.45,6.45,6.449999999999999,6.447391304347826,6.445555555555555,6.443333333333334,6.44,6.44,6.44,6.44,6.44,6.44,6.44,6.44,6.44,6.44,6.44,6.44,6.44,6.44,6.44,6.436875,6.4350000000000005,6.433333333333334,6.43,6.43,6.43,6.43,6.43,6.429230769230769,6.428333333333334,6.428,6.425,6.4239999999999995,6.423333333333333,6.42,6.42,6.42,6.42,6.42,6.42,6.42,6.42,6.42,6.42,6.42,6.42,6.42,6.42,6.4175,6.4175,6.415,6.415,6.413333333333333,6.412999999999999,6.4125,6.41,6.41,6.41,6.41,6.41,6.41,6.41,6.41,6.41,6.41,6.41,6.41,6.406666666666666,6.405,6.405,6.403333333333333,6.401153846153846,6.4,6.4,6.4,6.4,6.4,6.4,6.4,6.4,6.4,6.4,6.4,6.4,6.4,6.4,6.3975,6.396666666666666,6.3925,6.390000000000001,6.39,6.39,6.39,6.39,6.39,6.383333333333333,6.382,6.380434782608695,6.3803125,6.38,6.38,6.38,6.38,6.38,6.38,6.38,6.38,6.38,6.375,6.375,6.373333333333334,6.37,6.37,6.37,6.37,6.37,6.37,6.37,6.37,6.37,6.366666666666667,6.365,6.362266666666667,6.36,6.36,6.36,6.36,6.36,6.36,6.36,6.36,6.36,6.36,6.36,6.359999999999999,6.359999999999999,6.357,6.3566666666666665,6.355,6.353333333333334,6.35258064516129,6.35,6.35,6.35,6.35,6.35,6.35,6.35,6.35,6.35,6.35,6.3488,6.3469999999999995,6.345,6.343333333333334,6.34,6.34,6.34,6.34,6.34,6.34,6.34,6.34,6.34,6.34,6.34,6.34,6.34,6.336666666666666,6.332448979591837,6.33,6.33,6.33,6.33,6.33,6.33,6.33,6.33,6.33,6.33,6.33,6.3296875,6.327500000000001,6.325,6.32,6.32,6.32,6.32,6.32,6.32,6.32,6.32,6.32,6.32,6.32,6.32,6.32,6.316666666666666,6.315,6.3149999999999995,6.3149999999999995,6.3133333333333335,6.311428571428571,6.3100000000000005,6.3100000000000005,6.31,6.31,6.31,6.31,6.31,6.31,6.31,6.31,6.31,6.305,6.304285714285713,6.300000000000001,6.3,6.3,6.3,6.3,6.3,6.3,6.3,6.3,6.3,6.3,6.2973684210526315,6.293333333333333,6.29,6.29,6.29,6.29,6.29,6.29,6.289166666666667,6.283636363636364,6.281428571428571,6.28,6.28,6.28,6.28,6.28,6.28,6.28,6.273333333333333,6.27054054054054,6.27,6.27,6.27,6.27,6.27,6.27,6.27,6.27,6.27,6.27,6.27,6.27,6.27,6.262857142857143,6.26,6.26,6.26,6.26,6.26,6.26,6.26,6.256666666666667,6.255949367088608,6.255853658536585,6.255,6.25,6.25,6.25,6.25,6.25,6.25,6.25,6.25,6.25,6.25,6.25,6.25,6.25,6.25,6.25,6.25,6.247307692307692,6.245,6.24,6.24,6.24,6.24,6.239999999999999,6.236666666666667,6.236111111111111,6.235,6.233333333333333,6.23,6.23,6.23,6.23,6.23,6.23,6.23,6.23,6.23,6.23,6.23,6.23,6.228571428571429,6.22781862745098,6.226666666666667,6.225,6.225,6.223333333333334,6.220000000000001,6.22,6.22,6.22,6.22,6.22,6.22,6.22,6.218095238095239,6.216666666666666,6.215,6.215,6.21,6.21,6.21,6.21,6.21,6.208,6.2057142857142855,6.205,6.204999999999999,6.2,6.2,6.2,6.2,6.2,6.2,6.2,6.2,6.2,6.2,6.2,6.2,6.2,6.199999999999999,6.195882352941176,6.19,6.19,6.19,6.19,6.19,6.19,6.187333333333333,6.1866666666666665,6.182241379310345,6.18,6.18,6.18,6.18,6.178557692307693,6.176666666666667,6.176666666666667,6.175,6.172727272727273,6.17,6.17,6.17,6.17,6.17,6.17,6.17,6.17,6.17,6.17,6.165,6.1625,6.16,6.16,6.16,6.16,6.1579999999999995,6.156666666666666,6.155,6.155,6.154999999999999,6.153333333333332,6.15,6.15,6.15,6.146666666666667,6.1433333333333335,6.140000000000001,6.140000000000001,6.14,6.14,6.14,6.14,6.14,6.14,6.135,6.132,6.13126582278481,6.13,6.13,6.13,6.13,6.13,6.128,6.12,6.12,6.12,6.12,6.12,6.12,6.117777777777778,6.11,6.11,6.11,6.11,6.11,6.11,6.1066666666666665,6.1066666666666665,6.106315789473684,6.105,6.105,6.105,6.104285714285714,6.103515625,6.1,6.1,6.097272727272728,6.095,6.09,6.09,6.09,6.09,6.0874999999999995,6.086666666666666,6.085,6.083333333333333,6.08,6.08,6.08,6.08,6.08,6.08,6.08,6.076666666666667,6.075365853658536,6.074999999999999,6.07,6.07,6.07,6.069285714285714,6.069,6.062903225806451,6.062857142857142,6.0600000000000005,6.06,6.06,6.06,6.06,6.06,6.06,6.06,6.058888888888889,6.0566666666666675,6.056363636363637,6.053333333333334,6.052051282051282,6.051428571428572,6.05,6.05,6.05,6.05,6.05,6.05,6.04111111111111,6.04,6.04,6.04,6.04,6.04,6.04,6.0375,6.03625,6.035,6.033333333333334,6.032962962962962,6.03,6.03,6.03,6.03,6.03,6.023333333333333,6.02,6.02,6.02,6.02,6.02,6.02,6.016666666666667,6.016666666666667,6.015,6.010000000000001,6.01,6.01,6.01,6.01,6.01,6.006904761904762,6.006,6.0,6.0,6.0,6.0,6.0,6.0,6.0,6.0,6.0,6.0,6.0,6.0,6.0,6.0,5.9990000000000006,5.99,5.99,5.99,5.99,5.99,5.988571428571428,5.987636363636364,5.986666666666667,5.98125,5.98,5.98,5.98,5.98,5.98,5.98,5.98,5.97,5.97,5.966153846153846,5.961111111111111,5.96,5.96,5.96,5.96,5.956,5.953333333333333,5.95,5.94,5.94,5.94,5.94,5.9399999999999995,5.9350000000000005,5.9350000000000005,5.9350000000000005,5.932,5.93,5.93,5.93,5.9275,5.925,5.922727272727273,5.921111111111111,5.92,5.92,5.92,5.92,5.915,5.915,5.91,5.91,5.91,5.91,5.91,5.91,5.91,5.91,5.91,5.91,5.91,5.906666666666666,5.906666666666666,5.904999999999999,5.904999999999999,5.9,5.9,5.9,5.9,5.9,5.896666666666667,5.895714285714285,5.893333333333333,5.891666666666667,5.89,5.88,5.88,5.88,5.88,5.88,5.871499999999999,5.87,5.87,5.87,5.87,5.87,5.86,5.86,5.86,5.855714285714286,5.855,5.852380038387716,5.851111111111111,5.85,5.85,5.85,5.85,5.85,5.85,5.85,5.846071428571428,5.845000000000001,5.843333333333334,5.84,5.84,5.84,5.835,5.83,5.83,5.83,5.83,5.83,5.83,5.83,5.822727272727273,5.82,5.82,5.82,5.815471698113208,5.812,5.81,5.81,5.81,5.81,5.81,5.809876543209877,5.8075,5.800000000000001,5.8,5.8,5.8,5.79,5.79,5.79,5.786666666666666,5.785,5.78,5.78,5.78,5.78,5.78,5.78,5.78,5.773846153846154,5.77,5.77,5.76,5.76,5.756531986531987,5.753333333333333,5.75,5.75,5.75,5.75,5.75,5.75,5.75,5.748,5.746060606060606,5.74,5.74,5.74,5.74,5.74,5.73,5.73,5.7275,5.725,5.72,5.72,5.72,5.72,5.72,5.716666666666668,5.715,5.713333333333334,5.71,5.71,5.71,5.71,5.71,5.71,5.705,5.703333333333333,5.7,5.7,5.7,5.7,5.7,5.7,5.7,5.69,5.69,5.69,5.6899999999999995,5.6850000000000005,5.683333333333334,5.68,5.68,5.68,5.68,5.68,5.68,5.676666666666667,5.67625,5.671379310344827,5.67,5.67,5.67,5.67,5.67,5.67,5.669999999999999,5.66,5.657157360406091,5.655,5.65,5.646666666666666,5.645,5.645,5.645,5.640000000000001,5.640000000000001,5.64,5.64,5.64,5.636666666666667,5.63,5.63,5.63,5.63,5.625,5.625,5.62,5.62,5.62,5.6175,5.615,5.613333333333333,5.61,5.61,5.61,5.61,5.6066666666666665,5.604,5.6,5.6,5.59,5.59,5.58,5.58,5.576666666666667,5.575625,5.57,5.57,5.563571428571429,5.561999999999999,5.5600000000000005,5.56,5.56,5.553333333333334,5.55,5.55,5.55,5.545555555555556,5.545,5.541666666666667,5.54,5.54,5.53,5.53,5.53,5.53,5.53,5.523333333333333,5.52,5.52,5.5175,5.51,5.506666666666667,5.5,5.5,5.5,5.5,5.5,5.5,5.496666666666667,5.495,5.49,5.49,5.49,5.49,5.48,5.48,5.48,5.48,5.48,5.48,5.47,5.47,5.47,5.460000000000001,5.46,5.46,5.454999999999999,5.45,5.45,5.45,5.45,5.45,5.45,5.45,5.446,5.445,5.445,5.44,5.44,5.44,5.44,5.4399999999999995,5.43,5.43,5.43,5.425000000000001,5.42,5.42,5.4175,5.415,5.41,5.41,5.41,5.41,5.41,5.4,5.3999999999999995,5.3999999999999995,5.395,5.395,5.39,5.38,5.38,5.377142857142857,5.375,5.375,5.375,5.37,5.37,5.365,5.363333333333333,5.36,5.358510638297872,5.355,5.35,5.345,5.341666666666666,5.34,5.34,5.33,5.33,5.32,5.32,5.31,5.31,5.3,5.29,5.29,5.29,5.2835,5.28,5.2780000000000005,5.27,5.27,5.27,5.265000000000001,5.26,5.26,5.255,5.255,5.25,5.25,5.25,5.246666666666667,5.24,5.236,5.234999999999999,5.23,5.23,5.23,5.23,5.22,5.216666666666667,5.21,5.195,5.19,5.19,5.1850000000000005,5.18,5.17,5.17,5.16,5.16,5.15,5.15,5.14,5.14,5.14,5.14,5.136666666666667,5.13,5.13,5.125,5.12,5.11,5.11,5.11,5.1,5.1,5.1,5.086,5.08,5.08,5.077692307692308,5.05,5.03,5.01,5.01,5.0,5.0,5.0,5.0,5.0,4.97,4.96,4.96,4.957684210526316,4.95,4.94,4.92,4.91,4.9,4.9,4.890000000000001,4.89,4.89,4.885,4.88,4.875,4.87,4.87,4.85,4.85,4.85,4.85,4.842499999999999,4.83,4.82,4.81,4.81,4.8,4.79,4.76,4.76,4.76,4.758333333333333,4.75,4.75,4.75,4.73,4.725,4.720000000000001,4.71,4.7,4.693636363636364,4.69,4.677142857142857,4.67,4.67,4.66,4.62,4.5984671532846715,4.58,4.579090909090909,4.54,4.54,4.52,4.505,4.5,4.49,4.48,4.44,4.42,4.35,4.335,4.33,4.33,4.33,4.33,4.31,4.3,4.3,4.3,4.3,4.27,4.27,4.26,4.24,4.19,4.18,4.145,4.13,4.12,4.093333333333333,4.09,4.08,4.07,4.05,4.04,4.03,3.98,3.96,3.9,3.82,3.78,3.74,3.69,3.63,3.61,3.6,3.58,3.57,3.56,3.48,3.32,3.26,3.25,3.21,2.55],\"yaxis\":\"y\",\"type\":\"histogram\"}],                        {\"template\":{\"data\":{\"histogram2dcontour\":[{\"type\":\"histogram2dcontour\",\"colorbar\":{\"outlinewidth\":0,\"ticks\":\"\"},\"colorscale\":[[0.0,\"#0d0887\"],[0.1111111111111111,\"#46039f\"],[0.2222222222222222,\"#7201a8\"],[0.3333333333333333,\"#9c179e\"],[0.4444444444444444,\"#bd3786\"],[0.5555555555555556,\"#d8576b\"],[0.6666666666666666,\"#ed7953\"],[0.7777777777777778,\"#fb9f3a\"],[0.8888888888888888,\"#fdca26\"],[1.0,\"#f0f921\"]]}],\"choropleth\":[{\"type\":\"choropleth\",\"colorbar\":{\"outlinewidth\":0,\"ticks\":\"\"}}],\"histogram2d\":[{\"type\":\"histogram2d\",\"colorbar\":{\"outlinewidth\":0,\"ticks\":\"\"},\"colorscale\":[[0.0,\"#0d0887\"],[0.1111111111111111,\"#46039f\"],[0.2222222222222222,\"#7201a8\"],[0.3333333333333333,\"#9c179e\"],[0.4444444444444444,\"#bd3786\"],[0.5555555555555556,\"#d8576b\"],[0.6666666666666666,\"#ed7953\"],[0.7777777777777778,\"#fb9f3a\"],[0.8888888888888888,\"#fdca26\"],[1.0,\"#f0f921\"]]}],\"heatmap\":[{\"type\":\"heatmap\",\"colorbar\":{\"outlinewidth\":0,\"ticks\":\"\"},\"colorscale\":[[0.0,\"#0d0887\"],[0.1111111111111111,\"#46039f\"],[0.2222222222222222,\"#7201a8\"],[0.3333333333333333,\"#9c179e\"],[0.4444444444444444,\"#bd3786\"],[0.5555555555555556,\"#d8576b\"],[0.6666666666666666,\"#ed7953\"],[0.7777777777777778,\"#fb9f3a\"],[0.8888888888888888,\"#fdca26\"],[1.0,\"#f0f921\"]]}],\"heatmapgl\":[{\"type\":\"heatmapgl\",\"colorbar\":{\"outlinewidth\":0,\"ticks\":\"\"},\"colorscale\":[[0.0,\"#0d0887\"],[0.1111111111111111,\"#46039f\"],[0.2222222222222222,\"#7201a8\"],[0.3333333333333333,\"#9c179e\"],[0.4444444444444444,\"#bd3786\"],[0.5555555555555556,\"#d8576b\"],[0.6666666666666666,\"#ed7953\"],[0.7777777777777778,\"#fb9f3a\"],[0.8888888888888888,\"#fdca26\"],[1.0,\"#f0f921\"]]}],\"contourcarpet\":[{\"type\":\"contourcarpet\",\"colorbar\":{\"outlinewidth\":0,\"ticks\":\"\"}}],\"contour\":[{\"type\":\"contour\",\"colorbar\":{\"outlinewidth\":0,\"ticks\":\"\"},\"colorscale\":[[0.0,\"#0d0887\"],[0.1111111111111111,\"#46039f\"],[0.2222222222222222,\"#7201a8\"],[0.3333333333333333,\"#9c179e\"],[0.4444444444444444,\"#bd3786\"],[0.5555555555555556,\"#d8576b\"],[0.6666666666666666,\"#ed7953\"],[0.7777777777777778,\"#fb9f3a\"],[0.8888888888888888,\"#fdca26\"],[1.0,\"#f0f921\"]]}],\"surface\":[{\"type\":\"surface\",\"colorbar\":{\"outlinewidth\":0,\"ticks\":\"\"},\"colorscale\":[[0.0,\"#0d0887\"],[0.1111111111111111,\"#46039f\"],[0.2222222222222222,\"#7201a8\"],[0.3333333333333333,\"#9c179e\"],[0.4444444444444444,\"#bd3786\"],[0.5555555555555556,\"#d8576b\"],[0.6666666666666666,\"#ed7953\"],[0.7777777777777778,\"#fb9f3a\"],[0.8888888888888888,\"#fdca26\"],[1.0,\"#f0f921\"]]}],\"mesh3d\":[{\"type\":\"mesh3d\",\"colorbar\":{\"outlinewidth\":0,\"ticks\":\"\"}}],\"scatter\":[{\"fillpattern\":{\"fillmode\":\"overlay\",\"size\":10,\"solidity\":0.2},\"type\":\"scatter\"}],\"parcoords\":[{\"type\":\"parcoords\",\"line\":{\"colorbar\":{\"outlinewidth\":0,\"ticks\":\"\"}}}],\"scatterpolargl\":[{\"type\":\"scatterpolargl\",\"marker\":{\"colorbar\":{\"outlinewidth\":0,\"ticks\":\"\"}}}],\"bar\":[{\"error_x\":{\"color\":\"#2a3f5f\"},\"error_y\":{\"color\":\"#2a3f5f\"},\"marker\":{\"line\":{\"color\":\"#E5ECF6\",\"width\":0.5},\"pattern\":{\"fillmode\":\"overlay\",\"size\":10,\"solidity\":0.2}},\"type\":\"bar\"}],\"scattergeo\":[{\"type\":\"scattergeo\",\"marker\":{\"colorbar\":{\"outlinewidth\":0,\"ticks\":\"\"}}}],\"scatterpolar\":[{\"type\":\"scatterpolar\",\"marker\":{\"colorbar\":{\"outlinewidth\":0,\"ticks\":\"\"}}}],\"histogram\":[{\"marker\":{\"pattern\":{\"fillmode\":\"overlay\",\"size\":10,\"solidity\":0.2}},\"type\":\"histogram\"}],\"scattergl\":[{\"type\":\"scattergl\",\"marker\":{\"colorbar\":{\"outlinewidth\":0,\"ticks\":\"\"}}}],\"scatter3d\":[{\"type\":\"scatter3d\",\"line\":{\"colorbar\":{\"outlinewidth\":0,\"ticks\":\"\"}},\"marker\":{\"colorbar\":{\"outlinewidth\":0,\"ticks\":\"\"}}}],\"scattermapbox\":[{\"type\":\"scattermapbox\",\"marker\":{\"colorbar\":{\"outlinewidth\":0,\"ticks\":\"\"}}}],\"scatterternary\":[{\"type\":\"scatterternary\",\"marker\":{\"colorbar\":{\"outlinewidth\":0,\"ticks\":\"\"}}}],\"scattercarpet\":[{\"type\":\"scattercarpet\",\"marker\":{\"colorbar\":{\"outlinewidth\":0,\"ticks\":\"\"}}}],\"carpet\":[{\"aaxis\":{\"endlinecolor\":\"#2a3f5f\",\"gridcolor\":\"white\",\"linecolor\":\"white\",\"minorgridcolor\":\"white\",\"startlinecolor\":\"#2a3f5f\"},\"baxis\":{\"endlinecolor\":\"#2a3f5f\",\"gridcolor\":\"white\",\"linecolor\":\"white\",\"minorgridcolor\":\"white\",\"startlinecolor\":\"#2a3f5f\"},\"type\":\"carpet\"}],\"table\":[{\"cells\":{\"fill\":{\"color\":\"#EBF0F8\"},\"line\":{\"color\":\"white\"}},\"header\":{\"fill\":{\"color\":\"#C8D4E3\"},\"line\":{\"color\":\"white\"}},\"type\":\"table\"}],\"barpolar\":[{\"marker\":{\"line\":{\"color\":\"#E5ECF6\",\"width\":0.5},\"pattern\":{\"fillmode\":\"overlay\",\"size\":10,\"solidity\":0.2}},\"type\":\"barpolar\"}],\"pie\":[{\"automargin\":true,\"type\":\"pie\"}]},\"layout\":{\"autotypenumbers\":\"strict\",\"colorway\":[\"#636efa\",\"#EF553B\",\"#00cc96\",\"#ab63fa\",\"#FFA15A\",\"#19d3f3\",\"#FF6692\",\"#B6E880\",\"#FF97FF\",\"#FECB52\"],\"font\":{\"color\":\"#2a3f5f\"},\"hovermode\":\"closest\",\"hoverlabel\":{\"align\":\"left\"},\"paper_bgcolor\":\"white\",\"plot_bgcolor\":\"#E5ECF6\",\"polar\":{\"bgcolor\":\"#E5ECF6\",\"angularaxis\":{\"gridcolor\":\"white\",\"linecolor\":\"white\",\"ticks\":\"\"},\"radialaxis\":{\"gridcolor\":\"white\",\"linecolor\":\"white\",\"ticks\":\"\"}},\"ternary\":{\"bgcolor\":\"#E5ECF6\",\"aaxis\":{\"gridcolor\":\"white\",\"linecolor\":\"white\",\"ticks\":\"\"},\"baxis\":{\"gridcolor\":\"white\",\"linecolor\":\"white\",\"ticks\":\"\"},\"caxis\":{\"gridcolor\":\"white\",\"linecolor\":\"white\",\"ticks\":\"\"}},\"coloraxis\":{\"colorbar\":{\"outlinewidth\":0,\"ticks\":\"\"}},\"colorscale\":{\"sequential\":[[0.0,\"#0d0887\"],[0.1111111111111111,\"#46039f\"],[0.2222222222222222,\"#7201a8\"],[0.3333333333333333,\"#9c179e\"],[0.4444444444444444,\"#bd3786\"],[0.5555555555555556,\"#d8576b\"],[0.6666666666666666,\"#ed7953\"],[0.7777777777777778,\"#fb9f3a\"],[0.8888888888888888,\"#fdca26\"],[1.0,\"#f0f921\"]],\"sequentialminus\":[[0.0,\"#0d0887\"],[0.1111111111111111,\"#46039f\"],[0.2222222222222222,\"#7201a8\"],[0.3333333333333333,\"#9c179e\"],[0.4444444444444444,\"#bd3786\"],[0.5555555555555556,\"#d8576b\"],[0.6666666666666666,\"#ed7953\"],[0.7777777777777778,\"#fb9f3a\"],[0.8888888888888888,\"#fdca26\"],[1.0,\"#f0f921\"]],\"diverging\":[[0,\"#8e0152\"],[0.1,\"#c51b7d\"],[0.2,\"#de77ae\"],[0.3,\"#f1b6da\"],[0.4,\"#fde0ef\"],[0.5,\"#f7f7f7\"],[0.6,\"#e6f5d0\"],[0.7,\"#b8e186\"],[0.8,\"#7fbc41\"],[0.9,\"#4d9221\"],[1,\"#276419\"]]},\"xaxis\":{\"gridcolor\":\"white\",\"linecolor\":\"white\",\"ticks\":\"\",\"title\":{\"standoff\":15},\"zerolinecolor\":\"white\",\"automargin\":true,\"zerolinewidth\":2},\"yaxis\":{\"gridcolor\":\"white\",\"linecolor\":\"white\",\"ticks\":\"\",\"title\":{\"standoff\":15},\"zerolinecolor\":\"white\",\"automargin\":true,\"zerolinewidth\":2},\"scene\":{\"xaxis\":{\"backgroundcolor\":\"#E5ECF6\",\"gridcolor\":\"white\",\"linecolor\":\"white\",\"showbackground\":true,\"ticks\":\"\",\"zerolinecolor\":\"white\",\"gridwidth\":2},\"yaxis\":{\"backgroundcolor\":\"#E5ECF6\",\"gridcolor\":\"white\",\"linecolor\":\"white\",\"showbackground\":true,\"ticks\":\"\",\"zerolinecolor\":\"white\",\"gridwidth\":2},\"zaxis\":{\"backgroundcolor\":\"#E5ECF6\",\"gridcolor\":\"white\",\"linecolor\":\"white\",\"showbackground\":true,\"ticks\":\"\",\"zerolinecolor\":\"white\",\"gridwidth\":2}},\"shapedefaults\":{\"line\":{\"color\":\"#2a3f5f\"}},\"annotationdefaults\":{\"arrowcolor\":\"#2a3f5f\",\"arrowhead\":0,\"arrowwidth\":1},\"geo\":{\"bgcolor\":\"white\",\"landcolor\":\"#E5ECF6\",\"subunitcolor\":\"white\",\"showland\":true,\"showlakes\":true,\"lakecolor\":\"white\"},\"title\":{\"x\":0.05},\"mapbox\":{\"style\":\"light\"}}},\"xaxis\":{\"anchor\":\"y\",\"domain\":[0.0,1.0],\"title\":{\"text\":\"genre\"}},\"yaxis\":{\"anchor\":\"x\",\"domain\":[0.0,1.0],\"title\":{\"text\":\"sum of rating\"},\"range\":[8,9.5]},\"legend\":{\"tracegroupgap\":0},\"margin\":{\"t\":60},\"barmode\":\"relative\"},                        {\"responsive\": true}                    ).then(function(){\n",
              "                            \n",
              "var gd = document.getElementById('18581414-d4e9-428e-baca-9057d78f03b3');\n",
              "var x = new MutationObserver(function (mutations, observer) {{\n",
              "        var display = window.getComputedStyle(gd).display;\n",
              "        if (!display || display === 'none') {{\n",
              "            console.log([gd, 'removed!']);\n",
              "            Plotly.purge(gd);\n",
              "            observer.disconnect();\n",
              "        }}\n",
              "}});\n",
              "\n",
              "// Listen for the removal of the full notebook cells\n",
              "var notebookContainer = gd.closest('#notebook-container');\n",
              "if (notebookContainer) {{\n",
              "    x.observe(notebookContainer, {childList: true});\n",
              "}}\n",
              "\n",
              "// Listen for the clearing of the current output cell\n",
              "var outputEl = gd.closest('.output');\n",
              "if (outputEl) {{\n",
              "    x.observe(outputEl, {childList: true});\n",
              "}}\n",
              "\n",
              "                        })                };                            </script>        </div>\n",
              "</body>\n",
              "</html>"
            ]
          },
          "metadata": {}
        }
      ]
    },
    {
      "cell_type": "code",
      "source": [
        "TablaRating.iloc[10:20]\n",
        "Select rows 10-20."
      ],
      "metadata": {
        "colab": {
          "base_uri": "https://localhost:8080/",
          "height": 130
        },
        "id": "WGPUfAUncBWn",
        "outputId": "3bd53502-fe89-453f-c1bc-38ea0bc26506"
      },
      "execution_count": null,
      "outputs": [
        {
          "output_type": "error",
          "ename": "SyntaxError",
          "evalue": "ignored",
          "traceback": [
            "\u001b[0;36m  File \u001b[0;32m\"<ipython-input-44-f1af69eeb00f>\"\u001b[0;36m, line \u001b[0;32m2\u001b[0m\n\u001b[0;31m    Select rows 10-20.\u001b[0m\n\u001b[0m           ^\u001b[0m\n\u001b[0;31mSyntaxError\u001b[0m\u001b[0;31m:\u001b[0m invalid syntax\n"
          ]
        }
      ]
    }
  ]
}